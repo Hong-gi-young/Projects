{
  "nbformat": 4,
  "nbformat_minor": 0,
  "metadata": {
    "colab": {
      "name": "따릉이 수요예측.ipynb",
      "provenance": [],
      "collapsed_sections": [],
      "toc_visible": true,
      "include_colab_link": true
    },
    "kernelspec": {
      "display_name": "Python 3",
      "language": "python",
      "name": "python3"
    },
    "language_info": {
      "codemirror_mode": {
        "name": "ipython",
        "version": 3
      },
      "file_extension": ".py",
      "mimetype": "text/x-python",
      "name": "python",
      "nbconvert_exporter": "python",
      "pygments_lexer": "ipython3",
      "version": "3.8.3"
    }
  },
  "cells": [
    {
      "cell_type": "markdown",
      "metadata": {
        "id": "view-in-github",
        "colab_type": "text"
      },
      "source": [
        "<a href=\"https://colab.research.google.com/github/Hong-gi-young/Projects/blob/main/%EB%94%B0%EB%A6%89%EC%9D%B4_%EC%88%98%EC%9A%94%EC%98%88%EC%B8%A1.ipynb\" target=\"_parent\"><img src=\"https://colab.research.google.com/assets/colab-badge.svg\" alt=\"Open In Colab\"/></a>"
      ]
    },
    {
      "cell_type": "markdown",
      "metadata": {
        "id": "0Nj76qUe2lnA"
      },
      "source": [
        "## 따릉이 데이터를 활용한 데이터 분석"
      ]
    },
    {
      "cell_type": "markdown",
      "metadata": {
        "id": "G40FawyyQl8c"
      },
      "source": [
        "- 각 날짜의 1시간 전의 기상상황을 가지고 1시간 후의 따릉이 대여수를 예측해보세요. "
      ]
    },
    {
      "cell_type": "markdown",
      "metadata": {
        "id": "JYHb_Mf-2lnG"
      },
      "source": [
        "## 1. 라이브러리 및 데이터\n",
        "## Library & Data"
      ]
    },
    {
      "cell_type": "markdown",
      "metadata": {
        "id": "6EhFglxAHnHj"
      },
      "source": [
        "+ id : 날짜와 시간별 id\n",
        "+ hour_bef_temperature : 1시간 전 기온\n",
        "+ hour_bef_precipitation : 1시간 전 비 정보, 비가 오지 않았으면 0, 비가 오면 1\n",
        "+ hour_bef_windspeed : 1시간 전 풍속(평균)\n",
        "+ hour_bef_humidity : 1시간 전 습도\n",
        "+ hour_bef_visibility : 1시간 전 시정(視程), 시계(視界)(특정 기상 상태에 따른 가시성을 의미)\n",
        "+ hour_bef_ozone : 1시간 전 오존\n",
        "+ hour_bef_pm10 : 1시간 전 미세먼지(머리카락 굵기의 1/5에서 1/7 크기의 미세먼지)\n",
        "+ hour_bef_pm2.5 : 1시간 전 미세먼지(머리카락 굵기의 1/20에서 1/30 크기의 미세먼지)\n",
        "+ count : 시간에 따른 따릉이 대여 수 "
      ]
    },
    {
      "cell_type": "code",
      "metadata": {
        "id": "G9yRnuJwQTFg",
        "colab": {
          "base_uri": "https://localhost:8080/"
        },
        "outputId": "e2f5c8bf-8fd8-4221-c8ab-728e34a4c676"
      },
      "source": [
        "!sudo apt-get install -y fonts-nanum\n",
        "!sudo fc-cache -fv\n",
        "!rm ~/.cache/matplotlib -rf"
      ],
      "execution_count": null,
      "outputs": [
        {
          "output_type": "stream",
          "name": "stdout",
          "text": [
            "Reading package lists... Done\n",
            "Building dependency tree       \n",
            "Reading state information... Done\n",
            "The following NEW packages will be installed:\n",
            "  fonts-nanum\n",
            "0 upgraded, 1 newly installed, 0 to remove and 37 not upgraded.\n",
            "Need to get 9,604 kB of archives.\n",
            "After this operation, 29.5 MB of additional disk space will be used.\n",
            "Get:1 http://archive.ubuntu.com/ubuntu bionic/universe amd64 fonts-nanum all 20170925-1 [9,604 kB]\n",
            "Fetched 9,604 kB in 1s (6,892 kB/s)\n",
            "debconf: unable to initialize frontend: Dialog\n",
            "debconf: (No usable dialog-like program is installed, so the dialog based frontend cannot be used. at /usr/share/perl5/Debconf/FrontEnd/Dialog.pm line 76, <> line 1.)\n",
            "debconf: falling back to frontend: Readline\n",
            "debconf: unable to initialize frontend: Readline\n",
            "debconf: (This frontend requires a controlling tty.)\n",
            "debconf: falling back to frontend: Teletype\n",
            "dpkg-preconfigure: unable to re-open stdin: \n",
            "Selecting previously unselected package fonts-nanum.\n",
            "(Reading database ... 155013 files and directories currently installed.)\n",
            "Preparing to unpack .../fonts-nanum_20170925-1_all.deb ...\n",
            "Unpacking fonts-nanum (20170925-1) ...\n",
            "Setting up fonts-nanum (20170925-1) ...\n",
            "Processing triggers for fontconfig (2.12.6-0ubuntu2) ...\n",
            "/usr/share/fonts: caching, new cache contents: 0 fonts, 1 dirs\n",
            "/usr/share/fonts/truetype: caching, new cache contents: 0 fonts, 3 dirs\n",
            "/usr/share/fonts/truetype/humor-sans: caching, new cache contents: 1 fonts, 0 dirs\n",
            "/usr/share/fonts/truetype/liberation: caching, new cache contents: 16 fonts, 0 dirs\n",
            "/usr/share/fonts/truetype/nanum: caching, new cache contents: 10 fonts, 0 dirs\n",
            "/usr/local/share/fonts: caching, new cache contents: 0 fonts, 0 dirs\n",
            "/root/.local/share/fonts: skipping, no such directory\n",
            "/root/.fonts: skipping, no such directory\n",
            "/var/cache/fontconfig: cleaning cache directory\n",
            "/root/.cache/fontconfig: not cleaning non-existent cache directory\n",
            "/root/.fontconfig: not cleaning non-existent cache directory\n",
            "fc-cache: succeeded\n"
          ]
        }
      ]
    },
    {
      "cell_type": "code",
      "metadata": {
        "id": "pb0OD3v82lnT"
      },
      "source": [
        "import pandas as pd #판다스 패키지 불러오기\n",
        "import seaborn as sns\n",
        "import matplotlib.pyplot as plt\n",
        "from google.colab import drive\n",
        "import numpy as np\n",
        "from sklearn.ensemble import RandomForestRegressor\n",
        "from sklearn.ensemble import AdaBoostRegressor\n",
        "from sklearn.tree import DecisionTreeRegressor\n",
        "from sklearn.linear_model import LogisticRegression\n",
        "from sklearn.neighbors import KNeighborsRegressor\n",
        "from sklearn import linear_model as lm\n",
        "from xgboost import XGBRegressor\n",
        "import lightgbm as lgb\n",
        "from sklearn.model_selection import cross_val_score, KFold\n",
        "from sklearn.model_selection import train_test_split\n",
        "from sklearn.metrics import mean_absolute_error\n",
        "from sklearn.metrics import mean_squared_error\n",
        "from sklearn.model_selection import GridSearchCV\n",
        "from scipy.stats import uniform, randint\n",
        "\n",
        "from sklearn.preprocessing import StandardScaler\n",
        "from sklearn.preprocessing import MinMaxScaler\n",
        "from sklearn.preprocessing import RobustScaler\n",
        "from sklearn.preprocessing import MaxAbsScaler\n",
        "\n",
        "#시각화 한글 폰트\n",
        "plt.rc('font', family='NanumBarunGothic')\n",
        "\n",
        "#경고메세지 숨김\n",
        "import warnings\n",
        "warnings.filterwarnings('ignore')"
      ],
      "execution_count": null,
      "outputs": []
    },
    {
      "cell_type": "code",
      "metadata": {
        "id": "mW-9kTLjQl8k",
        "colab": {
          "base_uri": "https://localhost:8080/"
        },
        "outputId": "66f168e8-b8f1-4f28-e265-fa8aa3aa9ca5"
      },
      "source": [
        "# 데이터 불러오기\n",
        "drive.mount('/content/drive')\n",
        "train = pd.read_csv('/content/drive/MyDrive/따릉이데이터/train.csv', sep=',')\n",
        "test = pd.read_csv('/content/drive/MyDrive/따릉이데이터/test.csv', sep=',')\n",
        "submission = pd.read_csv('/content/drive/MyDrive/따릉이데이터/submission.csv', sep=',')\n",
        "\n",
        "# del train['id']\n",
        "# del test['id']"
      ],
      "execution_count": null,
      "outputs": [
        {
          "output_type": "stream",
          "name": "stdout",
          "text": [
            "Mounted at /content/drive\n"
          ]
        }
      ]
    },
    {
      "cell_type": "code",
      "metadata": {
        "id": "TpBq7N1Ov7nK",
        "colab": {
          "base_uri": "https://localhost:8080/",
          "height": 1000
        },
        "outputId": "df77ca4f-e2a4-4367-d2e9-0680da3e00db"
      },
      "source": [
        "pd.options.display.max_rows=200\n",
        "train_na = train[train['hour_bef_pm2.5'].isna()]\n",
        "train_na"
      ],
      "execution_count": null,
      "outputs": [
        {
          "output_type": "execute_result",
          "data": {
            "text/html": [
              "<div>\n",
              "<style scoped>\n",
              "    .dataframe tbody tr th:only-of-type {\n",
              "        vertical-align: middle;\n",
              "    }\n",
              "\n",
              "    .dataframe tbody tr th {\n",
              "        vertical-align: top;\n",
              "    }\n",
              "\n",
              "    .dataframe thead th {\n",
              "        text-align: right;\n",
              "    }\n",
              "</style>\n",
              "<table border=\"1\" class=\"dataframe\">\n",
              "  <thead>\n",
              "    <tr style=\"text-align: right;\">\n",
              "      <th></th>\n",
              "      <th>id</th>\n",
              "      <th>hour</th>\n",
              "      <th>hour_bef_temperature</th>\n",
              "      <th>hour_bef_precipitation</th>\n",
              "      <th>hour_bef_windspeed</th>\n",
              "      <th>hour_bef_humidity</th>\n",
              "      <th>hour_bef_visibility</th>\n",
              "      <th>hour_bef_ozone</th>\n",
              "      <th>hour_bef_pm10</th>\n",
              "      <th>hour_bef_pm2.5</th>\n",
              "      <th>count</th>\n",
              "    </tr>\n",
              "  </thead>\n",
              "  <tbody>\n",
              "    <tr>\n",
              "      <th>14</th>\n",
              "      <td>28</td>\n",
              "      <td>1</td>\n",
              "      <td>20.0</td>\n",
              "      <td>0.0</td>\n",
              "      <td>1.8</td>\n",
              "      <td>58.0</td>\n",
              "      <td>2000.0</td>\n",
              "      <td>NaN</td>\n",
              "      <td>NaN</td>\n",
              "      <td>NaN</td>\n",
              "      <td>74.0</td>\n",
              "    </tr>\n",
              "    <tr>\n",
              "      <th>33</th>\n",
              "      <td>56</td>\n",
              "      <td>21</td>\n",
              "      <td>10.2</td>\n",
              "      <td>0.0</td>\n",
              "      <td>0.5</td>\n",
              "      <td>84.0</td>\n",
              "      <td>1668.0</td>\n",
              "      <td>0.021</td>\n",
              "      <td>24.0</td>\n",
              "      <td>NaN</td>\n",
              "      <td>127.0</td>\n",
              "    </tr>\n",
              "    <tr>\n",
              "      <th>46</th>\n",
              "      <td>78</td>\n",
              "      <td>1</td>\n",
              "      <td>12.2</td>\n",
              "      <td>0.0</td>\n",
              "      <td>3.0</td>\n",
              "      <td>49.0</td>\n",
              "      <td>1071.0</td>\n",
              "      <td>NaN</td>\n",
              "      <td>NaN</td>\n",
              "      <td>NaN</td>\n",
              "      <td>36.0</td>\n",
              "    </tr>\n",
              "    <tr>\n",
              "      <th>84</th>\n",
              "      <td>130</td>\n",
              "      <td>1</td>\n",
              "      <td>9.4</td>\n",
              "      <td>0.0</td>\n",
              "      <td>2.5</td>\n",
              "      <td>65.0</td>\n",
              "      <td>1907.0</td>\n",
              "      <td>NaN</td>\n",
              "      <td>NaN</td>\n",
              "      <td>NaN</td>\n",
              "      <td>39.0</td>\n",
              "    </tr>\n",
              "    <tr>\n",
              "      <th>100</th>\n",
              "      <td>149</td>\n",
              "      <td>16</td>\n",
              "      <td>15.8</td>\n",
              "      <td>0.0</td>\n",
              "      <td>5.3</td>\n",
              "      <td>17.0</td>\n",
              "      <td>1923.0</td>\n",
              "      <td>0.047</td>\n",
              "      <td>NaN</td>\n",
              "      <td>NaN</td>\n",
              "      <td>102.0</td>\n",
              "    </tr>\n",
              "    <tr>\n",
              "      <th>129</th>\n",
              "      <td>193</td>\n",
              "      <td>19</td>\n",
              "      <td>27.0</td>\n",
              "      <td>0.0</td>\n",
              "      <td>3.6</td>\n",
              "      <td>39.0</td>\n",
              "      <td>2000.0</td>\n",
              "      <td>0.047</td>\n",
              "      <td>NaN</td>\n",
              "      <td>NaN</td>\n",
              "      <td>319.0</td>\n",
              "    </tr>\n",
              "    <tr>\n",
              "      <th>140</th>\n",
              "      <td>206</td>\n",
              "      <td>10</td>\n",
              "      <td>18.2</td>\n",
              "      <td>0.0</td>\n",
              "      <td>2.4</td>\n",
              "      <td>60.0</td>\n",
              "      <td>527.0</td>\n",
              "      <td>NaN</td>\n",
              "      <td>NaN</td>\n",
              "      <td>NaN</td>\n",
              "      <td>66.0</td>\n",
              "    </tr>\n",
              "    <tr>\n",
              "      <th>142</th>\n",
              "      <td>208</td>\n",
              "      <td>1</td>\n",
              "      <td>18.8</td>\n",
              "      <td>0.0</td>\n",
              "      <td>1.1</td>\n",
              "      <td>61.0</td>\n",
              "      <td>2000.0</td>\n",
              "      <td>NaN</td>\n",
              "      <td>NaN</td>\n",
              "      <td>NaN</td>\n",
              "      <td>62.0</td>\n",
              "    </tr>\n",
              "    <tr>\n",
              "      <th>147</th>\n",
              "      <td>220</td>\n",
              "      <td>1</td>\n",
              "      <td>18.4</td>\n",
              "      <td>0.0</td>\n",
              "      <td>3.1</td>\n",
              "      <td>31.0</td>\n",
              "      <td>2000.0</td>\n",
              "      <td>NaN</td>\n",
              "      <td>NaN</td>\n",
              "      <td>NaN</td>\n",
              "      <td>63.0</td>\n",
              "    </tr>\n",
              "    <tr>\n",
              "      <th>158</th>\n",
              "      <td>234</td>\n",
              "      <td>1</td>\n",
              "      <td>15.3</td>\n",
              "      <td>0.0</td>\n",
              "      <td>1.4</td>\n",
              "      <td>77.0</td>\n",
              "      <td>1542.0</td>\n",
              "      <td>NaN</td>\n",
              "      <td>NaN</td>\n",
              "      <td>NaN</td>\n",
              "      <td>41.0</td>\n",
              "    </tr>\n",
              "    <tr>\n",
              "      <th>169</th>\n",
              "      <td>255</td>\n",
              "      <td>16</td>\n",
              "      <td>11.6</td>\n",
              "      <td>1.0</td>\n",
              "      <td>4.3</td>\n",
              "      <td>92.0</td>\n",
              "      <td>320.0</td>\n",
              "      <td>0.041</td>\n",
              "      <td>NaN</td>\n",
              "      <td>NaN</td>\n",
              "      <td>36.0</td>\n",
              "    </tr>\n",
              "    <tr>\n",
              "      <th>176</th>\n",
              "      <td>268</td>\n",
              "      <td>1</td>\n",
              "      <td>8.8</td>\n",
              "      <td>0.0</td>\n",
              "      <td>3.6</td>\n",
              "      <td>62.0</td>\n",
              "      <td>1997.0</td>\n",
              "      <td>NaN</td>\n",
              "      <td>NaN</td>\n",
              "      <td>NaN</td>\n",
              "      <td>45.0</td>\n",
              "    </tr>\n",
              "    <tr>\n",
              "      <th>192</th>\n",
              "      <td>295</td>\n",
              "      <td>8</td>\n",
              "      <td>9.2</td>\n",
              "      <td>0.0</td>\n",
              "      <td>0.8</td>\n",
              "      <td>90.0</td>\n",
              "      <td>347.0</td>\n",
              "      <td>0.022</td>\n",
              "      <td>39.0</td>\n",
              "      <td>NaN</td>\n",
              "      <td>160.0</td>\n",
              "    </tr>\n",
              "    <tr>\n",
              "      <th>222</th>\n",
              "      <td>346</td>\n",
              "      <td>1</td>\n",
              "      <td>12.4</td>\n",
              "      <td>1.0</td>\n",
              "      <td>2.4</td>\n",
              "      <td>99.0</td>\n",
              "      <td>232.0</td>\n",
              "      <td>NaN</td>\n",
              "      <td>NaN</td>\n",
              "      <td>NaN</td>\n",
              "      <td>6.0</td>\n",
              "    </tr>\n",
              "    <tr>\n",
              "      <th>234</th>\n",
              "      <td>366</td>\n",
              "      <td>17</td>\n",
              "      <td>22.3</td>\n",
              "      <td>0.0</td>\n",
              "      <td>2.7</td>\n",
              "      <td>42.0</td>\n",
              "      <td>819.0</td>\n",
              "      <td>0.073</td>\n",
              "      <td>200.0</td>\n",
              "      <td>NaN</td>\n",
              "      <td>151.0</td>\n",
              "    </tr>\n",
              "    <tr>\n",
              "      <th>236</th>\n",
              "      <td>368</td>\n",
              "      <td>1</td>\n",
              "      <td>9.9</td>\n",
              "      <td>0.0</td>\n",
              "      <td>1.3</td>\n",
              "      <td>85.0</td>\n",
              "      <td>522.0</td>\n",
              "      <td>NaN</td>\n",
              "      <td>NaN</td>\n",
              "      <td>NaN</td>\n",
              "      <td>35.0</td>\n",
              "    </tr>\n",
              "    <tr>\n",
              "      <th>244</th>\n",
              "      <td>381</td>\n",
              "      <td>1</td>\n",
              "      <td>14.1</td>\n",
              "      <td>0.0</td>\n",
              "      <td>NaN</td>\n",
              "      <td>55.0</td>\n",
              "      <td>1992.0</td>\n",
              "      <td>NaN</td>\n",
              "      <td>NaN</td>\n",
              "      <td>NaN</td>\n",
              "      <td>38.0</td>\n",
              "    </tr>\n",
              "    <tr>\n",
              "      <th>265</th>\n",
              "      <td>412</td>\n",
              "      <td>1</td>\n",
              "      <td>19.0</td>\n",
              "      <td>0.0</td>\n",
              "      <td>0.6</td>\n",
              "      <td>78.0</td>\n",
              "      <td>258.0</td>\n",
              "      <td>NaN</td>\n",
              "      <td>NaN</td>\n",
              "      <td>NaN</td>\n",
              "      <td>46.0</td>\n",
              "    </tr>\n",
              "    <tr>\n",
              "      <th>273</th>\n",
              "      <td>426</td>\n",
              "      <td>10</td>\n",
              "      <td>7.7</td>\n",
              "      <td>0.0</td>\n",
              "      <td>0.5</td>\n",
              "      <td>65.0</td>\n",
              "      <td>990.0</td>\n",
              "      <td>0.011</td>\n",
              "      <td>35.0</td>\n",
              "      <td>NaN</td>\n",
              "      <td>55.0</td>\n",
              "    </tr>\n",
              "    <tr>\n",
              "      <th>289</th>\n",
              "      <td>450</td>\n",
              "      <td>1</td>\n",
              "      <td>12.1</td>\n",
              "      <td>0.0</td>\n",
              "      <td>1.8</td>\n",
              "      <td>34.0</td>\n",
              "      <td>2000.0</td>\n",
              "      <td>NaN</td>\n",
              "      <td>NaN</td>\n",
              "      <td>NaN</td>\n",
              "      <td>23.0</td>\n",
              "    </tr>\n",
              "    <tr>\n",
              "      <th>317</th>\n",
              "      <td>493</td>\n",
              "      <td>1</td>\n",
              "      <td>9.9</td>\n",
              "      <td>0.0</td>\n",
              "      <td>1.6</td>\n",
              "      <td>62.0</td>\n",
              "      <td>1755.0</td>\n",
              "      <td>NaN</td>\n",
              "      <td>NaN</td>\n",
              "      <td>NaN</td>\n",
              "      <td>41.0</td>\n",
              "    </tr>\n",
              "    <tr>\n",
              "      <th>324</th>\n",
              "      <td>504</td>\n",
              "      <td>1</td>\n",
              "      <td>15.0</td>\n",
              "      <td>0.0</td>\n",
              "      <td>1.5</td>\n",
              "      <td>65.0</td>\n",
              "      <td>1167.0</td>\n",
              "      <td>NaN</td>\n",
              "      <td>NaN</td>\n",
              "      <td>NaN</td>\n",
              "      <td>70.0</td>\n",
              "    </tr>\n",
              "    <tr>\n",
              "      <th>331</th>\n",
              "      <td>511</td>\n",
              "      <td>1</td>\n",
              "      <td>11.4</td>\n",
              "      <td>0.0</td>\n",
              "      <td>1.7</td>\n",
              "      <td>40.0</td>\n",
              "      <td>1645.0</td>\n",
              "      <td>NaN</td>\n",
              "      <td>NaN</td>\n",
              "      <td>NaN</td>\n",
              "      <td>27.0</td>\n",
              "    </tr>\n",
              "    <tr>\n",
              "      <th>344</th>\n",
              "      <td>528</td>\n",
              "      <td>15</td>\n",
              "      <td>12.7</td>\n",
              "      <td>1.0</td>\n",
              "      <td>4.8</td>\n",
              "      <td>88.0</td>\n",
              "      <td>293.0</td>\n",
              "      <td>0.044</td>\n",
              "      <td>NaN</td>\n",
              "      <td>NaN</td>\n",
              "      <td>8.0</td>\n",
              "    </tr>\n",
              "    <tr>\n",
              "      <th>356</th>\n",
              "      <td>545</td>\n",
              "      <td>1</td>\n",
              "      <td>14.4</td>\n",
              "      <td>0.0</td>\n",
              "      <td>2.6</td>\n",
              "      <td>41.0</td>\n",
              "      <td>2000.0</td>\n",
              "      <td>NaN</td>\n",
              "      <td>NaN</td>\n",
              "      <td>NaN</td>\n",
              "      <td>52.0</td>\n",
              "    </tr>\n",
              "    <tr>\n",
              "      <th>429</th>\n",
              "      <td>667</td>\n",
              "      <td>1</td>\n",
              "      <td>15.5</td>\n",
              "      <td>0.0</td>\n",
              "      <td>5.4</td>\n",
              "      <td>48.0</td>\n",
              "      <td>540.0</td>\n",
              "      <td>NaN</td>\n",
              "      <td>NaN</td>\n",
              "      <td>NaN</td>\n",
              "      <td>40.0</td>\n",
              "    </tr>\n",
              "    <tr>\n",
              "      <th>463</th>\n",
              "      <td>711</td>\n",
              "      <td>1</td>\n",
              "      <td>14.1</td>\n",
              "      <td>0.0</td>\n",
              "      <td>2.0</td>\n",
              "      <td>41.0</td>\n",
              "      <td>2000.0</td>\n",
              "      <td>NaN</td>\n",
              "      <td>NaN</td>\n",
              "      <td>NaN</td>\n",
              "      <td>29.0</td>\n",
              "    </tr>\n",
              "    <tr>\n",
              "      <th>466</th>\n",
              "      <td>715</td>\n",
              "      <td>1</td>\n",
              "      <td>12.3</td>\n",
              "      <td>0.0</td>\n",
              "      <td>1.2</td>\n",
              "      <td>78.0</td>\n",
              "      <td>629.0</td>\n",
              "      <td>NaN</td>\n",
              "      <td>NaN</td>\n",
              "      <td>NaN</td>\n",
              "      <td>58.0</td>\n",
              "    </tr>\n",
              "    <tr>\n",
              "      <th>472</th>\n",
              "      <td>727</td>\n",
              "      <td>1</td>\n",
              "      <td>5.3</td>\n",
              "      <td>0.0</td>\n",
              "      <td>2.3</td>\n",
              "      <td>76.0</td>\n",
              "      <td>1965.0</td>\n",
              "      <td>NaN</td>\n",
              "      <td>NaN</td>\n",
              "      <td>NaN</td>\n",
              "      <td>24.0</td>\n",
              "    </tr>\n",
              "    <tr>\n",
              "      <th>479</th>\n",
              "      <td>740</td>\n",
              "      <td>1</td>\n",
              "      <td>4.9</td>\n",
              "      <td>0.0</td>\n",
              "      <td>1.5</td>\n",
              "      <td>81.0</td>\n",
              "      <td>2000.0</td>\n",
              "      <td>NaN</td>\n",
              "      <td>NaN</td>\n",
              "      <td>NaN</td>\n",
              "      <td>34.0</td>\n",
              "    </tr>\n",
              "    <tr>\n",
              "      <th>489</th>\n",
              "      <td>755</td>\n",
              "      <td>13</td>\n",
              "      <td>17.7</td>\n",
              "      <td>0.0</td>\n",
              "      <td>2.4</td>\n",
              "      <td>50.0</td>\n",
              "      <td>1129.0</td>\n",
              "      <td>0.036</td>\n",
              "      <td>NaN</td>\n",
              "      <td>NaN</td>\n",
              "      <td>114.0</td>\n",
              "    </tr>\n",
              "    <tr>\n",
              "      <th>507</th>\n",
              "      <td>782</td>\n",
              "      <td>1</td>\n",
              "      <td>11.3</td>\n",
              "      <td>1.0</td>\n",
              "      <td>4.3</td>\n",
              "      <td>88.0</td>\n",
              "      <td>295.0</td>\n",
              "      <td>NaN</td>\n",
              "      <td>NaN</td>\n",
              "      <td>NaN</td>\n",
              "      <td>24.0</td>\n",
              "    </tr>\n",
              "    <tr>\n",
              "      <th>532</th>\n",
              "      <td>823</td>\n",
              "      <td>12</td>\n",
              "      <td>22.3</td>\n",
              "      <td>0.0</td>\n",
              "      <td>2.8</td>\n",
              "      <td>51.0</td>\n",
              "      <td>575.0</td>\n",
              "      <td>NaN</td>\n",
              "      <td>NaN</td>\n",
              "      <td>NaN</td>\n",
              "      <td>121.0</td>\n",
              "    </tr>\n",
              "    <tr>\n",
              "      <th>537</th>\n",
              "      <td>829</td>\n",
              "      <td>7</td>\n",
              "      <td>18.7</td>\n",
              "      <td>0.0</td>\n",
              "      <td>2.0</td>\n",
              "      <td>69.0</td>\n",
              "      <td>915.0</td>\n",
              "      <td>NaN</td>\n",
              "      <td>NaN</td>\n",
              "      <td>NaN</td>\n",
              "      <td>127.0</td>\n",
              "    </tr>\n",
              "    <tr>\n",
              "      <th>554</th>\n",
              "      <td>850</td>\n",
              "      <td>1</td>\n",
              "      <td>20.0</td>\n",
              "      <td>0.0</td>\n",
              "      <td>2.1</td>\n",
              "      <td>73.0</td>\n",
              "      <td>729.0</td>\n",
              "      <td>NaN</td>\n",
              "      <td>NaN</td>\n",
              "      <td>NaN</td>\n",
              "      <td>46.0</td>\n",
              "    </tr>\n",
              "    <tr>\n",
              "      <th>566</th>\n",
              "      <td>873</td>\n",
              "      <td>12</td>\n",
              "      <td>16.2</td>\n",
              "      <td>0.0</td>\n",
              "      <td>2.9</td>\n",
              "      <td>57.0</td>\n",
              "      <td>946.0</td>\n",
              "      <td>0.027</td>\n",
              "      <td>NaN</td>\n",
              "      <td>NaN</td>\n",
              "      <td>108.0</td>\n",
              "    </tr>\n",
              "    <tr>\n",
              "      <th>576</th>\n",
              "      <td>885</td>\n",
              "      <td>1</td>\n",
              "      <td>16.2</td>\n",
              "      <td>0.0</td>\n",
              "      <td>2.8</td>\n",
              "      <td>51.0</td>\n",
              "      <td>919.0</td>\n",
              "      <td>NaN</td>\n",
              "      <td>NaN</td>\n",
              "      <td>NaN</td>\n",
              "      <td>62.0</td>\n",
              "    </tr>\n",
              "    <tr>\n",
              "      <th>579</th>\n",
              "      <td>889</td>\n",
              "      <td>1</td>\n",
              "      <td>18.0</td>\n",
              "      <td>0.0</td>\n",
              "      <td>1.4</td>\n",
              "      <td>47.0</td>\n",
              "      <td>2000.0</td>\n",
              "      <td>NaN</td>\n",
              "      <td>NaN</td>\n",
              "      <td>NaN</td>\n",
              "      <td>77.0</td>\n",
              "    </tr>\n",
              "    <tr>\n",
              "      <th>589</th>\n",
              "      <td>906</td>\n",
              "      <td>1</td>\n",
              "      <td>16.8</td>\n",
              "      <td>0.0</td>\n",
              "      <td>0.8</td>\n",
              "      <td>79.0</td>\n",
              "      <td>518.0</td>\n",
              "      <td>NaN</td>\n",
              "      <td>NaN</td>\n",
              "      <td>NaN</td>\n",
              "      <td>95.0</td>\n",
              "    </tr>\n",
              "    <tr>\n",
              "      <th>595</th>\n",
              "      <td>912</td>\n",
              "      <td>11</td>\n",
              "      <td>20.3</td>\n",
              "      <td>0.0</td>\n",
              "      <td>2.6</td>\n",
              "      <td>56.0</td>\n",
              "      <td>576.0</td>\n",
              "      <td>NaN</td>\n",
              "      <td>NaN</td>\n",
              "      <td>NaN</td>\n",
              "      <td>95.0</td>\n",
              "    </tr>\n",
              "    <tr>\n",
              "      <th>597</th>\n",
              "      <td>915</td>\n",
              "      <td>13</td>\n",
              "      <td>18.2</td>\n",
              "      <td>0.0</td>\n",
              "      <td>4.8</td>\n",
              "      <td>21.0</td>\n",
              "      <td>2000.0</td>\n",
              "      <td>0.046</td>\n",
              "      <td>NaN</td>\n",
              "      <td>NaN</td>\n",
              "      <td>104.0</td>\n",
              "    </tr>\n",
              "    <tr>\n",
              "      <th>623</th>\n",
              "      <td>955</td>\n",
              "      <td>1</td>\n",
              "      <td>20.0</td>\n",
              "      <td>0.0</td>\n",
              "      <td>2.2</td>\n",
              "      <td>58.0</td>\n",
              "      <td>1617.0</td>\n",
              "      <td>NaN</td>\n",
              "      <td>NaN</td>\n",
              "      <td>NaN</td>\n",
              "      <td>78.0</td>\n",
              "    </tr>\n",
              "    <tr>\n",
              "      <th>624</th>\n",
              "      <td>956</td>\n",
              "      <td>1</td>\n",
              "      <td>11.7</td>\n",
              "      <td>0.0</td>\n",
              "      <td>3.1</td>\n",
              "      <td>38.0</td>\n",
              "      <td>2000.0</td>\n",
              "      <td>NaN</td>\n",
              "      <td>NaN</td>\n",
              "      <td>NaN</td>\n",
              "      <td>51.0</td>\n",
              "    </tr>\n",
              "    <tr>\n",
              "      <th>633</th>\n",
              "      <td>970</td>\n",
              "      <td>14</td>\n",
              "      <td>12.9</td>\n",
              "      <td>0.0</td>\n",
              "      <td>2.8</td>\n",
              "      <td>39.0</td>\n",
              "      <td>2000.0</td>\n",
              "      <td>0.046</td>\n",
              "      <td>19.0</td>\n",
              "      <td>NaN</td>\n",
              "      <td>164.0</td>\n",
              "    </tr>\n",
              "    <tr>\n",
              "      <th>645</th>\n",
              "      <td>987</td>\n",
              "      <td>6</td>\n",
              "      <td>18.7</td>\n",
              "      <td>0.0</td>\n",
              "      <td>1.0</td>\n",
              "      <td>72.0</td>\n",
              "      <td>634.0</td>\n",
              "      <td>NaN</td>\n",
              "      <td>NaN</td>\n",
              "      <td>NaN</td>\n",
              "      <td>53.0</td>\n",
              "    </tr>\n",
              "    <tr>\n",
              "      <th>649</th>\n",
              "      <td>992</td>\n",
              "      <td>1</td>\n",
              "      <td>17.8</td>\n",
              "      <td>0.0</td>\n",
              "      <td>1.2</td>\n",
              "      <td>59.0</td>\n",
              "      <td>676.0</td>\n",
              "      <td>NaN</td>\n",
              "      <td>NaN</td>\n",
              "      <td>NaN</td>\n",
              "      <td>42.0</td>\n",
              "    </tr>\n",
              "    <tr>\n",
              "      <th>660</th>\n",
              "      <td>1009</td>\n",
              "      <td>1</td>\n",
              "      <td>13.4</td>\n",
              "      <td>0.0</td>\n",
              "      <td>1.9</td>\n",
              "      <td>69.0</td>\n",
              "      <td>2000.0</td>\n",
              "      <td>NaN</td>\n",
              "      <td>NaN</td>\n",
              "      <td>NaN</td>\n",
              "      <td>34.0</td>\n",
              "    </tr>\n",
              "    <tr>\n",
              "      <th>672</th>\n",
              "      <td>1025</td>\n",
              "      <td>5</td>\n",
              "      <td>5.5</td>\n",
              "      <td>0.0</td>\n",
              "      <td>0.5</td>\n",
              "      <td>78.0</td>\n",
              "      <td>2000.0</td>\n",
              "      <td>0.022</td>\n",
              "      <td>18.0</td>\n",
              "      <td>NaN</td>\n",
              "      <td>7.0</td>\n",
              "    </tr>\n",
              "    <tr>\n",
              "      <th>680</th>\n",
              "      <td>1038</td>\n",
              "      <td>16</td>\n",
              "      <td>22.8</td>\n",
              "      <td>0.0</td>\n",
              "      <td>4.3</td>\n",
              "      <td>40.0</td>\n",
              "      <td>716.0</td>\n",
              "      <td>0.075</td>\n",
              "      <td>212.0</td>\n",
              "      <td>NaN</td>\n",
              "      <td>135.0</td>\n",
              "    </tr>\n",
              "    <tr>\n",
              "      <th>686</th>\n",
              "      <td>1047</td>\n",
              "      <td>1</td>\n",
              "      <td>14.5</td>\n",
              "      <td>0.0</td>\n",
              "      <td>1.7</td>\n",
              "      <td>71.0</td>\n",
              "      <td>1307.0</td>\n",
              "      <td>NaN</td>\n",
              "      <td>NaN</td>\n",
              "      <td>NaN</td>\n",
              "      <td>44.0</td>\n",
              "    </tr>\n",
              "    <tr>\n",
              "      <th>698</th>\n",
              "      <td>1068</td>\n",
              "      <td>1</td>\n",
              "      <td>13.3</td>\n",
              "      <td>0.0</td>\n",
              "      <td>0.8</td>\n",
              "      <td>29.0</td>\n",
              "      <td>1226.0</td>\n",
              "      <td>NaN</td>\n",
              "      <td>NaN</td>\n",
              "      <td>NaN</td>\n",
              "      <td>34.0</td>\n",
              "    </tr>\n",
              "    <tr>\n",
              "      <th>708</th>\n",
              "      <td>1080</td>\n",
              "      <td>1</td>\n",
              "      <td>11.6</td>\n",
              "      <td>0.0</td>\n",
              "      <td>0.6</td>\n",
              "      <td>52.0</td>\n",
              "      <td>1853.0</td>\n",
              "      <td>NaN</td>\n",
              "      <td>NaN</td>\n",
              "      <td>NaN</td>\n",
              "      <td>39.0</td>\n",
              "    </tr>\n",
              "    <tr>\n",
              "      <th>728</th>\n",
              "      <td>1113</td>\n",
              "      <td>1</td>\n",
              "      <td>7.1</td>\n",
              "      <td>0.0</td>\n",
              "      <td>1.8</td>\n",
              "      <td>56.0</td>\n",
              "      <td>956.0</td>\n",
              "      <td>NaN</td>\n",
              "      <td>NaN</td>\n",
              "      <td>NaN</td>\n",
              "      <td>13.0</td>\n",
              "    </tr>\n",
              "    <tr>\n",
              "      <th>745</th>\n",
              "      <td>1141</td>\n",
              "      <td>1</td>\n",
              "      <td>18.7</td>\n",
              "      <td>0.0</td>\n",
              "      <td>2.0</td>\n",
              "      <td>64.0</td>\n",
              "      <td>1737.0</td>\n",
              "      <td>NaN</td>\n",
              "      <td>NaN</td>\n",
              "      <td>NaN</td>\n",
              "      <td>29.0</td>\n",
              "    </tr>\n",
              "    <tr>\n",
              "      <th>751</th>\n",
              "      <td>1148</td>\n",
              "      <td>18</td>\n",
              "      <td>18.0</td>\n",
              "      <td>0.0</td>\n",
              "      <td>2.8</td>\n",
              "      <td>29.0</td>\n",
              "      <td>884.0</td>\n",
              "      <td>0.065</td>\n",
              "      <td>NaN</td>\n",
              "      <td>NaN</td>\n",
              "      <td>207.0</td>\n",
              "    </tr>\n",
              "    <tr>\n",
              "      <th>753</th>\n",
              "      <td>1152</td>\n",
              "      <td>17</td>\n",
              "      <td>27.0</td>\n",
              "      <td>0.0</td>\n",
              "      <td>4.7</td>\n",
              "      <td>27.0</td>\n",
              "      <td>2000.0</td>\n",
              "      <td>0.065</td>\n",
              "      <td>NaN</td>\n",
              "      <td>NaN</td>\n",
              "      <td>185.0</td>\n",
              "    </tr>\n",
              "    <tr>\n",
              "      <th>763</th>\n",
              "      <td>1167</td>\n",
              "      <td>1</td>\n",
              "      <td>9.5</td>\n",
              "      <td>0.0</td>\n",
              "      <td>0.5</td>\n",
              "      <td>52.0</td>\n",
              "      <td>800.0</td>\n",
              "      <td>NaN</td>\n",
              "      <td>NaN</td>\n",
              "      <td>NaN</td>\n",
              "      <td>26.0</td>\n",
              "    </tr>\n",
              "    <tr>\n",
              "      <th>778</th>\n",
              "      <td>1194</td>\n",
              "      <td>1</td>\n",
              "      <td>17.7</td>\n",
              "      <td>0.0</td>\n",
              "      <td>1.1</td>\n",
              "      <td>53.0</td>\n",
              "      <td>2000.0</td>\n",
              "      <td>NaN</td>\n",
              "      <td>NaN</td>\n",
              "      <td>NaN</td>\n",
              "      <td>98.0</td>\n",
              "    </tr>\n",
              "    <tr>\n",
              "      <th>784</th>\n",
              "      <td>1200</td>\n",
              "      <td>8</td>\n",
              "      <td>3.2</td>\n",
              "      <td>0.0</td>\n",
              "      <td>0.4</td>\n",
              "      <td>83.0</td>\n",
              "      <td>728.0</td>\n",
              "      <td>0.004</td>\n",
              "      <td>30.0</td>\n",
              "      <td>NaN</td>\n",
              "      <td>21.0</td>\n",
              "    </tr>\n",
              "    <tr>\n",
              "      <th>791</th>\n",
              "      <td>1208</td>\n",
              "      <td>14</td>\n",
              "      <td>19.1</td>\n",
              "      <td>0.0</td>\n",
              "      <td>1.7</td>\n",
              "      <td>44.0</td>\n",
              "      <td>1155.0</td>\n",
              "      <td>0.036</td>\n",
              "      <td>34.0</td>\n",
              "      <td>NaN</td>\n",
              "      <td>112.0</td>\n",
              "    </tr>\n",
              "    <tr>\n",
              "      <th>796</th>\n",
              "      <td>1214</td>\n",
              "      <td>1</td>\n",
              "      <td>17.8</td>\n",
              "      <td>1.0</td>\n",
              "      <td>1.0</td>\n",
              "      <td>91.0</td>\n",
              "      <td>323.0</td>\n",
              "      <td>NaN</td>\n",
              "      <td>NaN</td>\n",
              "      <td>NaN</td>\n",
              "      <td>41.0</td>\n",
              "    </tr>\n",
              "    <tr>\n",
              "      <th>811</th>\n",
              "      <td>1232</td>\n",
              "      <td>1</td>\n",
              "      <td>19.3</td>\n",
              "      <td>0.0</td>\n",
              "      <td>1.9</td>\n",
              "      <td>78.0</td>\n",
              "      <td>715.0</td>\n",
              "      <td>NaN</td>\n",
              "      <td>NaN</td>\n",
              "      <td>NaN</td>\n",
              "      <td>39.0</td>\n",
              "    </tr>\n",
              "    <tr>\n",
              "      <th>820</th>\n",
              "      <td>1245</td>\n",
              "      <td>23</td>\n",
              "      <td>10.0</td>\n",
              "      <td>0.0</td>\n",
              "      <td>2.1</td>\n",
              "      <td>86.0</td>\n",
              "      <td>486.0</td>\n",
              "      <td>0.010</td>\n",
              "      <td>41.0</td>\n",
              "      <td>NaN</td>\n",
              "      <td>73.0</td>\n",
              "    </tr>\n",
              "    <tr>\n",
              "      <th>855</th>\n",
              "      <td>1298</td>\n",
              "      <td>6</td>\n",
              "      <td>5.6</td>\n",
              "      <td>0.0</td>\n",
              "      <td>1.0</td>\n",
              "      <td>80.0</td>\n",
              "      <td>1782.0</td>\n",
              "      <td>0.021</td>\n",
              "      <td>17.0</td>\n",
              "      <td>NaN</td>\n",
              "      <td>9.0</td>\n",
              "    </tr>\n",
              "    <tr>\n",
              "      <th>861</th>\n",
              "      <td>1306</td>\n",
              "      <td>1</td>\n",
              "      <td>17.9</td>\n",
              "      <td>0.0</td>\n",
              "      <td>1.3</td>\n",
              "      <td>50.0</td>\n",
              "      <td>1812.0</td>\n",
              "      <td>NaN</td>\n",
              "      <td>NaN</td>\n",
              "      <td>NaN</td>\n",
              "      <td>30.0</td>\n",
              "    </tr>\n",
              "    <tr>\n",
              "      <th>865</th>\n",
              "      <td>1313</td>\n",
              "      <td>17</td>\n",
              "      <td>15.2</td>\n",
              "      <td>0.0</td>\n",
              "      <td>5.8</td>\n",
              "      <td>14.0</td>\n",
              "      <td>1956.0</td>\n",
              "      <td>0.044</td>\n",
              "      <td>NaN</td>\n",
              "      <td>NaN</td>\n",
              "      <td>138.0</td>\n",
              "    </tr>\n",
              "    <tr>\n",
              "      <th>876</th>\n",
              "      <td>1332</td>\n",
              "      <td>1</td>\n",
              "      <td>10.9</td>\n",
              "      <td>0.0</td>\n",
              "      <td>2.1</td>\n",
              "      <td>71.0</td>\n",
              "      <td>1057.0</td>\n",
              "      <td>NaN</td>\n",
              "      <td>NaN</td>\n",
              "      <td>NaN</td>\n",
              "      <td>38.0</td>\n",
              "    </tr>\n",
              "    <tr>\n",
              "      <th>884</th>\n",
              "      <td>1343</td>\n",
              "      <td>18</td>\n",
              "      <td>27.5</td>\n",
              "      <td>0.0</td>\n",
              "      <td>3.4</td>\n",
              "      <td>34.0</td>\n",
              "      <td>2000.0</td>\n",
              "      <td>0.050</td>\n",
              "      <td>NaN</td>\n",
              "      <td>NaN</td>\n",
              "      <td>402.0</td>\n",
              "    </tr>\n",
              "    <tr>\n",
              "      <th>897</th>\n",
              "      <td>1360</td>\n",
              "      <td>13</td>\n",
              "      <td>24.5</td>\n",
              "      <td>0.0</td>\n",
              "      <td>3.5</td>\n",
              "      <td>38.0</td>\n",
              "      <td>773.0</td>\n",
              "      <td>NaN</td>\n",
              "      <td>NaN</td>\n",
              "      <td>NaN</td>\n",
              "      <td>161.0</td>\n",
              "    </tr>\n",
              "    <tr>\n",
              "      <th>910</th>\n",
              "      <td>1382</td>\n",
              "      <td>15</td>\n",
              "      <td>12.0</td>\n",
              "      <td>0.0</td>\n",
              "      <td>1.9</td>\n",
              "      <td>76.0</td>\n",
              "      <td>1216.0</td>\n",
              "      <td>0.034</td>\n",
              "      <td>23.0</td>\n",
              "      <td>NaN</td>\n",
              "      <td>63.0</td>\n",
              "    </tr>\n",
              "    <tr>\n",
              "      <th>923</th>\n",
              "      <td>1402</td>\n",
              "      <td>16</td>\n",
              "      <td>27.2</td>\n",
              "      <td>0.0</td>\n",
              "      <td>4.3</td>\n",
              "      <td>31.0</td>\n",
              "      <td>1281.0</td>\n",
              "      <td>0.088</td>\n",
              "      <td>NaN</td>\n",
              "      <td>NaN</td>\n",
              "      <td>246.0</td>\n",
              "    </tr>\n",
              "    <tr>\n",
              "      <th>932</th>\n",
              "      <td>1417</td>\n",
              "      <td>4</td>\n",
              "      <td>4.2</td>\n",
              "      <td>0.0</td>\n",
              "      <td>1.1</td>\n",
              "      <td>77.0</td>\n",
              "      <td>1258.0</td>\n",
              "      <td>0.024</td>\n",
              "      <td>24.0</td>\n",
              "      <td>NaN</td>\n",
              "      <td>16.0</td>\n",
              "    </tr>\n",
              "    <tr>\n",
              "      <th>934</th>\n",
              "      <td>1420</td>\n",
              "      <td>0</td>\n",
              "      <td>NaN</td>\n",
              "      <td>NaN</td>\n",
              "      <td>NaN</td>\n",
              "      <td>NaN</td>\n",
              "      <td>NaN</td>\n",
              "      <td>NaN</td>\n",
              "      <td>NaN</td>\n",
              "      <td>NaN</td>\n",
              "      <td>39.0</td>\n",
              "    </tr>\n",
              "    <tr>\n",
              "      <th>937</th>\n",
              "      <td>1426</td>\n",
              "      <td>12</td>\n",
              "      <td>9.9</td>\n",
              "      <td>0.0</td>\n",
              "      <td>2.0</td>\n",
              "      <td>57.0</td>\n",
              "      <td>1933.0</td>\n",
              "      <td>0.030</td>\n",
              "      <td>19.0</td>\n",
              "      <td>NaN</td>\n",
              "      <td>78.0</td>\n",
              "    </tr>\n",
              "    <tr>\n",
              "      <th>948</th>\n",
              "      <td>1440</td>\n",
              "      <td>10</td>\n",
              "      <td>11.5</td>\n",
              "      <td>0.0</td>\n",
              "      <td>2.7</td>\n",
              "      <td>75.0</td>\n",
              "      <td>657.0</td>\n",
              "      <td>0.011</td>\n",
              "      <td>37.0</td>\n",
              "      <td>NaN</td>\n",
              "      <td>66.0</td>\n",
              "    </tr>\n",
              "    <tr>\n",
              "      <th>953</th>\n",
              "      <td>1448</td>\n",
              "      <td>7</td>\n",
              "      <td>9.0</td>\n",
              "      <td>0.0</td>\n",
              "      <td>2.6</td>\n",
              "      <td>90.0</td>\n",
              "      <td>253.0</td>\n",
              "      <td>0.031</td>\n",
              "      <td>31.0</td>\n",
              "      <td>NaN</td>\n",
              "      <td>70.0</td>\n",
              "    </tr>\n",
              "    <tr>\n",
              "      <th>957</th>\n",
              "      <td>1453</td>\n",
              "      <td>1</td>\n",
              "      <td>15.1</td>\n",
              "      <td>0.0</td>\n",
              "      <td>1.6</td>\n",
              "      <td>79.0</td>\n",
              "      <td>338.0</td>\n",
              "      <td>NaN</td>\n",
              "      <td>NaN</td>\n",
              "      <td>NaN</td>\n",
              "      <td>46.0</td>\n",
              "    </tr>\n",
              "    <tr>\n",
              "      <th>970</th>\n",
              "      <td>1469</td>\n",
              "      <td>1</td>\n",
              "      <td>13.1</td>\n",
              "      <td>0.0</td>\n",
              "      <td>2.5</td>\n",
              "      <td>46.0</td>\n",
              "      <td>2000.0</td>\n",
              "      <td>NaN</td>\n",
              "      <td>NaN</td>\n",
              "      <td>NaN</td>\n",
              "      <td>17.0</td>\n",
              "    </tr>\n",
              "    <tr>\n",
              "      <th>1024</th>\n",
              "      <td>1540</td>\n",
              "      <td>1</td>\n",
              "      <td>11.5</td>\n",
              "      <td>0.0</td>\n",
              "      <td>1.2</td>\n",
              "      <td>73.0</td>\n",
              "      <td>774.0</td>\n",
              "      <td>NaN</td>\n",
              "      <td>NaN</td>\n",
              "      <td>NaN</td>\n",
              "      <td>79.0</td>\n",
              "    </tr>\n",
              "    <tr>\n",
              "      <th>1035</th>\n",
              "      <td>1553</td>\n",
              "      <td>18</td>\n",
              "      <td>NaN</td>\n",
              "      <td>NaN</td>\n",
              "      <td>NaN</td>\n",
              "      <td>NaN</td>\n",
              "      <td>NaN</td>\n",
              "      <td>NaN</td>\n",
              "      <td>NaN</td>\n",
              "      <td>NaN</td>\n",
              "      <td>1.0</td>\n",
              "    </tr>\n",
              "    <tr>\n",
              "      <th>1050</th>\n",
              "      <td>1581</td>\n",
              "      <td>11</td>\n",
              "      <td>9.6</td>\n",
              "      <td>0.0</td>\n",
              "      <td>3.3</td>\n",
              "      <td>99.0</td>\n",
              "      <td>269.0</td>\n",
              "      <td>0.024</td>\n",
              "      <td>22.0</td>\n",
              "      <td>NaN</td>\n",
              "      <td>37.0</td>\n",
              "    </tr>\n",
              "    <tr>\n",
              "      <th>1053</th>\n",
              "      <td>1588</td>\n",
              "      <td>9</td>\n",
              "      <td>9.8</td>\n",
              "      <td>0.0</td>\n",
              "      <td>0.3</td>\n",
              "      <td>83.0</td>\n",
              "      <td>471.0</td>\n",
              "      <td>0.021</td>\n",
              "      <td>36.0</td>\n",
              "      <td>NaN</td>\n",
              "      <td>86.0</td>\n",
              "    </tr>\n",
              "    <tr>\n",
              "      <th>1056</th>\n",
              "      <td>1591</td>\n",
              "      <td>18</td>\n",
              "      <td>14.0</td>\n",
              "      <td>0.0</td>\n",
              "      <td>3.7</td>\n",
              "      <td>14.0</td>\n",
              "      <td>1992.0</td>\n",
              "      <td>0.045</td>\n",
              "      <td>NaN</td>\n",
              "      <td>NaN</td>\n",
              "      <td>221.0</td>\n",
              "    </tr>\n",
              "    <tr>\n",
              "      <th>1070</th>\n",
              "      <td>1609</td>\n",
              "      <td>1</td>\n",
              "      <td>18.2</td>\n",
              "      <td>0.0</td>\n",
              "      <td>1.7</td>\n",
              "      <td>51.0</td>\n",
              "      <td>1871.0</td>\n",
              "      <td>NaN</td>\n",
              "      <td>NaN</td>\n",
              "      <td>NaN</td>\n",
              "      <td>53.0</td>\n",
              "    </tr>\n",
              "    <tr>\n",
              "      <th>1090</th>\n",
              "      <td>1645</td>\n",
              "      <td>12</td>\n",
              "      <td>17.0</td>\n",
              "      <td>0.0</td>\n",
              "      <td>4.2</td>\n",
              "      <td>24.0</td>\n",
              "      <td>1987.0</td>\n",
              "      <td>0.036</td>\n",
              "      <td>NaN</td>\n",
              "      <td>NaN</td>\n",
              "      <td>146.0</td>\n",
              "    </tr>\n",
              "    <tr>\n",
              "      <th>1100</th>\n",
              "      <td>1661</td>\n",
              "      <td>1</td>\n",
              "      <td>11.5</td>\n",
              "      <td>0.0</td>\n",
              "      <td>2.4</td>\n",
              "      <td>82.0</td>\n",
              "      <td>727.0</td>\n",
              "      <td>NaN</td>\n",
              "      <td>NaN</td>\n",
              "      <td>NaN</td>\n",
              "      <td>63.0</td>\n",
              "    </tr>\n",
              "    <tr>\n",
              "      <th>1107</th>\n",
              "      <td>1671</td>\n",
              "      <td>14</td>\n",
              "      <td>26.3</td>\n",
              "      <td>0.0</td>\n",
              "      <td>4.3</td>\n",
              "      <td>31.0</td>\n",
              "      <td>1060.0</td>\n",
              "      <td>0.090</td>\n",
              "      <td>NaN</td>\n",
              "      <td>NaN</td>\n",
              "      <td>190.0</td>\n",
              "    </tr>\n",
              "    <tr>\n",
              "      <th>1120</th>\n",
              "      <td>1689</td>\n",
              "      <td>1</td>\n",
              "      <td>13.8</td>\n",
              "      <td>0.0</td>\n",
              "      <td>1.6</td>\n",
              "      <td>78.0</td>\n",
              "      <td>1351.0</td>\n",
              "      <td>NaN</td>\n",
              "      <td>NaN</td>\n",
              "      <td>NaN</td>\n",
              "      <td>36.0</td>\n",
              "    </tr>\n",
              "    <tr>\n",
              "      <th>1142</th>\n",
              "      <td>1726</td>\n",
              "      <td>1</td>\n",
              "      <td>16.1</td>\n",
              "      <td>0.0</td>\n",
              "      <td>1.5</td>\n",
              "      <td>68.0</td>\n",
              "      <td>1866.0</td>\n",
              "      <td>NaN</td>\n",
              "      <td>NaN</td>\n",
              "      <td>NaN</td>\n",
              "      <td>67.0</td>\n",
              "    </tr>\n",
              "    <tr>\n",
              "      <th>1154</th>\n",
              "      <td>1742</td>\n",
              "      <td>1</td>\n",
              "      <td>18.7</td>\n",
              "      <td>0.0</td>\n",
              "      <td>1.1</td>\n",
              "      <td>63.0</td>\n",
              "      <td>2000.0</td>\n",
              "      <td>NaN</td>\n",
              "      <td>NaN</td>\n",
              "      <td>NaN</td>\n",
              "      <td>49.0</td>\n",
              "    </tr>\n",
              "    <tr>\n",
              "      <th>1156</th>\n",
              "      <td>1744</td>\n",
              "      <td>1</td>\n",
              "      <td>17.3</td>\n",
              "      <td>0.0</td>\n",
              "      <td>1.3</td>\n",
              "      <td>39.0</td>\n",
              "      <td>1050.0</td>\n",
              "      <td>NaN</td>\n",
              "      <td>NaN</td>\n",
              "      <td>NaN</td>\n",
              "      <td>84.0</td>\n",
              "    </tr>\n",
              "    <tr>\n",
              "      <th>1163</th>\n",
              "      <td>1754</td>\n",
              "      <td>13</td>\n",
              "      <td>15.8</td>\n",
              "      <td>0.0</td>\n",
              "      <td>6.3</td>\n",
              "      <td>27.0</td>\n",
              "      <td>2000.0</td>\n",
              "      <td>0.044</td>\n",
              "      <td>NaN</td>\n",
              "      <td>NaN</td>\n",
              "      <td>106.0</td>\n",
              "    </tr>\n",
              "    <tr>\n",
              "      <th>1165</th>\n",
              "      <td>1757</td>\n",
              "      <td>1</td>\n",
              "      <td>11.2</td>\n",
              "      <td>0.0</td>\n",
              "      <td>1.2</td>\n",
              "      <td>78.0</td>\n",
              "      <td>1982.0</td>\n",
              "      <td>NaN</td>\n",
              "      <td>NaN</td>\n",
              "      <td>NaN</td>\n",
              "      <td>37.0</td>\n",
              "    </tr>\n",
              "    <tr>\n",
              "      <th>1168</th>\n",
              "      <td>1762</td>\n",
              "      <td>1</td>\n",
              "      <td>15.6</td>\n",
              "      <td>0.0</td>\n",
              "      <td>0.6</td>\n",
              "      <td>46.0</td>\n",
              "      <td>2000.0</td>\n",
              "      <td>NaN</td>\n",
              "      <td>NaN</td>\n",
              "      <td>NaN</td>\n",
              "      <td>70.0</td>\n",
              "    </tr>\n",
              "    <tr>\n",
              "      <th>1173</th>\n",
              "      <td>1773</td>\n",
              "      <td>5</td>\n",
              "      <td>9.0</td>\n",
              "      <td>0.0</td>\n",
              "      <td>1.9</td>\n",
              "      <td>90.0</td>\n",
              "      <td>260.0</td>\n",
              "      <td>0.027</td>\n",
              "      <td>46.0</td>\n",
              "      <td>NaN</td>\n",
              "      <td>9.0</td>\n",
              "    </tr>\n",
              "    <tr>\n",
              "      <th>1181</th>\n",
              "      <td>1782</td>\n",
              "      <td>6</td>\n",
              "      <td>9.0</td>\n",
              "      <td>0.0</td>\n",
              "      <td>2.1</td>\n",
              "      <td>90.0</td>\n",
              "      <td>245.0</td>\n",
              "      <td>0.031</td>\n",
              "      <td>37.0</td>\n",
              "      <td>NaN</td>\n",
              "      <td>20.0</td>\n",
              "    </tr>\n",
              "    <tr>\n",
              "      <th>1186</th>\n",
              "      <td>1789</td>\n",
              "      <td>1</td>\n",
              "      <td>14.1</td>\n",
              "      <td>0.0</td>\n",
              "      <td>1.5</td>\n",
              "      <td>62.0</td>\n",
              "      <td>863.0</td>\n",
              "      <td>NaN</td>\n",
              "      <td>NaN</td>\n",
              "      <td>NaN</td>\n",
              "      <td>44.0</td>\n",
              "    </tr>\n",
              "    <tr>\n",
              "      <th>1218</th>\n",
              "      <td>1837</td>\n",
              "      <td>2</td>\n",
              "      <td>5.1</td>\n",
              "      <td>0.0</td>\n",
              "      <td>1.3</td>\n",
              "      <td>77.0</td>\n",
              "      <td>2000.0</td>\n",
              "      <td>0.018</td>\n",
              "      <td>16.0</td>\n",
              "      <td>NaN</td>\n",
              "      <td>29.0</td>\n",
              "    </tr>\n",
              "    <tr>\n",
              "      <th>1221</th>\n",
              "      <td>1840</td>\n",
              "      <td>1</td>\n",
              "      <td>12.4</td>\n",
              "      <td>0.0</td>\n",
              "      <td>3.5</td>\n",
              "      <td>84.0</td>\n",
              "      <td>911.0</td>\n",
              "      <td>NaN</td>\n",
              "      <td>NaN</td>\n",
              "      <td>NaN</td>\n",
              "      <td>57.0</td>\n",
              "    </tr>\n",
              "    <tr>\n",
              "      <th>1222</th>\n",
              "      <td>1844</td>\n",
              "      <td>15</td>\n",
              "      <td>27.4</td>\n",
              "      <td>0.0</td>\n",
              "      <td>3.7</td>\n",
              "      <td>28.0</td>\n",
              "      <td>1237.0</td>\n",
              "      <td>0.091</td>\n",
              "      <td>NaN</td>\n",
              "      <td>NaN</td>\n",
              "      <td>318.0</td>\n",
              "    </tr>\n",
              "    <tr>\n",
              "      <th>1226</th>\n",
              "      <td>1852</td>\n",
              "      <td>18</td>\n",
              "      <td>21.1</td>\n",
              "      <td>0.0</td>\n",
              "      <td>3.3</td>\n",
              "      <td>42.0</td>\n",
              "      <td>832.0</td>\n",
              "      <td>0.064</td>\n",
              "      <td>192.0</td>\n",
              "      <td>NaN</td>\n",
              "      <td>236.0</td>\n",
              "    </tr>\n",
              "    <tr>\n",
              "      <th>1231</th>\n",
              "      <td>1859</td>\n",
              "      <td>23</td>\n",
              "      <td>11.4</td>\n",
              "      <td>1.0</td>\n",
              "      <td>1.8</td>\n",
              "      <td>98.0</td>\n",
              "      <td>128.0</td>\n",
              "      <td>0.024</td>\n",
              "      <td>21.0</td>\n",
              "      <td>NaN</td>\n",
              "      <td>1.0</td>\n",
              "    </tr>\n",
              "    <tr>\n",
              "      <th>1264</th>\n",
              "      <td>1912</td>\n",
              "      <td>17</td>\n",
              "      <td>11.4</td>\n",
              "      <td>0.0</td>\n",
              "      <td>2.3</td>\n",
              "      <td>79.0</td>\n",
              "      <td>1138.0</td>\n",
              "      <td>0.034</td>\n",
              "      <td>32.0</td>\n",
              "      <td>NaN</td>\n",
              "      <td>74.0</td>\n",
              "    </tr>\n",
              "    <tr>\n",
              "      <th>1273</th>\n",
              "      <td>1928</td>\n",
              "      <td>1</td>\n",
              "      <td>10.6</td>\n",
              "      <td>0.0</td>\n",
              "      <td>0.2</td>\n",
              "      <td>71.0</td>\n",
              "      <td>844.0</td>\n",
              "      <td>NaN</td>\n",
              "      <td>NaN</td>\n",
              "      <td>NaN</td>\n",
              "      <td>67.0</td>\n",
              "    </tr>\n",
              "    <tr>\n",
              "      <th>1278</th>\n",
              "      <td>1934</td>\n",
              "      <td>1</td>\n",
              "      <td>14.1</td>\n",
              "      <td>0.0</td>\n",
              "      <td>1.3</td>\n",
              "      <td>69.0</td>\n",
              "      <td>1970.0</td>\n",
              "      <td>NaN</td>\n",
              "      <td>NaN</td>\n",
              "      <td>NaN</td>\n",
              "      <td>56.0</td>\n",
              "    </tr>\n",
              "    <tr>\n",
              "      <th>1283</th>\n",
              "      <td>1941</td>\n",
              "      <td>1</td>\n",
              "      <td>16.6</td>\n",
              "      <td>0.0</td>\n",
              "      <td>2.1</td>\n",
              "      <td>35.0</td>\n",
              "      <td>2000.0</td>\n",
              "      <td>NaN</td>\n",
              "      <td>NaN</td>\n",
              "      <td>NaN</td>\n",
              "      <td>62.0</td>\n",
              "    </tr>\n",
              "    <tr>\n",
              "      <th>1301</th>\n",
              "      <td>1968</td>\n",
              "      <td>18</td>\n",
              "      <td>25.2</td>\n",
              "      <td>0.0</td>\n",
              "      <td>4.9</td>\n",
              "      <td>25.0</td>\n",
              "      <td>2000.0</td>\n",
              "      <td>0.064</td>\n",
              "      <td>NaN</td>\n",
              "      <td>NaN</td>\n",
              "      <td>332.0</td>\n",
              "    </tr>\n",
              "    <tr>\n",
              "      <th>1304</th>\n",
              "      <td>1971</td>\n",
              "      <td>3</td>\n",
              "      <td>9.4</td>\n",
              "      <td>0.0</td>\n",
              "      <td>0.9</td>\n",
              "      <td>87.0</td>\n",
              "      <td>387.0</td>\n",
              "      <td>0.006</td>\n",
              "      <td>45.0</td>\n",
              "      <td>NaN</td>\n",
              "      <td>8.0</td>\n",
              "    </tr>\n",
              "    <tr>\n",
              "      <th>1316</th>\n",
              "      <td>1986</td>\n",
              "      <td>0</td>\n",
              "      <td>9.9</td>\n",
              "      <td>0.0</td>\n",
              "      <td>1.4</td>\n",
              "      <td>86.0</td>\n",
              "      <td>620.0</td>\n",
              "      <td>0.010</td>\n",
              "      <td>40.0</td>\n",
              "      <td>NaN</td>\n",
              "      <td>47.0</td>\n",
              "    </tr>\n",
              "    <tr>\n",
              "      <th>1322</th>\n",
              "      <td>1994</td>\n",
              "      <td>1</td>\n",
              "      <td>15.1</td>\n",
              "      <td>0.0</td>\n",
              "      <td>1.3</td>\n",
              "      <td>35.0</td>\n",
              "      <td>2000.0</td>\n",
              "      <td>NaN</td>\n",
              "      <td>NaN</td>\n",
              "      <td>NaN</td>\n",
              "      <td>40.0</td>\n",
              "    </tr>\n",
              "    <tr>\n",
              "      <th>1329</th>\n",
              "      <td>2005</td>\n",
              "      <td>1</td>\n",
              "      <td>17.7</td>\n",
              "      <td>0.0</td>\n",
              "      <td>1.0</td>\n",
              "      <td>43.0</td>\n",
              "      <td>1338.0</td>\n",
              "      <td>NaN</td>\n",
              "      <td>NaN</td>\n",
              "      <td>NaN</td>\n",
              "      <td>69.0</td>\n",
              "    </tr>\n",
              "    <tr>\n",
              "      <th>1338</th>\n",
              "      <td>2016</td>\n",
              "      <td>19</td>\n",
              "      <td>16.2</td>\n",
              "      <td>0.0</td>\n",
              "      <td>3.5</td>\n",
              "      <td>31.0</td>\n",
              "      <td>950.0</td>\n",
              "      <td>0.060</td>\n",
              "      <td>NaN</td>\n",
              "      <td>NaN</td>\n",
              "      <td>167.0</td>\n",
              "    </tr>\n",
              "    <tr>\n",
              "      <th>1361</th>\n",
              "      <td>2047</td>\n",
              "      <td>1</td>\n",
              "      <td>12.6</td>\n",
              "      <td>0.0</td>\n",
              "      <td>2.4</td>\n",
              "      <td>48.0</td>\n",
              "      <td>1805.0</td>\n",
              "      <td>NaN</td>\n",
              "      <td>NaN</td>\n",
              "      <td>NaN</td>\n",
              "      <td>43.0</td>\n",
              "    </tr>\n",
              "    <tr>\n",
              "      <th>1378</th>\n",
              "      <td>2066</td>\n",
              "      <td>11</td>\n",
              "      <td>10.1</td>\n",
              "      <td>0.0</td>\n",
              "      <td>1.5</td>\n",
              "      <td>59.0</td>\n",
              "      <td>990.0</td>\n",
              "      <td>0.015</td>\n",
              "      <td>39.0</td>\n",
              "      <td>NaN</td>\n",
              "      <td>78.0</td>\n",
              "    </tr>\n",
              "    <tr>\n",
              "      <th>1391</th>\n",
              "      <td>2086</td>\n",
              "      <td>1</td>\n",
              "      <td>11.5</td>\n",
              "      <td>0.0</td>\n",
              "      <td>3.2</td>\n",
              "      <td>23.0</td>\n",
              "      <td>2000.0</td>\n",
              "      <td>NaN</td>\n",
              "      <td>NaN</td>\n",
              "      <td>NaN</td>\n",
              "      <td>42.0</td>\n",
              "    </tr>\n",
              "    <tr>\n",
              "      <th>1398</th>\n",
              "      <td>2096</td>\n",
              "      <td>20</td>\n",
              "      <td>14.0</td>\n",
              "      <td>0.0</td>\n",
              "      <td>2.9</td>\n",
              "      <td>35.0</td>\n",
              "      <td>910.0</td>\n",
              "      <td>0.061</td>\n",
              "      <td>NaN</td>\n",
              "      <td>NaN</td>\n",
              "      <td>117.0</td>\n",
              "    </tr>\n",
              "    <tr>\n",
              "      <th>1410</th>\n",
              "      <td>2114</td>\n",
              "      <td>22</td>\n",
              "      <td>18.1</td>\n",
              "      <td>0.0</td>\n",
              "      <td>4.6</td>\n",
              "      <td>73.0</td>\n",
              "      <td>1796.0</td>\n",
              "      <td>0.039</td>\n",
              "      <td>27.0</td>\n",
              "      <td>NaN</td>\n",
              "      <td>143.0</td>\n",
              "    </tr>\n",
              "  </tbody>\n",
              "</table>\n",
              "</div>"
            ],
            "text/plain": [
              "        id  hour  hour_bef_temperature  ...  hour_bef_pm10  hour_bef_pm2.5  count\n",
              "14      28     1                  20.0  ...            NaN             NaN   74.0\n",
              "33      56    21                  10.2  ...           24.0             NaN  127.0\n",
              "46      78     1                  12.2  ...            NaN             NaN   36.0\n",
              "84     130     1                   9.4  ...            NaN             NaN   39.0\n",
              "100    149    16                  15.8  ...            NaN             NaN  102.0\n",
              "129    193    19                  27.0  ...            NaN             NaN  319.0\n",
              "140    206    10                  18.2  ...            NaN             NaN   66.0\n",
              "142    208     1                  18.8  ...            NaN             NaN   62.0\n",
              "147    220     1                  18.4  ...            NaN             NaN   63.0\n",
              "158    234     1                  15.3  ...            NaN             NaN   41.0\n",
              "169    255    16                  11.6  ...            NaN             NaN   36.0\n",
              "176    268     1                   8.8  ...            NaN             NaN   45.0\n",
              "192    295     8                   9.2  ...           39.0             NaN  160.0\n",
              "222    346     1                  12.4  ...            NaN             NaN    6.0\n",
              "234    366    17                  22.3  ...          200.0             NaN  151.0\n",
              "236    368     1                   9.9  ...            NaN             NaN   35.0\n",
              "244    381     1                  14.1  ...            NaN             NaN   38.0\n",
              "265    412     1                  19.0  ...            NaN             NaN   46.0\n",
              "273    426    10                   7.7  ...           35.0             NaN   55.0\n",
              "289    450     1                  12.1  ...            NaN             NaN   23.0\n",
              "317    493     1                   9.9  ...            NaN             NaN   41.0\n",
              "324    504     1                  15.0  ...            NaN             NaN   70.0\n",
              "331    511     1                  11.4  ...            NaN             NaN   27.0\n",
              "344    528    15                  12.7  ...            NaN             NaN    8.0\n",
              "356    545     1                  14.4  ...            NaN             NaN   52.0\n",
              "429    667     1                  15.5  ...            NaN             NaN   40.0\n",
              "463    711     1                  14.1  ...            NaN             NaN   29.0\n",
              "466    715     1                  12.3  ...            NaN             NaN   58.0\n",
              "472    727     1                   5.3  ...            NaN             NaN   24.0\n",
              "479    740     1                   4.9  ...            NaN             NaN   34.0\n",
              "489    755    13                  17.7  ...            NaN             NaN  114.0\n",
              "507    782     1                  11.3  ...            NaN             NaN   24.0\n",
              "532    823    12                  22.3  ...            NaN             NaN  121.0\n",
              "537    829     7                  18.7  ...            NaN             NaN  127.0\n",
              "554    850     1                  20.0  ...            NaN             NaN   46.0\n",
              "566    873    12                  16.2  ...            NaN             NaN  108.0\n",
              "576    885     1                  16.2  ...            NaN             NaN   62.0\n",
              "579    889     1                  18.0  ...            NaN             NaN   77.0\n",
              "589    906     1                  16.8  ...            NaN             NaN   95.0\n",
              "595    912    11                  20.3  ...            NaN             NaN   95.0\n",
              "597    915    13                  18.2  ...            NaN             NaN  104.0\n",
              "623    955     1                  20.0  ...            NaN             NaN   78.0\n",
              "624    956     1                  11.7  ...            NaN             NaN   51.0\n",
              "633    970    14                  12.9  ...           19.0             NaN  164.0\n",
              "645    987     6                  18.7  ...            NaN             NaN   53.0\n",
              "649    992     1                  17.8  ...            NaN             NaN   42.0\n",
              "660   1009     1                  13.4  ...            NaN             NaN   34.0\n",
              "672   1025     5                   5.5  ...           18.0             NaN    7.0\n",
              "680   1038    16                  22.8  ...          212.0             NaN  135.0\n",
              "686   1047     1                  14.5  ...            NaN             NaN   44.0\n",
              "698   1068     1                  13.3  ...            NaN             NaN   34.0\n",
              "708   1080     1                  11.6  ...            NaN             NaN   39.0\n",
              "728   1113     1                   7.1  ...            NaN             NaN   13.0\n",
              "745   1141     1                  18.7  ...            NaN             NaN   29.0\n",
              "751   1148    18                  18.0  ...            NaN             NaN  207.0\n",
              "753   1152    17                  27.0  ...            NaN             NaN  185.0\n",
              "763   1167     1                   9.5  ...            NaN             NaN   26.0\n",
              "778   1194     1                  17.7  ...            NaN             NaN   98.0\n",
              "784   1200     8                   3.2  ...           30.0             NaN   21.0\n",
              "791   1208    14                  19.1  ...           34.0             NaN  112.0\n",
              "796   1214     1                  17.8  ...            NaN             NaN   41.0\n",
              "811   1232     1                  19.3  ...            NaN             NaN   39.0\n",
              "820   1245    23                  10.0  ...           41.0             NaN   73.0\n",
              "855   1298     6                   5.6  ...           17.0             NaN    9.0\n",
              "861   1306     1                  17.9  ...            NaN             NaN   30.0\n",
              "865   1313    17                  15.2  ...            NaN             NaN  138.0\n",
              "876   1332     1                  10.9  ...            NaN             NaN   38.0\n",
              "884   1343    18                  27.5  ...            NaN             NaN  402.0\n",
              "897   1360    13                  24.5  ...            NaN             NaN  161.0\n",
              "910   1382    15                  12.0  ...           23.0             NaN   63.0\n",
              "923   1402    16                  27.2  ...            NaN             NaN  246.0\n",
              "932   1417     4                   4.2  ...           24.0             NaN   16.0\n",
              "934   1420     0                   NaN  ...            NaN             NaN   39.0\n",
              "937   1426    12                   9.9  ...           19.0             NaN   78.0\n",
              "948   1440    10                  11.5  ...           37.0             NaN   66.0\n",
              "953   1448     7                   9.0  ...           31.0             NaN   70.0\n",
              "957   1453     1                  15.1  ...            NaN             NaN   46.0\n",
              "970   1469     1                  13.1  ...            NaN             NaN   17.0\n",
              "1024  1540     1                  11.5  ...            NaN             NaN   79.0\n",
              "1035  1553    18                   NaN  ...            NaN             NaN    1.0\n",
              "1050  1581    11                   9.6  ...           22.0             NaN   37.0\n",
              "1053  1588     9                   9.8  ...           36.0             NaN   86.0\n",
              "1056  1591    18                  14.0  ...            NaN             NaN  221.0\n",
              "1070  1609     1                  18.2  ...            NaN             NaN   53.0\n",
              "1090  1645    12                  17.0  ...            NaN             NaN  146.0\n",
              "1100  1661     1                  11.5  ...            NaN             NaN   63.0\n",
              "1107  1671    14                  26.3  ...            NaN             NaN  190.0\n",
              "1120  1689     1                  13.8  ...            NaN             NaN   36.0\n",
              "1142  1726     1                  16.1  ...            NaN             NaN   67.0\n",
              "1154  1742     1                  18.7  ...            NaN             NaN   49.0\n",
              "1156  1744     1                  17.3  ...            NaN             NaN   84.0\n",
              "1163  1754    13                  15.8  ...            NaN             NaN  106.0\n",
              "1165  1757     1                  11.2  ...            NaN             NaN   37.0\n",
              "1168  1762     1                  15.6  ...            NaN             NaN   70.0\n",
              "1173  1773     5                   9.0  ...           46.0             NaN    9.0\n",
              "1181  1782     6                   9.0  ...           37.0             NaN   20.0\n",
              "1186  1789     1                  14.1  ...            NaN             NaN   44.0\n",
              "1218  1837     2                   5.1  ...           16.0             NaN   29.0\n",
              "1221  1840     1                  12.4  ...            NaN             NaN   57.0\n",
              "1222  1844    15                  27.4  ...            NaN             NaN  318.0\n",
              "1226  1852    18                  21.1  ...          192.0             NaN  236.0\n",
              "1231  1859    23                  11.4  ...           21.0             NaN    1.0\n",
              "1264  1912    17                  11.4  ...           32.0             NaN   74.0\n",
              "1273  1928     1                  10.6  ...            NaN             NaN   67.0\n",
              "1278  1934     1                  14.1  ...            NaN             NaN   56.0\n",
              "1283  1941     1                  16.6  ...            NaN             NaN   62.0\n",
              "1301  1968    18                  25.2  ...            NaN             NaN  332.0\n",
              "1304  1971     3                   9.4  ...           45.0             NaN    8.0\n",
              "1316  1986     0                   9.9  ...           40.0             NaN   47.0\n",
              "1322  1994     1                  15.1  ...            NaN             NaN   40.0\n",
              "1329  2005     1                  17.7  ...            NaN             NaN   69.0\n",
              "1338  2016    19                  16.2  ...            NaN             NaN  167.0\n",
              "1361  2047     1                  12.6  ...            NaN             NaN   43.0\n",
              "1378  2066    11                  10.1  ...           39.0             NaN   78.0\n",
              "1391  2086     1                  11.5  ...            NaN             NaN   42.0\n",
              "1398  2096    20                  14.0  ...            NaN             NaN  117.0\n",
              "1410  2114    22                  18.1  ...           27.0             NaN  143.0\n",
              "\n",
              "[117 rows x 11 columns]"
            ]
          },
          "metadata": {},
          "execution_count": 6
        }
      ]
    },
    {
      "cell_type": "markdown",
      "metadata": {
        "id": "jwLtCHGC2lnb"
      },
      "source": [
        "## 2. 탐색적 자료분석\n",
        "## Exploratory Data Analysis (EDA)\n"
      ]
    },
    {
      "cell_type": "code",
      "metadata": {
        "id": "r8pS1mwQOD_R",
        "colab": {
          "base_uri": "https://localhost:8080/"
        },
        "outputId": "45673bb0-a9af-471b-a9dc-30e4a4fcdfca"
      },
      "source": [
        "train.head()\n",
        "train.shape"
      ],
      "execution_count": null,
      "outputs": [
        {
          "output_type": "execute_result",
          "data": {
            "text/plain": [
              "(1459, 11)"
            ]
          },
          "metadata": {},
          "execution_count": 7
        }
      ]
    },
    {
      "cell_type": "code",
      "metadata": {
        "id": "99hYflZ5OFmQ",
        "colab": {
          "base_uri": "https://localhost:8080/"
        },
        "outputId": "7b0cb658-eab0-4f6a-fccc-166f962cf7d5"
      },
      "source": [
        "train.info()"
      ],
      "execution_count": null,
      "outputs": [
        {
          "output_type": "stream",
          "name": "stdout",
          "text": [
            "<class 'pandas.core.frame.DataFrame'>\n",
            "RangeIndex: 1459 entries, 0 to 1458\n",
            "Data columns (total 11 columns):\n",
            " #   Column                  Non-Null Count  Dtype  \n",
            "---  ------                  --------------  -----  \n",
            " 0   id                      1459 non-null   int64  \n",
            " 1   hour                    1459 non-null   int64  \n",
            " 2   hour_bef_temperature    1457 non-null   float64\n",
            " 3   hour_bef_precipitation  1457 non-null   float64\n",
            " 4   hour_bef_windspeed      1450 non-null   float64\n",
            " 5   hour_bef_humidity       1457 non-null   float64\n",
            " 6   hour_bef_visibility     1457 non-null   float64\n",
            " 7   hour_bef_ozone          1383 non-null   float64\n",
            " 8   hour_bef_pm10           1369 non-null   float64\n",
            " 9   hour_bef_pm2.5          1342 non-null   float64\n",
            " 10  count                   1459 non-null   float64\n",
            "dtypes: float64(9), int64(2)\n",
            "memory usage: 125.5 KB\n"
          ]
        }
      ]
    },
    {
      "cell_type": "markdown",
      "metadata": {
        "id": "4FBTcD_OQl9E"
      },
      "source": [
        "- 숫자형 (int, float) column들의 기술 통계량을 보여주는 함수\n",
        "\n",
        "- 기술통계량이란?\n",
        " - 해당 column을 대표할 수 있는 통계값들을 의미\n",
        " \n",
        " \n",
        "- 기술통계량 종류\n",
        " - count: 해당 column에서 비어 있지 않은 값의 개수\n",
        " - mean: 평균\n",
        " - std: 표준편차\n",
        " - min: 최솟값 (이상치 포함)\n",
        " - 25% (Q1): 전체 데이터를 순서대로 정렬했을 때, 아래에서 부터 1/4번째 지점에 있는 값\n",
        " - 50% (Q2): 중앙값 (전체 데이터를 순서대로 정렬했을 때, 아래에서 부터 2/4번째 지점에 있는 값)\n",
        " - 75% (Q3): 전체 데이터를 순서대로 정렬했을 때, 아래에서 부터 3/4번째 지점에 있는 값\n",
        " - max: 최댓값 (이상치 포함) \n",
        " \n",
        " \n",
        " \n",
        "- 이상치: 울타리 밖에 있는 부분을 이상치라고 정의함\n",
        "   - 아래쪽 울타리: $Q_1$ - $1.5 * IQR$\n",
        "   - 위쪽 울타리: $Q_3$ + $1.5 * IQR$\n",
        "   - $IQR$ = $Q_3 - Q_1$\n",
        " \n",
        " \n",
        "<img src=\"https://miro.medium.com/max/10125/1*NRlqiZGQdsIyAu0KzP7LaQ.png\" width=\"700\" height=\"500\">"
      ]
    },
    {
      "cell_type": "code",
      "metadata": {
        "id": "LL25rf5NOJHX",
        "colab": {
          "base_uri": "https://localhost:8080/",
          "height": 317
        },
        "outputId": "c864a991-6ddc-45b7-b8db-822d1f731581"
      },
      "source": [
        "train.describe()"
      ],
      "execution_count": null,
      "outputs": [
        {
          "output_type": "execute_result",
          "data": {
            "text/html": [
              "<div>\n",
              "<style scoped>\n",
              "    .dataframe tbody tr th:only-of-type {\n",
              "        vertical-align: middle;\n",
              "    }\n",
              "\n",
              "    .dataframe tbody tr th {\n",
              "        vertical-align: top;\n",
              "    }\n",
              "\n",
              "    .dataframe thead th {\n",
              "        text-align: right;\n",
              "    }\n",
              "</style>\n",
              "<table border=\"1\" class=\"dataframe\">\n",
              "  <thead>\n",
              "    <tr style=\"text-align: right;\">\n",
              "      <th></th>\n",
              "      <th>id</th>\n",
              "      <th>hour</th>\n",
              "      <th>hour_bef_temperature</th>\n",
              "      <th>hour_bef_precipitation</th>\n",
              "      <th>hour_bef_windspeed</th>\n",
              "      <th>hour_bef_humidity</th>\n",
              "      <th>hour_bef_visibility</th>\n",
              "      <th>hour_bef_ozone</th>\n",
              "      <th>hour_bef_pm10</th>\n",
              "      <th>hour_bef_pm2.5</th>\n",
              "      <th>count</th>\n",
              "    </tr>\n",
              "  </thead>\n",
              "  <tbody>\n",
              "    <tr>\n",
              "      <th>count</th>\n",
              "      <td>1459.000000</td>\n",
              "      <td>1459.000000</td>\n",
              "      <td>1457.000000</td>\n",
              "      <td>1457.000000</td>\n",
              "      <td>1450.000000</td>\n",
              "      <td>1457.000000</td>\n",
              "      <td>1457.000000</td>\n",
              "      <td>1383.000000</td>\n",
              "      <td>1369.000000</td>\n",
              "      <td>1342.000000</td>\n",
              "      <td>1459.000000</td>\n",
              "    </tr>\n",
              "    <tr>\n",
              "      <th>mean</th>\n",
              "      <td>1105.914325</td>\n",
              "      <td>11.493489</td>\n",
              "      <td>16.717433</td>\n",
              "      <td>0.031572</td>\n",
              "      <td>2.479034</td>\n",
              "      <td>52.231297</td>\n",
              "      <td>1405.216884</td>\n",
              "      <td>0.039149</td>\n",
              "      <td>57.168736</td>\n",
              "      <td>30.327124</td>\n",
              "      <td>108.563400</td>\n",
              "    </tr>\n",
              "    <tr>\n",
              "      <th>std</th>\n",
              "      <td>631.338681</td>\n",
              "      <td>6.922790</td>\n",
              "      <td>5.239150</td>\n",
              "      <td>0.174917</td>\n",
              "      <td>1.378265</td>\n",
              "      <td>20.370387</td>\n",
              "      <td>583.131708</td>\n",
              "      <td>0.019509</td>\n",
              "      <td>31.771019</td>\n",
              "      <td>14.713252</td>\n",
              "      <td>82.631733</td>\n",
              "    </tr>\n",
              "    <tr>\n",
              "      <th>min</th>\n",
              "      <td>3.000000</td>\n",
              "      <td>0.000000</td>\n",
              "      <td>3.100000</td>\n",
              "      <td>0.000000</td>\n",
              "      <td>0.000000</td>\n",
              "      <td>7.000000</td>\n",
              "      <td>78.000000</td>\n",
              "      <td>0.003000</td>\n",
              "      <td>9.000000</td>\n",
              "      <td>8.000000</td>\n",
              "      <td>1.000000</td>\n",
              "    </tr>\n",
              "    <tr>\n",
              "      <th>25%</th>\n",
              "      <td>555.500000</td>\n",
              "      <td>5.500000</td>\n",
              "      <td>12.800000</td>\n",
              "      <td>0.000000</td>\n",
              "      <td>1.400000</td>\n",
              "      <td>36.000000</td>\n",
              "      <td>879.000000</td>\n",
              "      <td>0.025500</td>\n",
              "      <td>36.000000</td>\n",
              "      <td>20.000000</td>\n",
              "      <td>37.000000</td>\n",
              "    </tr>\n",
              "    <tr>\n",
              "      <th>50%</th>\n",
              "      <td>1115.000000</td>\n",
              "      <td>11.000000</td>\n",
              "      <td>16.600000</td>\n",
              "      <td>0.000000</td>\n",
              "      <td>2.300000</td>\n",
              "      <td>51.000000</td>\n",
              "      <td>1577.000000</td>\n",
              "      <td>0.039000</td>\n",
              "      <td>51.000000</td>\n",
              "      <td>26.000000</td>\n",
              "      <td>96.000000</td>\n",
              "    </tr>\n",
              "    <tr>\n",
              "      <th>75%</th>\n",
              "      <td>1651.000000</td>\n",
              "      <td>17.500000</td>\n",
              "      <td>20.100000</td>\n",
              "      <td>0.000000</td>\n",
              "      <td>3.400000</td>\n",
              "      <td>69.000000</td>\n",
              "      <td>1994.000000</td>\n",
              "      <td>0.052000</td>\n",
              "      <td>69.000000</td>\n",
              "      <td>37.000000</td>\n",
              "      <td>150.000000</td>\n",
              "    </tr>\n",
              "    <tr>\n",
              "      <th>max</th>\n",
              "      <td>2179.000000</td>\n",
              "      <td>23.000000</td>\n",
              "      <td>30.000000</td>\n",
              "      <td>1.000000</td>\n",
              "      <td>8.000000</td>\n",
              "      <td>99.000000</td>\n",
              "      <td>2000.000000</td>\n",
              "      <td>0.125000</td>\n",
              "      <td>269.000000</td>\n",
              "      <td>90.000000</td>\n",
              "      <td>431.000000</td>\n",
              "    </tr>\n",
              "  </tbody>\n",
              "</table>\n",
              "</div>"
            ],
            "text/plain": [
              "                id         hour  ...  hour_bef_pm2.5        count\n",
              "count  1459.000000  1459.000000  ...     1342.000000  1459.000000\n",
              "mean   1105.914325    11.493489  ...       30.327124   108.563400\n",
              "std     631.338681     6.922790  ...       14.713252    82.631733\n",
              "min       3.000000     0.000000  ...        8.000000     1.000000\n",
              "25%     555.500000     5.500000  ...       20.000000    37.000000\n",
              "50%    1115.000000    11.000000  ...       26.000000    96.000000\n",
              "75%    1651.000000    17.500000  ...       37.000000   150.000000\n",
              "max    2179.000000    23.000000  ...       90.000000   431.000000\n",
              "\n",
              "[8 rows x 11 columns]"
            ]
          },
          "metadata": {},
          "execution_count": 9
        }
      ]
    },
    {
      "cell_type": "markdown",
      "metadata": {
        "id": "HYyUp475LH4H"
      },
      "source": [
        "### 시각화"
      ]
    },
    {
      "cell_type": "code",
      "metadata": {
        "id": "ydlCBzfNV1nB",
        "colab": {
          "base_uri": "https://localhost:8080/",
          "height": 624
        },
        "outputId": "f9dbdabd-058e-4676-e26c-552256f09de0"
      },
      "source": [
        "#출퇴근 시간에 따릉이의 수요가 증가하는 걸 볼수 있다. 특히 퇴근시간에 수요가 높다.\n",
        "plt.figure(figsize=(20,10))\n",
        "train.groupby('hour')['count'].mean().plot()"
      ],
      "execution_count": null,
      "outputs": [
        {
          "output_type": "execute_result",
          "data": {
            "text/plain": [
              "<matplotlib.axes._subplots.AxesSubplot at 0x7f65028e4e10>"
            ]
          },
          "metadata": {},
          "execution_count": 10
        },
        {
          "output_type": "stream",
          "name": "stderr",
          "text": [
            "findfont: Font family ['NanumBarunGothic'] not found. Falling back to DejaVu Sans.\n"
          ]
        },
        {
          "output_type": "display_data",
          "data": {
            "image/png": "[encoded data removed]",
            "text/plain": [
              "<Figure size 1440x720 with 1 Axes>"
            ]
          },
          "metadata": {
            "needs_background": "light"
          }
        }
      ]
    },
    {
      "cell_type": "code",
      "metadata": {
        "id": "-WeWFGQQHPKw",
        "colab": {
          "base_uri": "https://localhost:8080/",
          "height": 283
        },
        "outputId": "76d38eeb-0da2-40db-9722-5c40bff7ded9"
      },
      "source": [
        "plt.plot('hour', 'count', 'bo', data = train)"
      ],
      "execution_count": null,
      "outputs": [
        {
          "output_type": "execute_result",
          "data": {
            "text/plain": [
              "[<matplotlib.lines.Line2D at 0x7f65022d1e50>]"
            ]
          },
          "metadata": {},
          "execution_count": 11
        },
        {
          "output_type": "display_data",
          "data": {
            "image/png": "[encoded data removed]",
            "text/plain": [
              "<Figure size 432x288 with 1 Axes>"
            ]
          },
          "metadata": {
            "needs_background": "light"
          }
        }
      ]
    },
    {
      "cell_type": "code",
      "metadata": {
        "id": "glAWW1gXHhkZ",
        "colab": {
          "base_uri": "https://localhost:8080/",
          "height": 111
        },
        "outputId": "a29e8478-17da-4b90-efe4-608c4a0f0bd0"
      },
      "source": [
        "# 17~18시 사이에 수요가 15992로 가장 많은 건수를 기록했다.\n",
        "# 시간별로 주기성을 보이고 있다.\n",
        "# 아침 7~8시 사이에 단기적으로 수요가 급증\n",
        "result = pd.DataFrame(train.groupby('hour').agg({'count':['count','sum']}))\n",
        "result.transpose()"
      ],
      "execution_count": null,
      "outputs": [
        {
          "output_type": "execute_result",
          "data": {
            "text/html": [
              "<div>\n",
              "<style scoped>\n",
              "    .dataframe tbody tr th:only-of-type {\n",
              "        vertical-align: middle;\n",
              "    }\n",
              "\n",
              "    .dataframe tbody tr th {\n",
              "        vertical-align: top;\n",
              "    }\n",
              "\n",
              "    .dataframe thead th {\n",
              "        text-align: right;\n",
              "    }\n",
              "</style>\n",
              "<table border=\"1\" class=\"dataframe\">\n",
              "  <thead>\n",
              "    <tr style=\"text-align: right;\">\n",
              "      <th></th>\n",
              "      <th>hour</th>\n",
              "      <th>0</th>\n",
              "      <th>1</th>\n",
              "      <th>2</th>\n",
              "      <th>3</th>\n",
              "      <th>4</th>\n",
              "      <th>5</th>\n",
              "      <th>6</th>\n",
              "      <th>7</th>\n",
              "      <th>8</th>\n",
              "      <th>9</th>\n",
              "      <th>10</th>\n",
              "      <th>11</th>\n",
              "      <th>12</th>\n",
              "      <th>13</th>\n",
              "      <th>14</th>\n",
              "      <th>15</th>\n",
              "      <th>16</th>\n",
              "      <th>17</th>\n",
              "      <th>18</th>\n",
              "      <th>19</th>\n",
              "      <th>20</th>\n",
              "      <th>21</th>\n",
              "      <th>22</th>\n",
              "      <th>23</th>\n",
              "    </tr>\n",
              "  </thead>\n",
              "  <tbody>\n",
              "    <tr>\n",
              "      <th rowspan=\"2\" valign=\"top\">count</th>\n",
              "      <th>count</th>\n",
              "      <td>60.0</td>\n",
              "      <td>61.0</td>\n",
              "      <td>61.0</td>\n",
              "      <td>61.0</td>\n",
              "      <td>61.0</td>\n",
              "      <td>61.0</td>\n",
              "      <td>61.0</td>\n",
              "      <td>61.0</td>\n",
              "      <td>61.0</td>\n",
              "      <td>61.0</td>\n",
              "      <td>61.0</td>\n",
              "      <td>61.0</td>\n",
              "      <td>61.0</td>\n",
              "      <td>60.0</td>\n",
              "      <td>61.0</td>\n",
              "      <td>61.0</td>\n",
              "      <td>60.0</td>\n",
              "      <td>60.0</td>\n",
              "      <td>61.0</td>\n",
              "      <td>61.0</td>\n",
              "      <td>61.0</td>\n",
              "      <td>60.0</td>\n",
              "      <td>61.0</td>\n",
              "      <td>61.0</td>\n",
              "    </tr>\n",
              "    <tr>\n",
              "      <th>sum</th>\n",
              "      <td>4306.0</td>\n",
              "      <td>2904.0</td>\n",
              "      <td>1916.0</td>\n",
              "      <td>1304.0</td>\n",
              "      <td>825.0</td>\n",
              "      <td>800.0</td>\n",
              "      <td>1498.0</td>\n",
              "      <td>3804.0</td>\n",
              "      <td>8338.0</td>\n",
              "      <td>5706.0</td>\n",
              "      <td>4807.0</td>\n",
              "      <td>5388.0</td>\n",
              "      <td>6826.0</td>\n",
              "      <td>7203.0</td>\n",
              "      <td>8210.0</td>\n",
              "      <td>9331.0</td>\n",
              "      <td>10146.0</td>\n",
              "      <td>11228.0</td>\n",
              "      <td>15992.0</td>\n",
              "      <td>12298.0</td>\n",
              "      <td>10057.0</td>\n",
              "      <td>10129.0</td>\n",
              "      <td>9043.0</td>\n",
              "      <td>6335.0</td>\n",
              "    </tr>\n",
              "  </tbody>\n",
              "</table>\n",
              "</div>"
            ],
            "text/plain": [
              "hour             0       1       2       3   ...       20       21      22      23\n",
              "count count    60.0    61.0    61.0    61.0  ...     61.0     60.0    61.0    61.0\n",
              "      sum    4306.0  2904.0  1916.0  1304.0  ...  10057.0  10129.0  9043.0  6335.0\n",
              "\n",
              "[2 rows x 24 columns]"
            ]
          },
          "metadata": {},
          "execution_count": 12
        }
      ]
    },
    {
      "cell_type": "code",
      "metadata": {
        "id": "bXj5wd2qHoDP",
        "colab": {
          "base_uri": "https://localhost:8080/",
          "height": 313
        },
        "outputId": "65595bf6-f6ca-4733-f5d5-3acf643deaf9"
      },
      "source": [
        "sns.barplot(x=result.index, y = result.iloc[:,-1], data=result)\n",
        "plt.title('시간대별 총 수요 합계')\n",
        "plt.show()"
      ],
      "execution_count": null,
      "outputs": [
        {
          "output_type": "stream",
          "name": "stderr",
          "text": [
            "findfont: Font family ['NanumBarunGothic'] not found. Falling back to DejaVu Sans.\n"
          ]
        },
        {
          "output_type": "display_data",
          "data": {
            "image/png": "[encoded data removed]",
            "text/plain": [
              "<Figure size 432x288 with 1 Axes>"
            ]
          },
          "metadata": {
            "needs_background": "light"
          }
        }
      ]
    },
    {
      "cell_type": "code",
      "metadata": {
        "id": "9o5A2qoNRF4k",
        "colab": {
          "base_uri": "https://localhost:8080/",
          "height": 459
        },
        "outputId": "b80d00d5-ac91-489f-9935-06be4d05dfc9"
      },
      "source": [
        "sns.jointplot('hour', 'count', data = train, alpha = 0.1)"
      ],
      "execution_count": null,
      "outputs": [
        {
          "output_type": "execute_result",
          "data": {
            "text/plain": [
              "<seaborn.axisgrid.JointGrid at 0x7f6502170950>"
            ]
          },
          "metadata": {},
          "execution_count": 14
        },
        {
          "output_type": "display_data",
          "data": {
            "image/png": "[encoded data removed]",
            "text/plain": [
              "<Figure size 432x432 with 3 Axes>"
            ]
          },
          "metadata": {
            "needs_background": "light"
          }
        }
      ]
    },
    {
      "cell_type": "code",
      "metadata": {
        "id": "SI6y2nFiJxKJ",
        "colab": {
          "base_uri": "https://localhost:8080/",
          "height": 1000
        },
        "outputId": "052a85e4-b856-4a40-b6c7-eb0f3c7105f4"
      },
      "source": [
        "for col in [ col for col in train.iloc[:,2:].columns.to_list()]:\n",
        "  sns.boxplot(x='hour', y=col, data=train)\n",
        "  plt.title('%s_boxplot'%col)\n",
        "  plt.show()"
      ],
      "execution_count": null,
      "outputs": [
        {
          "output_type": "display_data",
          "data": {
            "image/png": "[encoded data removed]",
            "text/plain": [
              "<Figure size 432x288 with 1 Axes>"
            ]
          },
          "metadata": {
            "needs_background": "light"
          }
        },
        {
          "output_type": "display_data",
          "data": {
            "image/png": "[encoded data removed]",
            "text/plain": [
              "<Figure size 432x288 with 1 Axes>"
            ]
          },
          "metadata": {
            "needs_background": "light"
          }
        },
        {
          "output_type": "display_data",
          "data": {
            "image/png": "[encoded data removed]",
            "text/plain": [
              "<Figure size 432x288 with 1 Axes>"
            ]
          },
          "metadata": {
            "needs_background": "light"
          }
        },
        {
          "output_type": "display_data",
          "data": {
            "image/png": "[encoded data removed]",
            "text/plain": [
              "<Figure size 432x288 with 1 Axes>"
            ]
          },
          "metadata": {
            "needs_background": "light"
          }
        },
        {
          "output_type": "display_data",
          "data": {
            "image/png": "[encoded data removed]",
            "text/plain": [
              "<Figure size 432x288 with 1 Axes>"
            ]
          },
          "metadata": {
            "needs_background": "light"
          }
        },
        {
          "output_type": "display_data",
          "data": {
            "image/png": "[encoded data removed]",
            "text/plain": [
              "<Figure size 432x288 with 1 Axes>"
            ]
          },
          "metadata": {
            "needs_background": "light"
          }
        },
        {
          "output_type": "display_data",
          "data": {
            "image/png": "[encoded data removed]",
            "text/plain": [
              "<Figure size 432x288 with 1 Axes>"
            ]
          },
          "metadata": {
            "needs_background": "light"
          }
        },
        {
          "output_type": "display_data",
          "data": {
            "image/png": "[encoded data removed]",
            "text/plain": [
              "<Figure size 432x288 with 1 Axes>"
            ]
          },
          "metadata": {
            "needs_background": "light"
          }
        },
        {
          "output_type": "display_data",
          "data": {
            "image/png": "[encoded data removed]",
            "text/plain": [
              "<Figure size 432x288 with 1 Axes>"
            ]
          },
          "metadata": {
            "needs_background": "light"
          }
        }
      ]
    },
    {
      "cell_type": "code",
      "metadata": {
        "colab": {
          "base_uri": "https://localhost:8080/",
          "height": 419
        },
        "id": "yoaJO4EkBV2-",
        "outputId": "8842a971-14db-4819-8f30-c755ab5ebf90"
      },
      "source": [
        "train"
      ],
      "execution_count": null,
      "outputs": [
        {
          "output_type": "execute_result",
          "data": {
            "text/html": [
              "<div>\n",
              "<style scoped>\n",
              "    .dataframe tbody tr th:only-of-type {\n",
              "        vertical-align: middle;\n",
              "    }\n",
              "\n",
              "    .dataframe tbody tr th {\n",
              "        vertical-align: top;\n",
              "    }\n",
              "\n",
              "    .dataframe thead th {\n",
              "        text-align: right;\n",
              "    }\n",
              "</style>\n",
              "<table border=\"1\" class=\"dataframe\">\n",
              "  <thead>\n",
              "    <tr style=\"text-align: right;\">\n",
              "      <th></th>\n",
              "      <th>id</th>\n",
              "      <th>hour</th>\n",
              "      <th>hour_bef_temperature</th>\n",
              "      <th>hour_bef_precipitation</th>\n",
              "      <th>hour_bef_windspeed</th>\n",
              "      <th>hour_bef_humidity</th>\n",
              "      <th>hour_bef_visibility</th>\n",
              "      <th>hour_bef_ozone</th>\n",
              "      <th>hour_bef_pm10</th>\n",
              "      <th>hour_bef_pm2.5</th>\n",
              "      <th>count</th>\n",
              "    </tr>\n",
              "  </thead>\n",
              "  <tbody>\n",
              "    <tr>\n",
              "      <th>0</th>\n",
              "      <td>3</td>\n",
              "      <td>20</td>\n",
              "      <td>16.3</td>\n",
              "      <td>1.0</td>\n",
              "      <td>1.5</td>\n",
              "      <td>89.0</td>\n",
              "      <td>576.0</td>\n",
              "      <td>0.027</td>\n",
              "      <td>76.0</td>\n",
              "      <td>33.0</td>\n",
              "      <td>49.0</td>\n",
              "    </tr>\n",
              "    <tr>\n",
              "      <th>1</th>\n",
              "      <td>6</td>\n",
              "      <td>13</td>\n",
              "      <td>20.1</td>\n",
              "      <td>0.0</td>\n",
              "      <td>1.4</td>\n",
              "      <td>48.0</td>\n",
              "      <td>916.0</td>\n",
              "      <td>0.042</td>\n",
              "      <td>73.0</td>\n",
              "      <td>40.0</td>\n",
              "      <td>159.0</td>\n",
              "    </tr>\n",
              "    <tr>\n",
              "      <th>2</th>\n",
              "      <td>7</td>\n",
              "      <td>6</td>\n",
              "      <td>13.9</td>\n",
              "      <td>0.0</td>\n",
              "      <td>0.7</td>\n",
              "      <td>79.0</td>\n",
              "      <td>1382.0</td>\n",
              "      <td>0.033</td>\n",
              "      <td>32.0</td>\n",
              "      <td>19.0</td>\n",
              "      <td>26.0</td>\n",
              "    </tr>\n",
              "    <tr>\n",
              "      <th>3</th>\n",
              "      <td>8</td>\n",
              "      <td>23</td>\n",
              "      <td>8.1</td>\n",
              "      <td>0.0</td>\n",
              "      <td>2.7</td>\n",
              "      <td>54.0</td>\n",
              "      <td>946.0</td>\n",
              "      <td>0.040</td>\n",
              "      <td>75.0</td>\n",
              "      <td>64.0</td>\n",
              "      <td>57.0</td>\n",
              "    </tr>\n",
              "    <tr>\n",
              "      <th>4</th>\n",
              "      <td>9</td>\n",
              "      <td>18</td>\n",
              "      <td>29.5</td>\n",
              "      <td>0.0</td>\n",
              "      <td>4.8</td>\n",
              "      <td>7.0</td>\n",
              "      <td>2000.0</td>\n",
              "      <td>0.057</td>\n",
              "      <td>27.0</td>\n",
              "      <td>11.0</td>\n",
              "      <td>431.0</td>\n",
              "    </tr>\n",
              "    <tr>\n",
              "      <th>...</th>\n",
              "      <td>...</td>\n",
              "      <td>...</td>\n",
              "      <td>...</td>\n",
              "      <td>...</td>\n",
              "      <td>...</td>\n",
              "      <td>...</td>\n",
              "      <td>...</td>\n",
              "      <td>...</td>\n",
              "      <td>...</td>\n",
              "      <td>...</td>\n",
              "      <td>...</td>\n",
              "    </tr>\n",
              "    <tr>\n",
              "      <th>1454</th>\n",
              "      <td>2174</td>\n",
              "      <td>4</td>\n",
              "      <td>16.8</td>\n",
              "      <td>0.0</td>\n",
              "      <td>1.6</td>\n",
              "      <td>53.0</td>\n",
              "      <td>2000.0</td>\n",
              "      <td>0.031</td>\n",
              "      <td>37.0</td>\n",
              "      <td>27.0</td>\n",
              "      <td>21.0</td>\n",
              "    </tr>\n",
              "    <tr>\n",
              "      <th>1455</th>\n",
              "      <td>2175</td>\n",
              "      <td>3</td>\n",
              "      <td>10.8</td>\n",
              "      <td>0.0</td>\n",
              "      <td>3.8</td>\n",
              "      <td>45.0</td>\n",
              "      <td>2000.0</td>\n",
              "      <td>0.039</td>\n",
              "      <td>34.0</td>\n",
              "      <td>19.0</td>\n",
              "      <td>20.0</td>\n",
              "    </tr>\n",
              "    <tr>\n",
              "      <th>1456</th>\n",
              "      <td>2176</td>\n",
              "      <td>5</td>\n",
              "      <td>18.3</td>\n",
              "      <td>0.0</td>\n",
              "      <td>1.9</td>\n",
              "      <td>54.0</td>\n",
              "      <td>2000.0</td>\n",
              "      <td>0.009</td>\n",
              "      <td>30.0</td>\n",
              "      <td>21.0</td>\n",
              "      <td>22.0</td>\n",
              "    </tr>\n",
              "    <tr>\n",
              "      <th>1457</th>\n",
              "      <td>2178</td>\n",
              "      <td>21</td>\n",
              "      <td>20.7</td>\n",
              "      <td>0.0</td>\n",
              "      <td>3.7</td>\n",
              "      <td>37.0</td>\n",
              "      <td>1395.0</td>\n",
              "      <td>0.082</td>\n",
              "      <td>71.0</td>\n",
              "      <td>36.0</td>\n",
              "      <td>216.0</td>\n",
              "    </tr>\n",
              "    <tr>\n",
              "      <th>1458</th>\n",
              "      <td>2179</td>\n",
              "      <td>17</td>\n",
              "      <td>21.1</td>\n",
              "      <td>0.0</td>\n",
              "      <td>3.1</td>\n",
              "      <td>47.0</td>\n",
              "      <td>1973.0</td>\n",
              "      <td>0.046</td>\n",
              "      <td>38.0</td>\n",
              "      <td>17.0</td>\n",
              "      <td>170.0</td>\n",
              "    </tr>\n",
              "  </tbody>\n",
              "</table>\n",
              "<p>1459 rows × 11 columns</p>\n",
              "</div>"
            ],
            "text/plain": [
              "        id  hour  hour_bef_temperature  ...  hour_bef_pm10  hour_bef_pm2.5  count\n",
              "0        3    20                  16.3  ...           76.0            33.0   49.0\n",
              "1        6    13                  20.1  ...           73.0            40.0  159.0\n",
              "2        7     6                  13.9  ...           32.0            19.0   26.0\n",
              "3        8    23                   8.1  ...           75.0            64.0   57.0\n",
              "4        9    18                  29.5  ...           27.0            11.0  431.0\n",
              "...    ...   ...                   ...  ...            ...             ...    ...\n",
              "1454  2174     4                  16.8  ...           37.0            27.0   21.0\n",
              "1455  2175     3                  10.8  ...           34.0            19.0   20.0\n",
              "1456  2176     5                  18.3  ...           30.0            21.0   22.0\n",
              "1457  2178    21                  20.7  ...           71.0            36.0  216.0\n",
              "1458  2179    17                  21.1  ...           38.0            17.0  170.0\n",
              "\n",
              "[1459 rows x 11 columns]"
            ]
          },
          "metadata": {},
          "execution_count": 16
        }
      ]
    },
    {
      "cell_type": "code",
      "metadata": {
        "id": "LNanKF_iEFsu"
      },
      "source": [
        ""
      ],
      "execution_count": null,
      "outputs": []
    },
    {
      "cell_type": "code",
      "metadata": {
        "id": "E5iDKUmTEFyH"
      },
      "source": [
        ""
      ],
      "execution_count": null,
      "outputs": []
    },
    {
      "cell_type": "code",
      "metadata": {
        "id": "0fPds2i6EF1L"
      },
      "source": [
        ""
      ],
      "execution_count": null,
      "outputs": []
    },
    {
      "cell_type": "markdown",
      "metadata": {
        "id": "fEiyzXFCStH4"
      },
      "source": [
        "### 상관계수"
      ]
    },
    {
      "cell_type": "code",
      "metadata": {
        "id": "IC1gZrgbOW5y",
        "colab": {
          "base_uri": "https://localhost:8080/",
          "height": 715
        },
        "outputId": "11ec183c-ea96-401e-e8c1-218ca6071cc3"
      },
      "source": [
        "plt.figure(figsize=(10,10))\n",
        "sns.heatmap(train.corr(),annot=True)"
      ],
      "execution_count": null,
      "outputs": [
        {
          "output_type": "execute_result",
          "data": {
            "text/plain": [
              "<matplotlib.axes._subplots.AxesSubplot at 0x7f64f9253b90>"
            ]
          },
          "metadata": {},
          "execution_count": 17
        },
        {
          "output_type": "display_data",
          "data": {
            "image/png": "[encoded data removed]",
            "text/plain": [
              "<Figure size 720x720 with 2 Axes>"
            ]
          },
          "metadata": {
            "needs_background": "light"
          }
        }
      ]
    },
    {
      "cell_type": "code",
      "metadata": {
        "id": "LqYP2rDbt6fT"
      },
      "source": [
        "#산점도로 분포 확인\n",
        "# sns.pairplot(train.iloc[:,2:])"
      ],
      "execution_count": null,
      "outputs": []
    },
    {
      "cell_type": "markdown",
      "metadata": {
        "id": "3zjQY_KY2lnR"
      },
      "source": [
        "## 3. 데이터 전처리\n",
        "## Data Cleansing & Pre-Processing  "
      ]
    },
    {
      "cell_type": "markdown",
      "metadata": {
        "id": "0y4EQIRwQl-C"
      },
      "source": [
        "### 결측치 예측 처리"
      ]
    },
    {
      "cell_type": "code",
      "metadata": {
        "colab": {
          "base_uri": "https://localhost:8080/"
        },
        "id": "DqjiNUHwM-dP",
        "outputId": "0ce8f9c2-e4cf-493e-a34a-f578079a7049"
      },
      "source": [
        "test.isna().sum()"
      ],
      "execution_count": null,
      "outputs": [
        {
          "output_type": "execute_result",
          "data": {
            "text/plain": [
              "id                         0\n",
              "hour                       0\n",
              "hour_bef_temperature       1\n",
              "hour_bef_precipitation     1\n",
              "hour_bef_windspeed         1\n",
              "hour_bef_humidity          1\n",
              "hour_bef_visibility        1\n",
              "hour_bef_ozone            35\n",
              "hour_bef_pm10             37\n",
              "hour_bef_pm2.5            36\n",
              "dtype: int64"
            ]
          },
          "metadata": {},
          "execution_count": 19
        }
      ]
    },
    {
      "cell_type": "code",
      "metadata": {
        "id": "vte6KIUGlRDv",
        "colab": {
          "base_uri": "https://localhost:8080/"
        },
        "outputId": "125865a3-5737-4c47-aa46-8c42905996b6"
      },
      "source": [
        "train.isna().sum()"
      ],
      "execution_count": null,
      "outputs": [
        {
          "output_type": "execute_result",
          "data": {
            "text/plain": [
              "id                          0\n",
              "hour                        0\n",
              "hour_bef_temperature        2\n",
              "hour_bef_precipitation      2\n",
              "hour_bef_windspeed          9\n",
              "hour_bef_humidity           2\n",
              "hour_bef_visibility         2\n",
              "hour_bef_ozone             76\n",
              "hour_bef_pm10              90\n",
              "hour_bef_pm2.5            117\n",
              "count                       0\n",
              "dtype: int64"
            ]
          },
          "metadata": {},
          "execution_count": 20
        }
      ]
    },
    {
      "cell_type": "code",
      "metadata": {
        "colab": {
          "base_uri": "https://localhost:8080/",
          "height": 204
        },
        "id": "vqT_jELH6z5D",
        "outputId": "4f1b79fe-de17-4049-80a0-480764c575e0"
      },
      "source": [
        "train[train['hour_bef_ozone'].isna()].head()"
      ],
      "execution_count": null,
      "outputs": [
        {
          "output_type": "execute_result",
          "data": {
            "text/html": [
              "<div>\n",
              "<style scoped>\n",
              "    .dataframe tbody tr th:only-of-type {\n",
              "        vertical-align: middle;\n",
              "    }\n",
              "\n",
              "    .dataframe tbody tr th {\n",
              "        vertical-align: top;\n",
              "    }\n",
              "\n",
              "    .dataframe thead th {\n",
              "        text-align: right;\n",
              "    }\n",
              "</style>\n",
              "<table border=\"1\" class=\"dataframe\">\n",
              "  <thead>\n",
              "    <tr style=\"text-align: right;\">\n",
              "      <th></th>\n",
              "      <th>id</th>\n",
              "      <th>hour</th>\n",
              "      <th>hour_bef_temperature</th>\n",
              "      <th>hour_bef_precipitation</th>\n",
              "      <th>hour_bef_windspeed</th>\n",
              "      <th>hour_bef_humidity</th>\n",
              "      <th>hour_bef_visibility</th>\n",
              "      <th>hour_bef_ozone</th>\n",
              "      <th>hour_bef_pm10</th>\n",
              "      <th>hour_bef_pm2.5</th>\n",
              "      <th>count</th>\n",
              "    </tr>\n",
              "  </thead>\n",
              "  <tbody>\n",
              "    <tr>\n",
              "      <th>14</th>\n",
              "      <td>28</td>\n",
              "      <td>1</td>\n",
              "      <td>20.0</td>\n",
              "      <td>0.0</td>\n",
              "      <td>1.8</td>\n",
              "      <td>58.0</td>\n",
              "      <td>2000.0</td>\n",
              "      <td>NaN</td>\n",
              "      <td>NaN</td>\n",
              "      <td>NaN</td>\n",
              "      <td>74.0</td>\n",
              "    </tr>\n",
              "    <tr>\n",
              "      <th>44</th>\n",
              "      <td>76</td>\n",
              "      <td>17</td>\n",
              "      <td>21.7</td>\n",
              "      <td>0.0</td>\n",
              "      <td>3.0</td>\n",
              "      <td>35.0</td>\n",
              "      <td>2000.0</td>\n",
              "      <td>NaN</td>\n",
              "      <td>32.0</td>\n",
              "      <td>19.0</td>\n",
              "      <td>213.0</td>\n",
              "    </tr>\n",
              "    <tr>\n",
              "      <th>46</th>\n",
              "      <td>78</td>\n",
              "      <td>1</td>\n",
              "      <td>12.2</td>\n",
              "      <td>0.0</td>\n",
              "      <td>3.0</td>\n",
              "      <td>49.0</td>\n",
              "      <td>1071.0</td>\n",
              "      <td>NaN</td>\n",
              "      <td>NaN</td>\n",
              "      <td>NaN</td>\n",
              "      <td>36.0</td>\n",
              "    </tr>\n",
              "    <tr>\n",
              "      <th>84</th>\n",
              "      <td>130</td>\n",
              "      <td>1</td>\n",
              "      <td>9.4</td>\n",
              "      <td>0.0</td>\n",
              "      <td>2.5</td>\n",
              "      <td>65.0</td>\n",
              "      <td>1907.0</td>\n",
              "      <td>NaN</td>\n",
              "      <td>NaN</td>\n",
              "      <td>NaN</td>\n",
              "      <td>39.0</td>\n",
              "    </tr>\n",
              "    <tr>\n",
              "      <th>122</th>\n",
              "      <td>181</td>\n",
              "      <td>16</td>\n",
              "      <td>26.2</td>\n",
              "      <td>0.0</td>\n",
              "      <td>4.3</td>\n",
              "      <td>31.0</td>\n",
              "      <td>1718.0</td>\n",
              "      <td>NaN</td>\n",
              "      <td>47.0</td>\n",
              "      <td>23.0</td>\n",
              "      <td>136.0</td>\n",
              "    </tr>\n",
              "  </tbody>\n",
              "</table>\n",
              "</div>"
            ],
            "text/plain": [
              "      id  hour  hour_bef_temperature  ...  hour_bef_pm10  hour_bef_pm2.5  count\n",
              "14    28     1                  20.0  ...            NaN             NaN   74.0\n",
              "44    76    17                  21.7  ...           32.0            19.0  213.0\n",
              "46    78     1                  12.2  ...            NaN             NaN   36.0\n",
              "84   130     1                   9.4  ...            NaN             NaN   39.0\n",
              "122  181    16                  26.2  ...           47.0            23.0  136.0\n",
              "\n",
              "[5 rows x 11 columns]"
            ]
          },
          "metadata": {},
          "execution_count": 21
        }
      ]
    },
    {
      "cell_type": "markdown",
      "metadata": {
        "id": "jhQkQT8HNzBs"
      },
      "source": [
        "#### hour_bef_precipitation은 제외한 변수들은 평균값으로 대체"
      ]
    },
    {
      "cell_type": "code",
      "metadata": {
        "colab": {
          "base_uri": "https://localhost:8080/",
          "height": 204
        },
        "id": "F_gDB49SO91d",
        "outputId": "35001b45-671e-48a2-f84e-9b02b62a5b1c"
      },
      "source": [
        "train.head()"
      ],
      "execution_count": null,
      "outputs": [
        {
          "output_type": "execute_result",
          "data": {
            "text/html": [
              "<div>\n",
              "<style scoped>\n",
              "    .dataframe tbody tr th:only-of-type {\n",
              "        vertical-align: middle;\n",
              "    }\n",
              "\n",
              "    .dataframe tbody tr th {\n",
              "        vertical-align: top;\n",
              "    }\n",
              "\n",
              "    .dataframe thead th {\n",
              "        text-align: right;\n",
              "    }\n",
              "</style>\n",
              "<table border=\"1\" class=\"dataframe\">\n",
              "  <thead>\n",
              "    <tr style=\"text-align: right;\">\n",
              "      <th></th>\n",
              "      <th>id</th>\n",
              "      <th>hour</th>\n",
              "      <th>hour_bef_temperature</th>\n",
              "      <th>hour_bef_precipitation</th>\n",
              "      <th>hour_bef_windspeed</th>\n",
              "      <th>hour_bef_humidity</th>\n",
              "      <th>hour_bef_visibility</th>\n",
              "      <th>hour_bef_ozone</th>\n",
              "      <th>hour_bef_pm10</th>\n",
              "      <th>hour_bef_pm2.5</th>\n",
              "      <th>count</th>\n",
              "    </tr>\n",
              "  </thead>\n",
              "  <tbody>\n",
              "    <tr>\n",
              "      <th>0</th>\n",
              "      <td>3</td>\n",
              "      <td>20</td>\n",
              "      <td>16.3</td>\n",
              "      <td>1.0</td>\n",
              "      <td>1.5</td>\n",
              "      <td>89.0</td>\n",
              "      <td>576.0</td>\n",
              "      <td>0.027</td>\n",
              "      <td>76.0</td>\n",
              "      <td>33.0</td>\n",
              "      <td>49.0</td>\n",
              "    </tr>\n",
              "    <tr>\n",
              "      <th>1</th>\n",
              "      <td>6</td>\n",
              "      <td>13</td>\n",
              "      <td>20.1</td>\n",
              "      <td>0.0</td>\n",
              "      <td>1.4</td>\n",
              "      <td>48.0</td>\n",
              "      <td>916.0</td>\n",
              "      <td>0.042</td>\n",
              "      <td>73.0</td>\n",
              "      <td>40.0</td>\n",
              "      <td>159.0</td>\n",
              "    </tr>\n",
              "    <tr>\n",
              "      <th>2</th>\n",
              "      <td>7</td>\n",
              "      <td>6</td>\n",
              "      <td>13.9</td>\n",
              "      <td>0.0</td>\n",
              "      <td>0.7</td>\n",
              "      <td>79.0</td>\n",
              "      <td>1382.0</td>\n",
              "      <td>0.033</td>\n",
              "      <td>32.0</td>\n",
              "      <td>19.0</td>\n",
              "      <td>26.0</td>\n",
              "    </tr>\n",
              "    <tr>\n",
              "      <th>3</th>\n",
              "      <td>8</td>\n",
              "      <td>23</td>\n",
              "      <td>8.1</td>\n",
              "      <td>0.0</td>\n",
              "      <td>2.7</td>\n",
              "      <td>54.0</td>\n",
              "      <td>946.0</td>\n",
              "      <td>0.040</td>\n",
              "      <td>75.0</td>\n",
              "      <td>64.0</td>\n",
              "      <td>57.0</td>\n",
              "    </tr>\n",
              "    <tr>\n",
              "      <th>4</th>\n",
              "      <td>9</td>\n",
              "      <td>18</td>\n",
              "      <td>29.5</td>\n",
              "      <td>0.0</td>\n",
              "      <td>4.8</td>\n",
              "      <td>7.0</td>\n",
              "      <td>2000.0</td>\n",
              "      <td>0.057</td>\n",
              "      <td>27.0</td>\n",
              "      <td>11.0</td>\n",
              "      <td>431.0</td>\n",
              "    </tr>\n",
              "  </tbody>\n",
              "</table>\n",
              "</div>"
            ],
            "text/plain": [
              "   id  hour  hour_bef_temperature  ...  hour_bef_pm10  hour_bef_pm2.5  count\n",
              "0   3    20                  16.3  ...           76.0            33.0   49.0\n",
              "1   6    13                  20.1  ...           73.0            40.0  159.0\n",
              "2   7     6                  13.9  ...           32.0            19.0   26.0\n",
              "3   8    23                   8.1  ...           75.0            64.0   57.0\n",
              "4   9    18                  29.5  ...           27.0            11.0  431.0\n",
              "\n",
              "[5 rows x 11 columns]"
            ]
          },
          "metadata": {},
          "execution_count": 22
        }
      ]
    },
    {
      "cell_type": "code",
      "metadata": {
        "colab": {
          "base_uri": "https://localhost:8080/"
        },
        "id": "LYlzJuD9OA8X",
        "outputId": "90613371-5392-481f-e87a-15519154341c"
      },
      "source": [
        "def nan_mean_fill(dataset):\n",
        "  #결측치가 있는 컬럼\n",
        "  nan_columns = [col for col in dataset.iloc[:,2:-1].columns.to_list() if col!='hour_bef_precipitation' and col!='hour_bef_ozone' and col!='hour_bef_pm10' and col!='hour_bef_pm2.5']\n",
        "\n",
        "  #for 문을 통해 결측치를 각 시간대별 평균값으로 대체\n",
        "  for col in nan_columns:\n",
        "    hour_mean_value = dataset.groupby('hour').mean()[col]\n",
        "    hour_mean_value.fillna(hour_mean_value.mean(),inplace=True) #회귀를 통해서 값 채우기 시도\n",
        "\n",
        "    for nan_hour in dataset[dataset[col].isna()]['hour'].unique():\n",
        "      \n",
        "      #nan index 구하기\n",
        "      index= dataset[dataset[col].isna()].loc[dataset['hour']==nan_hour,col].index\n",
        "\n",
        "      #채우기 \n",
        "      for idx in index:\n",
        "        dataset.loc[idx, col] = hour_mean_value[nan_hour]\n",
        "        \n",
        "  print(dataset.isna().sum())\n",
        "  return dataset\n",
        "\n",
        "train = nan_mean_fill(train)\n",
        "test= nan_mean_fill(test)"
      ],
      "execution_count": null,
      "outputs": [
        {
          "output_type": "stream",
          "name": "stdout",
          "text": [
            "id                          0\n",
            "hour                        0\n",
            "hour_bef_temperature        0\n",
            "hour_bef_precipitation      2\n",
            "hour_bef_windspeed          0\n",
            "hour_bef_humidity           0\n",
            "hour_bef_visibility         0\n",
            "hour_bef_ozone             76\n",
            "hour_bef_pm10              90\n",
            "hour_bef_pm2.5            117\n",
            "count                       0\n",
            "dtype: int64\n",
            "id                         0\n",
            "hour                       0\n",
            "hour_bef_temperature       0\n",
            "hour_bef_precipitation     1\n",
            "hour_bef_windspeed         0\n",
            "hour_bef_humidity          0\n",
            "hour_bef_visibility        0\n",
            "hour_bef_ozone            35\n",
            "hour_bef_pm10             37\n",
            "hour_bef_pm2.5            36\n",
            "dtype: int64\n"
          ]
        }
      ]
    },
    {
      "cell_type": "markdown",
      "metadata": {
        "id": "16I4IYtZPWxb"
      },
      "source": [
        "#### Classfication을 이용한 hour_bef_precipitation 결측값 처리"
      ]
    },
    {
      "cell_type": "code",
      "metadata": {
        "colab": {
          "base_uri": "https://localhost:8080/"
        },
        "id": "ToQe6wSbQRtn",
        "outputId": "4da4d681-4308-4414-a733-4f6ebb6da830"
      },
      "source": [
        "from sklearn.linear_model import LogisticRegression\n",
        "from sklearn import metrics\n",
        "\n",
        "#x,y 분리\n",
        "precipitation_x_del = pd.concat([train,test], axis=0).iloc[:,1:-4].dropna()\n",
        "cls_x_train = precipitation_x_del[[col for col in precipitation_x_del.columns if col!='hour_bef_precipitation']]\n",
        "cls_y_train =precipitation_x_del['hour_bef_precipitation']\n",
        "\n",
        "#data split\n",
        "cls_X_train, cls_X_val, cls_Y_train, cls_Y_test = train_test_split(cls_x_train, cls_y_train, test_size = 0.3, shuffle = True, random_state = 2021)\n",
        "\n",
        "# model fit\n",
        "cls_model = LogisticRegression()\n",
        "cls_model.fit(cls_X_train, cls_Y_train)\n",
        "\n",
        "#predict\n",
        "y_pred = pd.Series(cls_model.predict(cls_X_val))\n",
        "\n",
        "# model evaluation\n",
        "print(\"Accuracy:\", metrics.accuracy_score(cls_Y_test, y_pred))"
      ],
      "execution_count": null,
      "outputs": [
        {
          "output_type": "stream",
          "name": "stdout",
          "text": [
            "Accuracy: 0.9662576687116564\n"
          ]
        }
      ]
    },
    {
      "cell_type": "code",
      "metadata": {
        "colab": {
          "base_uri": "https://localhost:8080/",
          "height": 660
        },
        "id": "sSDVoRc_OUpk",
        "outputId": "6317ee4c-3de6-4b08-c356-c91ab785699b"
      },
      "source": [
        "# 불필요한 변수 제거\n",
        "hour_bef_precipitation_train_df = train[train['hour_bef_precipitation'].isna()].iloc[:,1:-4]\n",
        "del hour_bef_precipitation_train_df['hour_bef_precipitation']\n",
        "display(hour_bef_precipitation_train_df)\n",
        "\n",
        "hour_bef_precipitation_test_df = test[test['hour_bef_precipitation'].isna()].iloc[:,1:-3]\n",
        "del hour_bef_precipitation_test_df['hour_bef_precipitation']\n",
        "display(hour_bef_precipitation_test_df)\n",
        "\n",
        "#predict -> 비가 오지 않음(0) \n",
        "print(cls_model.predict(hour_bef_precipitation_train_df))\n",
        "print(cls_model.predict(hour_bef_precipitation_test_df))\n",
        "\n",
        "# 결측값 0으로 채우기\n",
        "train['hour_bef_precipitation'].fillna({934:0, 1035:0}, inplace=True)\n",
        "print(train.isna().sum())\n",
        "\n",
        "test['hour_bef_precipitation'].fillna({653:0}, inplace=True)\n",
        "print(test.isna().sum())\n",
        "\n",
        "#predict -> 비가 오지 않음(0) \n",
        "print('train의 hour_bef_precipitation 예측값:',cls_model.predict(hour_bef_precipitation_train_df))\n",
        "print(\"train의 hour_bef_precipitation 예측값:\",cls_model.predict(hour_bef_precipitation_test_df))"
      ],
      "execution_count": null,
      "outputs": [
        {
          "output_type": "display_data",
          "data": {
            "text/html": [
              "<div>\n",
              "<style scoped>\n",
              "    .dataframe tbody tr th:only-of-type {\n",
              "        vertical-align: middle;\n",
              "    }\n",
              "\n",
              "    .dataframe tbody tr th {\n",
              "        vertical-align: top;\n",
              "    }\n",
              "\n",
              "    .dataframe thead th {\n",
              "        text-align: right;\n",
              "    }\n",
              "</style>\n",
              "<table border=\"1\" class=\"dataframe\">\n",
              "  <thead>\n",
              "    <tr style=\"text-align: right;\">\n",
              "      <th></th>\n",
              "      <th>hour</th>\n",
              "      <th>hour_bef_temperature</th>\n",
              "      <th>hour_bef_windspeed</th>\n",
              "      <th>hour_bef_humidity</th>\n",
              "      <th>hour_bef_visibility</th>\n",
              "    </tr>\n",
              "  </thead>\n",
              "  <tbody>\n",
              "    <tr>\n",
              "      <th>934</th>\n",
              "      <td>0</td>\n",
              "      <td>14.788136</td>\n",
              "      <td>1.965517</td>\n",
              "      <td>58.169492</td>\n",
              "      <td>1434.220339</td>\n",
              "    </tr>\n",
              "    <tr>\n",
              "      <th>1035</th>\n",
              "      <td>18</td>\n",
              "      <td>20.926667</td>\n",
              "      <td>3.838333</td>\n",
              "      <td>40.450000</td>\n",
              "      <td>1581.850000</td>\n",
              "    </tr>\n",
              "  </tbody>\n",
              "</table>\n",
              "</div>"
            ],
            "text/plain": [
              "      hour  hour_bef_temperature  ...  hour_bef_humidity  hour_bef_visibility\n",
              "934      0             14.788136  ...          58.169492          1434.220339\n",
              "1035    18             20.926667  ...          40.450000          1581.850000\n",
              "\n",
              "[2 rows x 5 columns]"
            ]
          },
          "metadata": {}
        },
        {
          "output_type": "display_data",
          "data": {
            "text/html": [
              "<div>\n",
              "<style scoped>\n",
              "    .dataframe tbody tr th:only-of-type {\n",
              "        vertical-align: middle;\n",
              "    }\n",
              "\n",
              "    .dataframe tbody tr th {\n",
              "        vertical-align: top;\n",
              "    }\n",
              "\n",
              "    .dataframe thead th {\n",
              "        text-align: right;\n",
              "    }\n",
              "</style>\n",
              "<table border=\"1\" class=\"dataframe\">\n",
              "  <thead>\n",
              "    <tr style=\"text-align: right;\">\n",
              "      <th></th>\n",
              "      <th>hour</th>\n",
              "      <th>hour_bef_temperature</th>\n",
              "      <th>hour_bef_windspeed</th>\n",
              "      <th>hour_bef_humidity</th>\n",
              "      <th>hour_bef_visibility</th>\n",
              "    </tr>\n",
              "  </thead>\n",
              "  <tbody>\n",
              "    <tr>\n",
              "      <th>653</th>\n",
              "      <td>19</td>\n",
              "      <td>26.110345</td>\n",
              "      <td>3.541379</td>\n",
              "      <td>47.689655</td>\n",
              "      <td>1561.758621</td>\n",
              "    </tr>\n",
              "  </tbody>\n",
              "</table>\n",
              "</div>"
            ],
            "text/plain": [
              "     hour  hour_bef_temperature  ...  hour_bef_humidity  hour_bef_visibility\n",
              "653    19             26.110345  ...          47.689655          1561.758621\n",
              "\n",
              "[1 rows x 5 columns]"
            ]
          },
          "metadata": {}
        },
        {
          "output_type": "stream",
          "name": "stdout",
          "text": [
            "[0. 0.]\n",
            "[0.]\n",
            "id                          0\n",
            "hour                        0\n",
            "hour_bef_temperature        0\n",
            "hour_bef_precipitation      0\n",
            "hour_bef_windspeed          0\n",
            "hour_bef_humidity           0\n",
            "hour_bef_visibility         0\n",
            "hour_bef_ozone             76\n",
            "hour_bef_pm10              90\n",
            "hour_bef_pm2.5            117\n",
            "count                       0\n",
            "dtype: int64\n",
            "id                         0\n",
            "hour                       0\n",
            "hour_bef_temperature       0\n",
            "hour_bef_precipitation     0\n",
            "hour_bef_windspeed         0\n",
            "hour_bef_humidity          0\n",
            "hour_bef_visibility        0\n",
            "hour_bef_ozone            35\n",
            "hour_bef_pm10             37\n",
            "hour_bef_pm2.5            36\n",
            "dtype: int64\n",
            "train의 hour_bef_precipitation 예측값: [0. 0.]\n",
            "train의 hour_bef_precipitation 예측값: [0.]\n"
          ]
        }
      ]
    },
    {
      "cell_type": "code",
      "metadata": {
        "id": "z0CKqINX8N-X",
        "colab": {
          "base_uri": "https://localhost:8080/",
          "height": 53
        },
        "outputId": "b75bb74b-aec1-4a01-f0f5-b09afdf6eded"
      },
      "source": [
        "\"\"\"\n",
        "train/test 데이터 만들기 - > train + test 합친 후 train_test_split으로 성능평가\n",
        "그리드 서치로 적합한 모델 및 파라미터 설정\n",
        "hour_bef_ozone\thour_bef_pm10\thour_bef_pm2.5의 결측치 id를 활용하여 추출한 후 predict \n",
        "feature들의 결측값은 제거\n",
        "\"\"\""
      ],
      "execution_count": null,
      "outputs": [
        {
          "output_type": "execute_result",
          "data": {
            "application/vnd.google.colaboratory.intrinsic+json": {
              "type": "string"
            },
            "text/plain": [
              "'\\ntrain/test 데이터 만들기 - > train + test 합친 후 train_test_split으로 성능평가\\n그리드 서치로 적합한 모델 및 파라미터 설정\\nhour_bef_ozone\\thour_bef_pm10\\thour_bef_pm2.5의 결측치 id를 활용하여 추출한 후 predict \\nfeature들의 결측값은 제거\\n'"
            ]
          },
          "metadata": {},
          "execution_count": 26
        }
      ]
    },
    {
      "cell_type": "code",
      "metadata": {
        "colab": {
          "base_uri": "https://localhost:8080/",
          "height": 715
        },
        "id": "MeAVljUp7CTC",
        "outputId": "632baf68-02e6-4244-ea31-4a75c524c5ce"
      },
      "source": [
        "# hour_bef_ozone, hour_bef_pm10, hour_bef_pm2.5 와 다른 변수 간의 상관관계 확인\n",
        "# hour_bef_pm10 -> visibility\n",
        "# hour_bef_pm2.5 -> visibility, hour_bef_pm10  이외에는 상관도가 낮음\n",
        "# hour_bef_ozone - > temper, windspeed, humidity\n",
        "# train.sort_values(by='hour',ascending=True)\n",
        "\n",
        "plt.figure(figsize=(10,10))\n",
        "sns.heatmap(train.corr(),annot=True)"
      ],
      "execution_count": null,
      "outputs": [
        {
          "output_type": "execute_result",
          "data": {
            "text/plain": [
              "<matplotlib.axes._subplots.AxesSubplot at 0x7f650219f050>"
            ]
          },
          "metadata": {},
          "execution_count": 27
        },
        {
          "output_type": "display_data",
          "data": {
            "image/png": "[encoded data removed]",
            "text/plain": [
              "<Figure size 720x720 with 2 Axes>"
            ]
          },
          "metadata": {
            "needs_background": "light"
          }
        }
      ]
    },
    {
      "cell_type": "code",
      "metadata": {
        "id": "ATEnejG7KIFA"
      },
      "source": [
        "def evaluate(y_true, y_pred):\n",
        "  y_true, y_pred = np.array(y_true), np.array(y_pred)\n",
        "  mape= np.mean(np.abs((y_true-y_pred)/y_true))*100\n",
        "  mae= mean_absolute_error(y_true,y_pred)\n",
        "  mse= mean_squared_error(y_true,y_pred)\n",
        "  score = pd.DataFrame([mape, mae, mse], index=['mape','mae','mse'], columns=['score']).transpose()\n",
        "  return score"
      ],
      "execution_count": null,
      "outputs": []
    },
    {
      "cell_type": "markdown",
      "metadata": {
        "id": "ILO_PKkc0kiT"
      },
      "source": [
        "#### hour_bef_ozone, hour_bef_pm10, hour_bef_pm2.5 결측값 최종예측"
      ]
    },
    {
      "cell_type": "code",
      "metadata": {
        "colab": {
          "base_uri": "https://localhost:8080/"
        },
        "id": "Zx2dwtxv135M",
        "outputId": "36ad3766-76c8-48fe-bd77-a58d9bbb85be"
      },
      "source": [
        "def Nan_prediction(targets):\n",
        "  # train 데이터 만들기\n",
        "  for target in targets:\n",
        "    if target =='hour_bef_pm2.5':\n",
        "       use_columns = ['hour', 'hour_bef_temperature', 'hour_bef_precipitation','hour_bef_windspeed', 'hour_bef_humidity', 'hour_bef_visibility','hour_bef_pm10',target]\n",
        "    else:\n",
        "      use_columns = ['hour', 'hour_bef_temperature', 'hour_bef_precipitation','hour_bef_windspeed', 'hour_bef_humidity', 'hour_bef_visibility',target]\n",
        "\n",
        "    #feature, target data split\n",
        "    without_isna = pd.concat([train,test],axis=0).loc[:,use_columns].dropna()\n",
        "    X_feature = without_isna.iloc[:,:-1]\n",
        "    Y_train = without_isna[target]\n",
        "\n",
        "    X_train, X_test, Y_train, Y_test = train_test_split(X_feature,Y_train, test_size=0.3, random_state=2021)\n",
        "\n",
        "    # 원본 train data 안에 nan 값에 해당하는 Feature 추출 \n",
        "    target_isna_train_df= train[train[target].isna()]\n",
        "\n",
        "    # 원본 test data 안에 nan 값에 해당하는 Feature 추출\n",
        "    target_isna_test_df= test[test[target].isna()]\n",
        "\n",
        "    models = [\n",
        "        ('ridge', lm.Ridge()),\n",
        "        ('lasso', lm.Lasso()),\n",
        "        ('elastic', lm.ElasticNet()),\n",
        "        ('LassoLars', lm.LassoLars()),\n",
        "        ('SGDRegressor', lm.SGDRegressor()),\n",
        "        ('knn', KNeighborsRegressor(n_jobs = -1)),\n",
        "    ]\n",
        "\n",
        "    params = {\n",
        "        'ridge': {\n",
        "            'alpha': [0.01, 0.1, 1.0, 10, 100],\n",
        "            'fit_intercept': [True, False],\n",
        "            'normalize': [True, False],\n",
        "        },\n",
        "        'lasso': {\n",
        "            'alpha': [0.1, 1.0, 10],\n",
        "            'fit_intercept': [True, False],\n",
        "            'normalize': [True, False],\n",
        "        },\n",
        "        'elastic': {\n",
        "            'alpha': [0.1, 1.0, 10],\n",
        "            'normalize': [True, False],\n",
        "            'fit_intercept': [True, False],\n",
        "        },\n",
        "            'LassoLars': {\n",
        "            'alpha': [0.1, 1.0, 10],\n",
        "            'normalize': [True, False],\n",
        "            'fit_intercept': [True, False],\n",
        "        },\n",
        "        'SGDRegressor': {\n",
        "            'penalty': ['l1', 'l2'],\n",
        "            'alpha': [0.001, 0.01, 0.1, 1.0, 10, 100],\n",
        "            'fit_intercept': [True, False],\n",
        "        },\n",
        "        'knn': {\n",
        "            \"n_neighbors\": range(2,7),\n",
        "        }\n",
        "    }\n",
        "    \n",
        "    #target 별 상관성이 상대적으로 낮은 변수들 제외하기 위한 x_colname 정의\n",
        "    hour_bef_ozone_x_colname = [col for col in X_train.columns if col != 'hour_bef_precipitation' and col != 'hour_bef_ozone' and col != 'hour_bef_pm10' and col != 'hour_bef_pm2.5']\n",
        "    hour_bef_pm10_x_colname =['hour_bef_humidity','hour_bef_visibility']\n",
        "    hour_bef_pm25_x_colname = ['hour_bef_humidity','hour_bef_visibility','hour_bef_pm10'] \n",
        "\n",
        "    if target ==\"hour_bef_ozone\":\n",
        "      x_colname = hour_bef_ozone_x_colname\n",
        "    elif target ==\"hour_bef_pm10\":\n",
        "      x_colname = hour_bef_pm10_x_colname\n",
        "    else:\n",
        "      x_colname = hour_bef_pm25_x_colname\n",
        "\n",
        "    best_model, best_score = None, float('inf')\n",
        "    for model_name, model in models:\n",
        "        param_grid = params[model_name]\n",
        "        grid = GridSearchCV(model, cv=5, n_jobs=-1, param_grid=param_grid)\n",
        "        grid = grid.fit(X_train[x_colname], Y_train)\n",
        "\n",
        "        model = grid.best_estimator_\n",
        "        predictions = model.predict(X_test[x_colname])\n",
        "\n",
        "        evaluation = evaluate(Y_test, predictions)\n",
        "        score = evaluation['mse'][0]\n",
        "        print(model_name, score)\n",
        "\n",
        "        if score < best_score:\n",
        "            best_score=score\n",
        "            best_model = model\n",
        "\n",
        "    print(\"최적의 모델:\",best_model)\n",
        "    print(\"최종 mse score:\",best_score,\"\\n\")\n",
        "    best_model = grid.best_estimator_\n",
        "    best_train_pred = best_model.predict(target_isna_train_df[x_colname])\n",
        "    best_test_pred = best_model.predict(target_isna_test_df[x_colname])\n",
        "\n",
        "    # 예측값을 train,test에 적용\n",
        "    target_nan_train_index = train[train[target].isna()][target].index\n",
        "    target_nan_test_index = test[test[target].isna()][target].index\n",
        "\n",
        "    for pred,index in zip(best_train_pred,target_nan_train_index):\n",
        "      train[target].fillna({index:pred}, inplace=True)\n",
        "    for pred,index in zip(best_test_pred,target_nan_test_index):\n",
        "      test[target].fillna({index:pred}, inplace=True)\n",
        "\n",
        "targets =['hour_bef_ozone', 'hour_bef_pm10', 'hour_bef_pm2.5']\n",
        "Nan_prediction(targets)"
      ],
      "execution_count": null,
      "outputs": [
        {
          "output_type": "stream",
          "name": "stdout",
          "text": [
            "ridge 0.00022735981284121033\n",
            "lasso 0.0003577431018933861\n",
            "elastic 0.00032536467486597313\n",
            "LassoLars 0.000357741115357743\n",
            "SGDRegressor 8.506567012507997e+27\n",
            "knn 0.0002798427571351642\n",
            "최적의 모델: Ridge(alpha=0.01, copy_X=True, fit_intercept=True, max_iter=None,\n",
            "      normalize=True, random_state=None, solver='auto', tol=0.001)\n",
            "최종 mse score: 0.00022735981284121033 \n",
            "\n",
            "ridge 479.574083827637\n",
            "lasso 480.9698920519781\n",
            "elastic 480.99426051508937\n",
            "LassoLars 480.97117933041903\n",
            "SGDRegressor 1.2458736590107287e+28\n",
            "knn 514.6375284552845\n",
            "최적의 모델: Ridge(alpha=0.01, copy_X=True, fit_intercept=True, max_iter=None,\n",
            "      normalize=True, random_state=None, solver='auto', tol=0.001)\n",
            "최종 mse score: 479.574083827637 \n",
            "\n",
            "ridge 84.67710204218932\n",
            "lasso 84.72469340584847\n",
            "elastic 84.63747722153994\n",
            "LassoLars 84.7245776238065\n",
            "SGDRegressor 7.293277694928348e+29\n",
            "knn 45.39878500823723\n",
            "최적의 모델: KNeighborsRegressor(algorithm='auto', leaf_size=30, metric='minkowski',\n",
            "                    metric_params=None, n_jobs=-1, n_neighbors=4, p=2,\n",
            "                    weights='uniform')\n",
            "최종 mse score: 45.39878500823723 \n",
            "\n"
          ]
        }
      ]
    },
    {
      "cell_type": "markdown",
      "metadata": {
        "id": "N3ZU5nhzQVIU"
      },
      "source": [
        "hour_bef_pm10.hour_bef_pm2.5 변수는 mse가 높기 때문에 예측값을 활용하기엔 무리가 있어 보인다. dropna를 한다면 데이터 손실이 발생한다. count와 상관관계를 보면 각각 -0.11, -0.13 으로 낮은 수치를 기록하고 있기 때문에 학습 시 두 변수를 제외하여 진행하도록 한다."
      ]
    },
    {
      "cell_type": "markdown",
      "metadata": {
        "id": "CVySnlVFh1nL"
      },
      "source": [
        "### 다중 공선성\n",
        "**다중 공선성이 높으면 예측 신뢰구간이 넓어지게 된다. 즉, 제대로 된 회귀 모델이 아니게 된다.**"
      ]
    },
    {
      "cell_type": "code",
      "metadata": {
        "id": "E5RRqeaceRYj",
        "colab": {
          "base_uri": "https://localhost:8080/",
          "height": 266
        },
        "outputId": "d3211320-0c0a-4faf-df95-01fb64d688ae"
      },
      "source": [
        "from statsmodels.stats.outliers_influence import variance_inflation_factor\n",
        "train_vif = train.iloc[:,1:-3]\n",
        "vif = pd.DataFrame()\n",
        "vif[\"VIF Factor\"] = [variance_inflation_factor(train_vif.values, i) for i in range(train_vif.shape[1])]\n",
        "vif[\"features\"] = train_vif.columns\n",
        "vif_colname=['hour_bef_precipitation','hour_bef_humidity','hour_bef_visibility','hour_bef_windspeed','hour_bef_ozone'] #성능 엄청 떨어짐\n",
        "vif.sort_values(by='VIF Factor',ascending=True)"
      ],
      "execution_count": null,
      "outputs": [
        {
          "output_type": "execute_result",
          "data": {
            "text/html": [
              "<div>\n",
              "<style scoped>\n",
              "    .dataframe tbody tr th:only-of-type {\n",
              "        vertical-align: middle;\n",
              "    }\n",
              "\n",
              "    .dataframe tbody tr th {\n",
              "        vertical-align: top;\n",
              "    }\n",
              "\n",
              "    .dataframe thead th {\n",
              "        text-align: right;\n",
              "    }\n",
              "</style>\n",
              "<table border=\"1\" class=\"dataframe\">\n",
              "  <thead>\n",
              "    <tr style=\"text-align: right;\">\n",
              "      <th></th>\n",
              "      <th>VIF Factor</th>\n",
              "      <th>features</th>\n",
              "    </tr>\n",
              "  </thead>\n",
              "  <tbody>\n",
              "    <tr>\n",
              "      <th>2</th>\n",
              "      <td>1.152732</td>\n",
              "      <td>hour_bef_precipitation</td>\n",
              "    </tr>\n",
              "    <tr>\n",
              "      <th>4</th>\n",
              "      <td>3.657093</td>\n",
              "      <td>hour_bef_humidity</td>\n",
              "    </tr>\n",
              "    <tr>\n",
              "      <th>0</th>\n",
              "      <td>5.289308</td>\n",
              "      <td>hour</td>\n",
              "    </tr>\n",
              "    <tr>\n",
              "      <th>5</th>\n",
              "      <td>6.200479</td>\n",
              "      <td>hour_bef_visibility</td>\n",
              "    </tr>\n",
              "    <tr>\n",
              "      <th>3</th>\n",
              "      <td>6.910026</td>\n",
              "      <td>hour_bef_windspeed</td>\n",
              "    </tr>\n",
              "    <tr>\n",
              "      <th>6</th>\n",
              "      <td>8.796142</td>\n",
              "      <td>hour_bef_ozone</td>\n",
              "    </tr>\n",
              "    <tr>\n",
              "      <th>1</th>\n",
              "      <td>14.384146</td>\n",
              "      <td>hour_bef_temperature</td>\n",
              "    </tr>\n",
              "  </tbody>\n",
              "</table>\n",
              "</div>"
            ],
            "text/plain": [
              "   VIF Factor                features\n",
              "2    1.152732  hour_bef_precipitation\n",
              "4    3.657093       hour_bef_humidity\n",
              "0    5.289308                    hour\n",
              "5    6.200479     hour_bef_visibility\n",
              "3    6.910026      hour_bef_windspeed\n",
              "6    8.796142          hour_bef_ozone\n",
              "1   14.384146    hour_bef_temperature"
            ]
          },
          "metadata": {},
          "execution_count": 30
        }
      ]
    },
    {
      "cell_type": "code",
      "metadata": {
        "id": "4OSEjb2Omk0X",
        "colab": {
          "base_uri": "https://localhost:8080/",
          "height": 715
        },
        "outputId": "fad90f55-b231-43ec-de16-6362c9bc3ad9"
      },
      "source": [
        "plt.figure(figsize=(10,10))\n",
        "sns.heatmap(train_vif.corr(), annot=True)"
      ],
      "execution_count": null,
      "outputs": [
        {
          "output_type": "execute_result",
          "data": {
            "text/plain": [
              "<matplotlib.axes._subplots.AxesSubplot at 0x7f64f94b6a90>"
            ]
          },
          "metadata": {},
          "execution_count": 31
        },
        {
          "output_type": "display_data",
          "data": {
            "image/png": "[encoded data removed]",
            "text/plain": [
              "<Figure size 720x720 with 2 Axes>"
            ]
          },
          "metadata": {
            "needs_background": "light"
          }
        }
      ]
    },
    {
      "cell_type": "markdown",
      "metadata": {
        "id": "ddMsVhUToBW2"
      },
      "source": [
        "한시간 전 온도가 다중공선성이 있는 걸로 보임. 상관관계를 통해 온도와 연관성있는 변수를 찾아본 결과, 습도와 오존,시간 세가지 변수가 존재한다. 이 세 변수를 통해서 온도를 설명할수 있는 걸로 보인다. 해당된 세 변수는 count와 어느 정도 상관성을 보이므로 변수 선택은 모델링에서 결정하도록 한다."
      ]
    },
    {
      "cell_type": "code",
      "metadata": {
        "colab": {
          "base_uri": "https://localhost:8080/",
          "height": 419
        },
        "id": "czyuem_TWpWc",
        "outputId": "f8cbf408-f5f3-4b93-f025-e0f7b1d93e08"
      },
      "source": [
        "test\n",
        "# train.groupby(by='id').mean()"
      ],
      "execution_count": null,
      "outputs": [
        {
          "output_type": "execute_result",
          "data": {
            "text/html": [
              "<div>\n",
              "<style scoped>\n",
              "    .dataframe tbody tr th:only-of-type {\n",
              "        vertical-align: middle;\n",
              "    }\n",
              "\n",
              "    .dataframe tbody tr th {\n",
              "        vertical-align: top;\n",
              "    }\n",
              "\n",
              "    .dataframe thead th {\n",
              "        text-align: right;\n",
              "    }\n",
              "</style>\n",
              "<table border=\"1\" class=\"dataframe\">\n",
              "  <thead>\n",
              "    <tr style=\"text-align: right;\">\n",
              "      <th></th>\n",
              "      <th>id</th>\n",
              "      <th>hour</th>\n",
              "      <th>hour_bef_temperature</th>\n",
              "      <th>hour_bef_precipitation</th>\n",
              "      <th>hour_bef_windspeed</th>\n",
              "      <th>hour_bef_humidity</th>\n",
              "      <th>hour_bef_visibility</th>\n",
              "      <th>hour_bef_ozone</th>\n",
              "      <th>hour_bef_pm10</th>\n",
              "      <th>hour_bef_pm2.5</th>\n",
              "    </tr>\n",
              "  </thead>\n",
              "  <tbody>\n",
              "    <tr>\n",
              "      <th>0</th>\n",
              "      <td>0</td>\n",
              "      <td>7</td>\n",
              "      <td>20.7</td>\n",
              "      <td>0.0</td>\n",
              "      <td>1.3</td>\n",
              "      <td>62.0</td>\n",
              "      <td>954.0</td>\n",
              "      <td>0.041000</td>\n",
              "      <td>44.0</td>\n",
              "      <td>27.00</td>\n",
              "    </tr>\n",
              "    <tr>\n",
              "      <th>1</th>\n",
              "      <td>1</td>\n",
              "      <td>17</td>\n",
              "      <td>30.0</td>\n",
              "      <td>0.0</td>\n",
              "      <td>5.4</td>\n",
              "      <td>33.0</td>\n",
              "      <td>1590.0</td>\n",
              "      <td>0.061000</td>\n",
              "      <td>49.0</td>\n",
              "      <td>36.00</td>\n",
              "    </tr>\n",
              "    <tr>\n",
              "      <th>2</th>\n",
              "      <td>2</td>\n",
              "      <td>13</td>\n",
              "      <td>19.0</td>\n",
              "      <td>1.0</td>\n",
              "      <td>2.1</td>\n",
              "      <td>95.0</td>\n",
              "      <td>193.0</td>\n",
              "      <td>0.020000</td>\n",
              "      <td>36.0</td>\n",
              "      <td>28.00</td>\n",
              "    </tr>\n",
              "    <tr>\n",
              "      <th>3</th>\n",
              "      <td>4</td>\n",
              "      <td>6</td>\n",
              "      <td>22.5</td>\n",
              "      <td>0.0</td>\n",
              "      <td>2.5</td>\n",
              "      <td>60.0</td>\n",
              "      <td>1185.0</td>\n",
              "      <td>0.027000</td>\n",
              "      <td>52.0</td>\n",
              "      <td>38.00</td>\n",
              "    </tr>\n",
              "    <tr>\n",
              "      <th>4</th>\n",
              "      <td>5</td>\n",
              "      <td>22</td>\n",
              "      <td>14.6</td>\n",
              "      <td>1.0</td>\n",
              "      <td>3.4</td>\n",
              "      <td>93.0</td>\n",
              "      <td>218.0</td>\n",
              "      <td>0.041000</td>\n",
              "      <td>18.0</td>\n",
              "      <td>15.00</td>\n",
              "    </tr>\n",
              "    <tr>\n",
              "      <th>...</th>\n",
              "      <td>...</td>\n",
              "      <td>...</td>\n",
              "      <td>...</td>\n",
              "      <td>...</td>\n",
              "      <td>...</td>\n",
              "      <td>...</td>\n",
              "      <td>...</td>\n",
              "      <td>...</td>\n",
              "      <td>...</td>\n",
              "      <td>...</td>\n",
              "    </tr>\n",
              "    <tr>\n",
              "      <th>710</th>\n",
              "      <td>2148</td>\n",
              "      <td>1</td>\n",
              "      <td>24.6</td>\n",
              "      <td>0.0</td>\n",
              "      <td>2.4</td>\n",
              "      <td>60.0</td>\n",
              "      <td>1745.0</td>\n",
              "      <td>0.023833</td>\n",
              "      <td>46.0</td>\n",
              "      <td>30.25</td>\n",
              "    </tr>\n",
              "    <tr>\n",
              "      <th>711</th>\n",
              "      <td>2149</td>\n",
              "      <td>1</td>\n",
              "      <td>18.1</td>\n",
              "      <td>0.0</td>\n",
              "      <td>1.0</td>\n",
              "      <td>55.0</td>\n",
              "      <td>2000.0</td>\n",
              "      <td>0.027000</td>\n",
              "      <td>30.0</td>\n",
              "      <td>20.25</td>\n",
              "    </tr>\n",
              "    <tr>\n",
              "      <th>712</th>\n",
              "      <td>2165</td>\n",
              "      <td>9</td>\n",
              "      <td>23.3</td>\n",
              "      <td>0.0</td>\n",
              "      <td>2.3</td>\n",
              "      <td>66.0</td>\n",
              "      <td>1789.0</td>\n",
              "      <td>0.020000</td>\n",
              "      <td>17.0</td>\n",
              "      <td>15.00</td>\n",
              "    </tr>\n",
              "    <tr>\n",
              "      <th>713</th>\n",
              "      <td>2166</td>\n",
              "      <td>16</td>\n",
              "      <td>27.0</td>\n",
              "      <td>0.0</td>\n",
              "      <td>1.6</td>\n",
              "      <td>46.0</td>\n",
              "      <td>1956.0</td>\n",
              "      <td>0.032000</td>\n",
              "      <td>40.0</td>\n",
              "      <td>26.00</td>\n",
              "    </tr>\n",
              "    <tr>\n",
              "      <th>714</th>\n",
              "      <td>2177</td>\n",
              "      <td>8</td>\n",
              "      <td>22.3</td>\n",
              "      <td>0.0</td>\n",
              "      <td>1.0</td>\n",
              "      <td>63.0</td>\n",
              "      <td>1277.0</td>\n",
              "      <td>0.007000</td>\n",
              "      <td>30.0</td>\n",
              "      <td>24.00</td>\n",
              "    </tr>\n",
              "  </tbody>\n",
              "</table>\n",
              "<p>715 rows × 10 columns</p>\n",
              "</div>"
            ],
            "text/plain": [
              "       id  hour  ...  hour_bef_pm10  hour_bef_pm2.5\n",
              "0       0     7  ...           44.0           27.00\n",
              "1       1    17  ...           49.0           36.00\n",
              "2       2    13  ...           36.0           28.00\n",
              "3       4     6  ...           52.0           38.00\n",
              "4       5    22  ...           18.0           15.00\n",
              "..    ...   ...  ...            ...             ...\n",
              "710  2148     1  ...           46.0           30.25\n",
              "711  2149     1  ...           30.0           20.25\n",
              "712  2165     9  ...           17.0           15.00\n",
              "713  2166    16  ...           40.0           26.00\n",
              "714  2177     8  ...           30.0           24.00\n",
              "\n",
              "[715 rows x 10 columns]"
            ]
          },
          "metadata": {},
          "execution_count": 32
        }
      ]
    },
    {
      "cell_type": "code",
      "metadata": {
        "id": "AOx9oTAnJCMf",
        "colab": {
          "base_uri": "https://localhost:8080/",
          "height": 387
        },
        "outputId": "4ea4eca5-5a44-45fa-c80b-d3f455665f84"
      },
      "source": [
        "# train.groupby(by='hour').mean()\n",
        "# result =sm.tsa.seasonal_decompose(concat_df[target], model='additive')\n",
        "# Y_seasonal = pd.DataFrame(result.seasonal)\n",
        "sns.displot(data=train.sort_values(by='hour'), x=train.sort_values(by='hour')['hour'], y=train.sort_values(by='hour')['count'])"
      ],
      "execution_count": null,
      "outputs": [
        {
          "output_type": "execute_result",
          "data": {
            "text/plain": [
              "<seaborn.axisgrid.FacetGrid at 0x7f64f94b60d0>"
            ]
          },
          "metadata": {},
          "execution_count": 33
        },
        {
          "output_type": "display_data",
          "data": {
            "image/png": "[encoded data removed]",
            "text/plain": [
              "<Figure size 360x360 with 1 Axes>"
            ]
          },
          "metadata": {
            "needs_background": "light"
          }
        }
      ]
    },
    {
      "cell_type": "code",
      "metadata": {
        "colab": {
          "base_uri": "https://localhost:8080/",
          "height": 529
        },
        "id": "pqNT5Vo1rixf",
        "outputId": "e186cfc7-b943-4d23-f14f-ba59f4fcda07"
      },
      "source": [
        "#6시~10시까지 따릉이 수요\n",
        "train_06=train.loc[train['hour']==6]['count']\n",
        "train_07=train.loc[train['hour']==7]['count']\n",
        "train_08=train.loc[train['hour']==8]['count']\n",
        "train_09=train.loc[train['hour']==9]['count']\n",
        "\n",
        "fig,ax = plt.subplots(4,1,figsize=(10, 7),constrained_layout=True)\n",
        "ax[0].hist(train_06)\n",
        "ax[1].hist(train_07)\n",
        "ax[2].hist(train_08)\n",
        "ax[3].hist(train_09)\n",
        "\n",
        "ax[0].set_title('06 a.m')\n",
        "ax[1].set_title('07 a.m')\n",
        "ax[2].set_title('08 a.m')  #8시 구간에서 급증\n",
        "ax[3].set_title('09 a.m')\n",
        "plt.show()"
      ],
      "execution_count": null,
      "outputs": [
        {
          "output_type": "display_data",
          "data": {
            "image/png": "[encoded data removed]",
            "text/plain": [
              "<Figure size 720x504 with 4 Axes>"
            ]
          },
          "metadata": {
            "needs_background": "light"
          }
        }
      ]
    },
    {
      "cell_type": "markdown",
      "metadata": {
        "id": "nkukyMafcfiZ"
      },
      "source": [
        "### 파생변수 생성"
      ]
    },
    {
      "cell_type": "markdown",
      "metadata": {
        "id": "1yVCa0o2z6ww"
      },
      "source": [
        "#### 군집분석을 통한 날씨 데이터 잠재변수"
      ]
    },
    {
      "cell_type": "code",
      "metadata": {
        "id": "8EW1jw03FhfL"
      },
      "source": [
        "# # 스케일링/ log 변환 : 왜곡 현상 줄이기\n",
        "# X_features = train.loc[:,['hour_bef_temperature','hour_bef_precipitation','hour_bef_windspeed','hour_bef_humidity','hour_bef_visibility','hour_bef_ozone','hour_bef_pm10','hour_bef_pm2.5']]\n",
        "# X_features_scaled = StandardScaler().fit_transform(X_features)\n",
        "# X_features_log = np.log1p(X_features)\n",
        "\n",
        "# X_features_test = test.loc[:,['hour_bef_temperature','hour_bef_precipitation','hour_bef_windspeed','hour_bef_humidity','hour_bef_visibility','hour_bef_ozone','hour_bef_pm10','hour_bef_pm2.5']]\n",
        "# X_features_test_scaled = StandardScaler().fit_transform(X_features_test)\n",
        "# X_features_test_log = np.log1p(X_features_test)"
      ],
      "execution_count": null,
      "outputs": []
    },
    {
      "cell_type": "markdown",
      "metadata": {
        "id": "7ywMD6IJUCHS"
      },
      "source": [
        "#### KMeans"
      ]
    },
    {
      "cell_type": "code",
      "metadata": {
        "id": "QIKdqRJzvDYt"
      },
      "source": [
        "# #Train\n",
        "\n",
        "# from sklearn.cluster import KMeans\n",
        "# from sklearn.metrics import silhouette_samples,silhouette_score\n",
        "\n",
        "# recent_value = float('-inf')\n",
        "# for i in range(2,5):\n",
        "#   kmean = KMeans(n_clusters=i,random_state=2021)\n",
        "#   kmean.fit(X_features_log)\n",
        "\n",
        "#   #실루엣 평가\n",
        "#   score_samples = silhouette_samples(X_features_log, kmean.labels_)\n",
        "\n",
        "#   #실루엣 평균값\n",
        "#   # np.mean(train['silhouette_coeff'].values)\n",
        "#   print('n_clusters:',i,\"평균값\",np.mean(score_samples))\n",
        "  \n",
        "\n",
        "#   if recent_value < np.mean(score_samples):\n",
        "#     recent_value = np.mean(score_samples)\n",
        "#     train['cluster'] = kmean.labels_\n",
        "# train['cluster']\n",
        "# # predict\n",
        "# # test['cluster'] = kmean.predict(test.loc[:,['hour_bef_temperature','hour_bef_precipitation','hour_bef_windspeed','hour_bef_humidity','hour_bef_visibility','hour_bef_ozone','hour_bef_pm10','hour_bef_pm2.5']].values)"
      ],
      "execution_count": null,
      "outputs": []
    },
    {
      "cell_type": "code",
      "metadata": {
        "id": "7nlcPXs3Aiac"
      },
      "source": [
        "# #Test\n",
        "\n",
        "# kmean_test_df = test.iloc[:,:-1].values\n",
        "# kmean = KMeans(n_clusters=2 ,random_state=2021)\n",
        "# kmean.fit(kmean_test_df)\n",
        "\n",
        "# #실루엣 평가\n",
        "# score_samples = silhouette_samples(kmean_test_df.data, kmean.labels_)\n",
        "# test['cluster'] = kmean.labels_\n",
        "# # train['silhouette_coeff'] = score_samples\n",
        "\n",
        "# #실루엣 평균값\n",
        "# # np.mean(train['silhouette_coeff'].values)\n",
        "# np.mean(score_samples)"
      ],
      "execution_count": null,
      "outputs": []
    },
    {
      "cell_type": "code",
      "metadata": {
        "id": "KOAXuWN43Zbu"
      },
      "source": [
        "# train.groupby(by='cluster')['silhouette_coeff'].mean()"
      ],
      "execution_count": null,
      "outputs": []
    },
    {
      "cell_type": "code",
      "metadata": {
        "id": "oN5GkS-TJCSF"
      },
      "source": [
        "# import numpy as np\n",
        "# train.groupby(by=['hour','id']).mean()\n",
        "# train.groupby(by=['hour'])['hour_bef_temperature'].mean().plot()\n",
        "# # train['hour_bef_temperature'].plot()"
      ],
      "execution_count": null,
      "outputs": []
    },
    {
      "cell_type": "markdown",
      "metadata": {
        "id": "FnHGgSq2UFkH"
      },
      "source": [
        "#### MeanShift"
      ]
    },
    {
      "cell_type": "code",
      "metadata": {
        "id": "fNskd4BWJCUZ"
      },
      "source": [
        "# from sklearn.cluster import MeanShift\n",
        "# from sklearn.cluster import estimate_bandwidth\n",
        "\n",
        "# best_bandwidth = estimate_bandwidth(X_features_log)\n",
        "\n",
        "# meanshift = MeanShift(bandwidth=best_bandwidth)\n",
        "# cluster_labels= meanshift.fit_predict(X_features_log)\n",
        "# train['cluster'] = cluster_labels \n",
        "# print('cluster labels 유형:',np.unique(cluster_labels))"
      ],
      "execution_count": null,
      "outputs": []
    },
    {
      "cell_type": "markdown",
      "metadata": {
        "id": "jy-uRRgMcul5"
      },
      "source": [
        "#### GMM"
      ]
    },
    {
      "cell_type": "code",
      "metadata": {
        "id": "LC6VX5h6cv8c"
      },
      "source": [
        "# # 1등 - 스케일\n",
        "# from sklearn.mixture import GaussianMixture\n",
        "\n",
        "# gmm = GaussianMixture(n_components=2, random_state=2021).fit(X_features_scaled)\n",
        "# gmm_cluster_labels = gmm.predict(X_features_scaled)\n",
        "\n",
        "# train['cluster'] = gmm_cluster_labels\n",
        "# print('gmm labels 유형:',np.unique(gmm_cluster_labels))\n",
        "\n",
        "# gmm_test = GaussianMixture(n_components=2, random_state=2021).fit(X_features_test_scaled)\n",
        "# gmm_cluster_test_labels = gmm.predict(X_features_test_scaled)\n",
        "\n",
        "# test['cluster'] = gmm_cluster_test_labels"
      ],
      "execution_count": null,
      "outputs": []
    },
    {
      "cell_type": "markdown",
      "metadata": {
        "id": "NMDpLDFVmpk2"
      },
      "source": [
        "#### DSCAN"
      ]
    },
    {
      "cell_type": "code",
      "metadata": {
        "id": "LfnT8r21mr3w"
      },
      "source": [
        "# from sklearn.cluster import DBSCAN\n",
        "\n",
        "# dbscan = DBSCAN(eps = 0.4 , min_samples=12, metric='euclidean')\n",
        "# dbscan_labels = dbscan.fit_predict(X_features_log)\n",
        "\n",
        "# train['cluster'] = dbscan_labels\n",
        "# print('dbscan labels 유형:',np.unique(dbscan_labels))"
      ],
      "execution_count": null,
      "outputs": []
    },
    {
      "cell_type": "markdown",
      "metadata": {
        "id": "tbC5M_mCEeQm"
      },
      "source": [
        "#### 시간별 평균 이용 수"
      ]
    },
    {
      "cell_type": "code",
      "metadata": {
        "colab": {
          "base_uri": "https://localhost:8080/",
          "height": 1000
        },
        "id": "iC0VNjCLcx8c",
        "outputId": "31582f54-be4b-42a8-f2ac-4dd25ecc0d80"
      },
      "source": [
        "colum=['hour_bef_temperature','hour_bef_windspeed','hour_bef_humidity','hour_bef_ozone','hour_bef_pm10','hour_bef_pm2.5']\n",
        "for col in colum:\n",
        "  train.groupby(by='hour').mean()[col].plot(label=col)\n",
        "  plt.legend()\n",
        "  plt.show()"
      ],
      "execution_count": null,
      "outputs": [
        {
          "output_type": "display_data",
          "data": {
            "image/png": "[encoded data removed]",
            "text/plain": [
              "<Figure size 432x288 with 1 Axes>"
            ]
          },
          "metadata": {
            "needs_background": "light"
          }
        },
        {
          "output_type": "display_data",
          "data": {
            "image/png": "[encoded data removed]",
            "text/plain": [
              "<Figure size 432x288 with 1 Axes>"
            ]
          },
          "metadata": {
            "needs_background": "light"
          }
        },
        {
          "output_type": "display_data",
          "data": {
            "image/png": "[encoded data removed]",
            "text/plain": [
              "<Figure size 432x288 with 1 Axes>"
            ]
          },
          "metadata": {
            "needs_background": "light"
          }
        },
        {
          "output_type": "display_data",
          "data": {
            "image/png": "[encoded data removed]",
            "text/plain": [
              "<Figure size 432x288 with 1 Axes>"
            ]
          },
          "metadata": {
            "needs_background": "light"
          }
        },
        {
          "output_type": "display_data",
          "data": {
            "image/png": "[encoded data removed]",
            "text/plain": [
              "<Figure size 432x288 with 1 Axes>"
            ]
          },
          "metadata": {
            "needs_background": "light"
          }
        },
        {
          "output_type": "display_data",
          "data": {
            "image/png": "[encoded data removed]",
            "text/plain": [
              "<Figure size 432x288 with 1 Axes>"
            ]
          },
          "metadata": {
            "needs_background": "light"
          }
        }
      ]
    },
    {
      "cell_type": "code",
      "metadata": {
        "colab": {
          "base_uri": "https://localhost:8080/",
          "height": 297
        },
        "id": "EyOeBYBccPYd",
        "outputId": "03159236-b2ed-430b-955a-a7421eacba20"
      },
      "source": [
        "train.groupby(by='hour').mean()['count'].plot()"
      ],
      "execution_count": null,
      "outputs": [
        {
          "output_type": "execute_result",
          "data": {
            "text/plain": [
              "<matplotlib.axes._subplots.AxesSubplot at 0x7f64f52a0350>"
            ]
          },
          "metadata": {},
          "execution_count": 44
        },
        {
          "output_type": "display_data",
          "data": {
            "image/png": "[encoded data removed]",
            "text/plain": [
              "<Figure size 432x288 with 1 Axes>"
            ]
          },
          "metadata": {
            "needs_background": "light"
          }
        }
      ]
    },
    {
      "cell_type": "markdown",
      "metadata": {
        "id": "G8gqTITfhdCT"
      },
      "source": [
        "출퇴근 시간에 급증하는 패턴을 설명해주는 변수가 마땅치 않다. 퇴근 시간에는 온도,풍속, 오존이 같은 시간대에 증가세를 보이는 반면 출근 시간의 증가패턴을 설명하는 변수가 없다. 따라서 해당 count의 패턴을 설명하는 변수를 생성하여 test 값에 적용시켜야 한다."
      ]
    },
    {
      "cell_type": "code",
      "metadata": {
        "id": "8wMVDI9ScPba",
        "colab": {
          "base_uri": "https://localhost:8080/",
          "height": 793
        },
        "outputId": "5083e46f-6343-4f58-cd3e-434ef04d5c14"
      },
      "source": [
        "# train\n",
        "train.groupby('hour').mean().reset_index(drop=True)\n",
        "# train"
      ],
      "execution_count": null,
      "outputs": [
        {
          "output_type": "execute_result",
          "data": {
            "text/html": [
              "<div>\n",
              "<style scoped>\n",
              "    .dataframe tbody tr th:only-of-type {\n",
              "        vertical-align: middle;\n",
              "    }\n",
              "\n",
              "    .dataframe tbody tr th {\n",
              "        vertical-align: top;\n",
              "    }\n",
              "\n",
              "    .dataframe thead th {\n",
              "        text-align: right;\n",
              "    }\n",
              "</style>\n",
              "<table border=\"1\" class=\"dataframe\">\n",
              "  <thead>\n",
              "    <tr style=\"text-align: right;\">\n",
              "      <th></th>\n",
              "      <th>id</th>\n",
              "      <th>hour_bef_temperature</th>\n",
              "      <th>hour_bef_precipitation</th>\n",
              "      <th>hour_bef_windspeed</th>\n",
              "      <th>hour_bef_humidity</th>\n",
              "      <th>hour_bef_visibility</th>\n",
              "      <th>hour_bef_ozone</th>\n",
              "      <th>hour_bef_pm10</th>\n",
              "      <th>hour_bef_pm2.5</th>\n",
              "      <th>count</th>\n",
              "    </tr>\n",
              "  </thead>\n",
              "  <tbody>\n",
              "    <tr>\n",
              "      <th>0</th>\n",
              "      <td>1200.016667</td>\n",
              "      <td>14.788136</td>\n",
              "      <td>0.016667</td>\n",
              "      <td>1.965517</td>\n",
              "      <td>58.169492</td>\n",
              "      <td>1434.220339</td>\n",
              "      <td>0.033719</td>\n",
              "      <td>55.606667</td>\n",
              "      <td>30.829167</td>\n",
              "      <td>71.766667</td>\n",
              "    </tr>\n",
              "    <tr>\n",
              "      <th>1</th>\n",
              "      <td>1074.918033</td>\n",
              "      <td>14.155738</td>\n",
              "      <td>0.049180</td>\n",
              "      <td>1.836667</td>\n",
              "      <td>60.459016</td>\n",
              "      <td>1400.852459</td>\n",
              "      <td>0.030913</td>\n",
              "      <td>48.367213</td>\n",
              "      <td>29.217213</td>\n",
              "      <td>47.606557</td>\n",
              "    </tr>\n",
              "    <tr>\n",
              "      <th>2</th>\n",
              "      <td>1077.885246</td>\n",
              "      <td>13.747541</td>\n",
              "      <td>0.049180</td>\n",
              "      <td>1.633333</td>\n",
              "      <td>61.721311</td>\n",
              "      <td>1374.278689</td>\n",
              "      <td>0.030492</td>\n",
              "      <td>58.475410</td>\n",
              "      <td>31.151639</td>\n",
              "      <td>31.409836</td>\n",
              "    </tr>\n",
              "    <tr>\n",
              "      <th>3</th>\n",
              "      <td>1146.704918</td>\n",
              "      <td>13.357377</td>\n",
              "      <td>0.032787</td>\n",
              "      <td>1.620000</td>\n",
              "      <td>63.131148</td>\n",
              "      <td>1326.311475</td>\n",
              "      <td>0.031213</td>\n",
              "      <td>59.180328</td>\n",
              "      <td>31.487705</td>\n",
              "      <td>21.377049</td>\n",
              "    </tr>\n",
              "    <tr>\n",
              "      <th>4</th>\n",
              "      <td>1194.786885</td>\n",
              "      <td>13.001639</td>\n",
              "      <td>0.016393</td>\n",
              "      <td>1.409836</td>\n",
              "      <td>64.573770</td>\n",
              "      <td>1264.606557</td>\n",
              "      <td>0.031984</td>\n",
              "      <td>58.278689</td>\n",
              "      <td>31.942623</td>\n",
              "      <td>13.524590</td>\n",
              "    </tr>\n",
              "    <tr>\n",
              "      <th>5</th>\n",
              "      <td>1091.819672</td>\n",
              "      <td>12.673770</td>\n",
              "      <td>0.016393</td>\n",
              "      <td>1.296721</td>\n",
              "      <td>66.000000</td>\n",
              "      <td>1203.426230</td>\n",
              "      <td>0.031623</td>\n",
              "      <td>56.721311</td>\n",
              "      <td>31.385246</td>\n",
              "      <td>13.114754</td>\n",
              "    </tr>\n",
              "    <tr>\n",
              "      <th>6</th>\n",
              "      <td>1112.393443</td>\n",
              "      <td>12.377049</td>\n",
              "      <td>0.016393</td>\n",
              "      <td>1.331148</td>\n",
              "      <td>67.409836</td>\n",
              "      <td>1146.229508</td>\n",
              "      <td>0.029667</td>\n",
              "      <td>56.245902</td>\n",
              "      <td>31.368852</td>\n",
              "      <td>24.557377</td>\n",
              "    </tr>\n",
              "    <tr>\n",
              "      <th>7</th>\n",
              "      <td>1086.262295</td>\n",
              "      <td>12.191803</td>\n",
              "      <td>0.016393</td>\n",
              "      <td>1.262295</td>\n",
              "      <td>67.934426</td>\n",
              "      <td>1150.311475</td>\n",
              "      <td>0.025372</td>\n",
              "      <td>56.439344</td>\n",
              "      <td>31.704918</td>\n",
              "      <td>62.360656</td>\n",
              "    </tr>\n",
              "    <tr>\n",
              "      <th>8</th>\n",
              "      <td>1086.491803</td>\n",
              "      <td>12.600000</td>\n",
              "      <td>0.032787</td>\n",
              "      <td>1.632787</td>\n",
              "      <td>64.049180</td>\n",
              "      <td>1152.868852</td>\n",
              "      <td>0.021197</td>\n",
              "      <td>57.918033</td>\n",
              "      <td>31.622951</td>\n",
              "      <td>136.688525</td>\n",
              "    </tr>\n",
              "    <tr>\n",
              "      <th>9</th>\n",
              "      <td>1076.524590</td>\n",
              "      <td>14.318033</td>\n",
              "      <td>0.016393</td>\n",
              "      <td>1.829508</td>\n",
              "      <td>57.803279</td>\n",
              "      <td>1189.098361</td>\n",
              "      <td>0.021492</td>\n",
              "      <td>59.147541</td>\n",
              "      <td>31.643443</td>\n",
              "      <td>93.540984</td>\n",
              "    </tr>\n",
              "    <tr>\n",
              "      <th>10</th>\n",
              "      <td>965.704918</td>\n",
              "      <td>16.242623</td>\n",
              "      <td>0.016393</td>\n",
              "      <td>2.122951</td>\n",
              "      <td>51.622951</td>\n",
              "      <td>1291.295082</td>\n",
              "      <td>0.025555</td>\n",
              "      <td>61.301639</td>\n",
              "      <td>31.073770</td>\n",
              "      <td>78.803279</td>\n",
              "    </tr>\n",
              "    <tr>\n",
              "      <th>11</th>\n",
              "      <td>1208.803279</td>\n",
              "      <td>18.019672</td>\n",
              "      <td>0.000000</td>\n",
              "      <td>2.485246</td>\n",
              "      <td>46.262295</td>\n",
              "      <td>1358.868852</td>\n",
              "      <td>0.030582</td>\n",
              "      <td>60.354098</td>\n",
              "      <td>30.877049</td>\n",
              "      <td>88.327869</td>\n",
              "    </tr>\n",
              "    <tr>\n",
              "      <th>12</th>\n",
              "      <td>1149.639344</td>\n",
              "      <td>19.457377</td>\n",
              "      <td>0.016393</td>\n",
              "      <td>2.766667</td>\n",
              "      <td>42.147541</td>\n",
              "      <td>1469.606557</td>\n",
              "      <td>0.036926</td>\n",
              "      <td>59.708197</td>\n",
              "      <td>29.295082</td>\n",
              "      <td>111.901639</td>\n",
              "    </tr>\n",
              "    <tr>\n",
              "      <th>13</th>\n",
              "      <td>988.616667</td>\n",
              "      <td>20.648333</td>\n",
              "      <td>0.016667</td>\n",
              "      <td>3.281356</td>\n",
              "      <td>38.850000</td>\n",
              "      <td>1512.266667</td>\n",
              "      <td>0.045706</td>\n",
              "      <td>59.300000</td>\n",
              "      <td>29.975000</td>\n",
              "      <td>120.050000</td>\n",
              "    </tr>\n",
              "    <tr>\n",
              "      <th>14</th>\n",
              "      <td>1067.327869</td>\n",
              "      <td>21.234426</td>\n",
              "      <td>0.065574</td>\n",
              "      <td>3.522951</td>\n",
              "      <td>37.573770</td>\n",
              "      <td>1519.721311</td>\n",
              "      <td>0.053344</td>\n",
              "      <td>59.160656</td>\n",
              "      <td>29.704918</td>\n",
              "      <td>134.590164</td>\n",
              "    </tr>\n",
              "    <tr>\n",
              "      <th>15</th>\n",
              "      <td>1181.918033</td>\n",
              "      <td>21.744262</td>\n",
              "      <td>0.065574</td>\n",
              "      <td>3.768852</td>\n",
              "      <td>37.393443</td>\n",
              "      <td>1528.065574</td>\n",
              "      <td>0.057273</td>\n",
              "      <td>58.413115</td>\n",
              "      <td>29.028689</td>\n",
              "      <td>152.967213</td>\n",
              "    </tr>\n",
              "    <tr>\n",
              "      <th>16</th>\n",
              "      <td>1029.100000</td>\n",
              "      <td>22.015000</td>\n",
              "      <td>0.050000</td>\n",
              "      <td>3.820000</td>\n",
              "      <td>36.450000</td>\n",
              "      <td>1566.583333</td>\n",
              "      <td>0.059686</td>\n",
              "      <td>56.726667</td>\n",
              "      <td>28.354167</td>\n",
              "      <td>169.100000</td>\n",
              "    </tr>\n",
              "    <tr>\n",
              "      <th>17</th>\n",
              "      <td>1178.950000</td>\n",
              "      <td>21.603333</td>\n",
              "      <td>0.100000</td>\n",
              "      <td>3.801667</td>\n",
              "      <td>38.883333</td>\n",
              "      <td>1561.733333</td>\n",
              "      <td>0.060028</td>\n",
              "      <td>56.310000</td>\n",
              "      <td>28.541667</td>\n",
              "      <td>187.133333</td>\n",
              "    </tr>\n",
              "    <tr>\n",
              "      <th>18</th>\n",
              "      <td>1127.327869</td>\n",
              "      <td>20.926667</td>\n",
              "      <td>0.016393</td>\n",
              "      <td>3.838333</td>\n",
              "      <td>40.450000</td>\n",
              "      <td>1581.850000</td>\n",
              "      <td>0.058301</td>\n",
              "      <td>56.088525</td>\n",
              "      <td>29.364754</td>\n",
              "      <td>262.163934</td>\n",
              "    </tr>\n",
              "    <tr>\n",
              "      <th>19</th>\n",
              "      <td>1153.147541</td>\n",
              "      <td>19.704918</td>\n",
              "      <td>0.032787</td>\n",
              "      <td>3.595082</td>\n",
              "      <td>43.573770</td>\n",
              "      <td>1576.688525</td>\n",
              "      <td>0.053967</td>\n",
              "      <td>54.675410</td>\n",
              "      <td>28.442623</td>\n",
              "      <td>201.606557</td>\n",
              "    </tr>\n",
              "    <tr>\n",
              "      <th>20</th>\n",
              "      <td>1000.934426</td>\n",
              "      <td>18.191803</td>\n",
              "      <td>0.049180</td>\n",
              "      <td>3.278333</td>\n",
              "      <td>47.573770</td>\n",
              "      <td>1565.557377</td>\n",
              "      <td>0.048279</td>\n",
              "      <td>53.800000</td>\n",
              "      <td>29.307377</td>\n",
              "      <td>164.868852</td>\n",
              "    </tr>\n",
              "    <tr>\n",
              "      <th>21</th>\n",
              "      <td>1109.116667</td>\n",
              "      <td>16.978333</td>\n",
              "      <td>0.016667</td>\n",
              "      <td>2.755000</td>\n",
              "      <td>50.450000</td>\n",
              "      <td>1590.016667</td>\n",
              "      <td>0.043517</td>\n",
              "      <td>53.933333</td>\n",
              "      <td>29.558333</td>\n",
              "      <td>168.816667</td>\n",
              "    </tr>\n",
              "    <tr>\n",
              "      <th>22</th>\n",
              "      <td>1153.327869</td>\n",
              "      <td>16.063934</td>\n",
              "      <td>0.032787</td>\n",
              "      <td>2.498361</td>\n",
              "      <td>53.950820</td>\n",
              "      <td>1512.081967</td>\n",
              "      <td>0.038066</td>\n",
              "      <td>54.098361</td>\n",
              "      <td>30.008197</td>\n",
              "      <td>148.245902</td>\n",
              "    </tr>\n",
              "    <tr>\n",
              "      <th>23</th>\n",
              "      <td>1079.836066</td>\n",
              "      <td>15.418033</td>\n",
              "      <td>0.016393</td>\n",
              "      <td>2.195082</td>\n",
              "      <td>56.393443</td>\n",
              "      <td>1462.508197</td>\n",
              "      <td>0.035148</td>\n",
              "      <td>54.426230</td>\n",
              "      <td>30.524590</td>\n",
              "      <td>103.852459</td>\n",
              "    </tr>\n",
              "  </tbody>\n",
              "</table>\n",
              "</div>"
            ],
            "text/plain": [
              "             id  hour_bef_temperature  ...  hour_bef_pm2.5       count\n",
              "0   1200.016667             14.788136  ...       30.829167   71.766667\n",
              "1   1074.918033             14.155738  ...       29.217213   47.606557\n",
              "2   1077.885246             13.747541  ...       31.151639   31.409836\n",
              "3   1146.704918             13.357377  ...       31.487705   21.377049\n",
              "4   1194.786885             13.001639  ...       31.942623   13.524590\n",
              "5   1091.819672             12.673770  ...       31.385246   13.114754\n",
              "6   1112.393443             12.377049  ...       31.368852   24.557377\n",
              "7   1086.262295             12.191803  ...       31.704918   62.360656\n",
              "8   1086.491803             12.600000  ...       31.622951  136.688525\n",
              "9   1076.524590             14.318033  ...       31.643443   93.540984\n",
              "10   965.704918             16.242623  ...       31.073770   78.803279\n",
              "11  1208.803279             18.019672  ...       30.877049   88.327869\n",
              "12  1149.639344             19.457377  ...       29.295082  111.901639\n",
              "13   988.616667             20.648333  ...       29.975000  120.050000\n",
              "14  1067.327869             21.234426  ...       29.704918  134.590164\n",
              "15  1181.918033             21.744262  ...       29.028689  152.967213\n",
              "16  1029.100000             22.015000  ...       28.354167  169.100000\n",
              "17  1178.950000             21.603333  ...       28.541667  187.133333\n",
              "18  1127.327869             20.926667  ...       29.364754  262.163934\n",
              "19  1153.147541             19.704918  ...       28.442623  201.606557\n",
              "20  1000.934426             18.191803  ...       29.307377  164.868852\n",
              "21  1109.116667             16.978333  ...       29.558333  168.816667\n",
              "22  1153.327869             16.063934  ...       30.008197  148.245902\n",
              "23  1079.836066             15.418033  ...       30.524590  103.852459\n",
              "\n",
              "[24 rows x 10 columns]"
            ]
          },
          "metadata": {},
          "execution_count": 45
        }
      ]
    },
    {
      "cell_type": "code",
      "metadata": {
        "id": "9xa-My4DG6NG"
      },
      "source": [
        "train_df = train.copy()\n",
        "test_df = test.copy()\n",
        "train_df['cue'] = 0\n",
        "test_df['cue'] = 1\n",
        "df = pd.concat([train_df,test_df],axis=0).reset_index(drop=True)\n",
        "\n",
        "# 전체 데이터 중 train에 해당하는 행 추출\n",
        "train_data = df.query('cue==\"0\"').reset_index(drop=True)\n",
        "\n",
        "df['hour_mean']=1\n",
        "\n",
        "#각 시간별 인덱스 추출\n",
        "index00 = df.query('hour==\"0\"').index\n",
        "index01 = df.query('hour==\"1\"').index\n",
        "index02 = df.query('hour==\"2\"').index\n",
        "index03 = df.query('hour==\"3\"').index\n",
        "index04 = df.query('hour==\"4\"').index\n",
        "index05 = df.query('hour==\"5\"').index\n",
        "index06 = df.query('hour==\"6\"').index\n",
        "index07 = df.query('hour==\"7\"').index\n",
        "index08 = df.query('hour==\"8\"').index\n",
        "index09 = df.query('hour==\"9\"').index\n",
        "index10 = df.query('hour==\"10\"').index\n",
        "index11 = df.query('hour==\"11\"').index\n",
        "index12 = df.query('hour==\"12\"').index\n",
        "index13 = df.query('hour==\"13\"').index\n",
        "index14 = df.query('hour==\"14\"').index\n",
        "index15 = df.query('hour==\"15\"').index\n",
        "index16 = df.query('hour==\"16\"').index\n",
        "index17 = df.query('hour==\"17\"').index\n",
        "index18 = df.query('hour==\"18\"').index\n",
        "index19 = df.query('hour==\"19\"').index\n",
        "index20 = df.query('hour==\"20\"').index\n",
        "index21 = df.query('hour==\"21\"').index\n",
        "index22 = df.query('hour==\"22\"').index\n",
        "index23 = df.query('hour==\"23\"').index\n",
        "\n",
        "# 각 시간별 평균값을 \"hourmean\" 변수에 대입\n",
        "df.iloc[index00,-1] = train_data.query('hour==\"0\"')['count'].mean()\n",
        "df.iloc[index01,-1] = train_data.query('hour==\"1\"')['count'].mean()\n",
        "df.iloc[index02,-1] = train_data.query('hour==\"2\"')['count'].mean()\n",
        "df.iloc[index03,-1] = train_data.query('hour==\"3\"')['count'].mean()\n",
        "df.iloc[index04,-1] = train_data.query('hour==\"4\"')['count'].mean()\n",
        "df.iloc[index05,-1] = train_data.query('hour==\"5\"')['count'].mean()\n",
        "df.iloc[index06,-1] = train_data.query('hour==\"6\"')['count'].mean()\n",
        "df.iloc[index07,-1] = train_data.query('hour==\"7\"')['count'].mean()\n",
        "df.iloc[index08,-1] = train_data.query('hour==\"8\"')['count'].mean()\n",
        "df.iloc[index09,-1] = train_data.query('hour==\"9\"')['count'].mean()\n",
        "df.iloc[index10,-1] = train_data.query('hour==\"10\"')['count'].mean()\n",
        "df.iloc[index11,-1] = train_data.query('hour==\"11\"')['count'].mean()\n",
        "df.iloc[index12,-1] = train_data.query('hour==\"12\"')['count'].mean()\n",
        "df.iloc[index13,-1] = train_data.query('hour==\"13\"')['count'].mean()\n",
        "df.iloc[index14,-1] = train_data.query('hour==\"14\"')['count'].mean()\n",
        "df.iloc[index15,-1] = train_data.query('hour==\"15\"')['count'].mean()\n",
        "df.iloc[index16,-1] = train_data.query('hour==\"16\"')['count'].mean()\n",
        "df.iloc[index17,-1] = train_data.query('hour==\"17\"')['count'].mean()\n",
        "df.iloc[index18,-1] = train_data.query('hour==\"18\"')['count'].mean()\n",
        "df.iloc[index19,-1] = train_data.query('hour==\"19\"')['count'].mean()\n",
        "df.iloc[index20,-1] = train_data.query('hour==\"20\"')['count'].mean()\n",
        "df.iloc[index21,-1] = train_data.query('hour==\"21\"')['count'].mean()\n",
        "df.iloc[index22,-1] = train_data.query('hour==\"22\"')['count'].mean()\n",
        "df.iloc[index23,-1] = train_data.query('hour==\"23\"')['count'].mean()"
      ],
      "execution_count": null,
      "outputs": []
    },
    {
      "cell_type": "code",
      "metadata": {
        "colab": {
          "base_uri": "https://localhost:8080/",
          "height": 224
        },
        "id": "e46JbRb6NGa0",
        "outputId": "9b23480c-1def-468e-cd4e-7365099f19e3"
      },
      "source": [
        "df.tail()"
      ],
      "execution_count": null,
      "outputs": [
        {
          "output_type": "execute_result",
          "data": {
            "text/html": [
              "<div>\n",
              "<style scoped>\n",
              "    .dataframe tbody tr th:only-of-type {\n",
              "        vertical-align: middle;\n",
              "    }\n",
              "\n",
              "    .dataframe tbody tr th {\n",
              "        vertical-align: top;\n",
              "    }\n",
              "\n",
              "    .dataframe thead th {\n",
              "        text-align: right;\n",
              "    }\n",
              "</style>\n",
              "<table border=\"1\" class=\"dataframe\">\n",
              "  <thead>\n",
              "    <tr style=\"text-align: right;\">\n",
              "      <th></th>\n",
              "      <th>id</th>\n",
              "      <th>hour</th>\n",
              "      <th>hour_bef_temperature</th>\n",
              "      <th>hour_bef_precipitation</th>\n",
              "      <th>hour_bef_windspeed</th>\n",
              "      <th>hour_bef_humidity</th>\n",
              "      <th>hour_bef_visibility</th>\n",
              "      <th>hour_bef_ozone</th>\n",
              "      <th>hour_bef_pm10</th>\n",
              "      <th>hour_bef_pm2.5</th>\n",
              "      <th>count</th>\n",
              "      <th>cue</th>\n",
              "      <th>hour_mean</th>\n",
              "    </tr>\n",
              "  </thead>\n",
              "  <tbody>\n",
              "    <tr>\n",
              "      <th>2169</th>\n",
              "      <td>2148</td>\n",
              "      <td>1</td>\n",
              "      <td>24.6</td>\n",
              "      <td>0.0</td>\n",
              "      <td>2.4</td>\n",
              "      <td>60.0</td>\n",
              "      <td>1745.0</td>\n",
              "      <td>0.023833</td>\n",
              "      <td>46.0</td>\n",
              "      <td>30.25</td>\n",
              "      <td>NaN</td>\n",
              "      <td>1</td>\n",
              "      <td>47.606557</td>\n",
              "    </tr>\n",
              "    <tr>\n",
              "      <th>2170</th>\n",
              "      <td>2149</td>\n",
              "      <td>1</td>\n",
              "      <td>18.1</td>\n",
              "      <td>0.0</td>\n",
              "      <td>1.0</td>\n",
              "      <td>55.0</td>\n",
              "      <td>2000.0</td>\n",
              "      <td>0.027000</td>\n",
              "      <td>30.0</td>\n",
              "      <td>20.25</td>\n",
              "      <td>NaN</td>\n",
              "      <td>1</td>\n",
              "      <td>47.606557</td>\n",
              "    </tr>\n",
              "    <tr>\n",
              "      <th>2171</th>\n",
              "      <td>2165</td>\n",
              "      <td>9</td>\n",
              "      <td>23.3</td>\n",
              "      <td>0.0</td>\n",
              "      <td>2.3</td>\n",
              "      <td>66.0</td>\n",
              "      <td>1789.0</td>\n",
              "      <td>0.020000</td>\n",
              "      <td>17.0</td>\n",
              "      <td>15.00</td>\n",
              "      <td>NaN</td>\n",
              "      <td>1</td>\n",
              "      <td>93.540984</td>\n",
              "    </tr>\n",
              "    <tr>\n",
              "      <th>2172</th>\n",
              "      <td>2166</td>\n",
              "      <td>16</td>\n",
              "      <td>27.0</td>\n",
              "      <td>0.0</td>\n",
              "      <td>1.6</td>\n",
              "      <td>46.0</td>\n",
              "      <td>1956.0</td>\n",
              "      <td>0.032000</td>\n",
              "      <td>40.0</td>\n",
              "      <td>26.00</td>\n",
              "      <td>NaN</td>\n",
              "      <td>1</td>\n",
              "      <td>169.100000</td>\n",
              "    </tr>\n",
              "    <tr>\n",
              "      <th>2173</th>\n",
              "      <td>2177</td>\n",
              "      <td>8</td>\n",
              "      <td>22.3</td>\n",
              "      <td>0.0</td>\n",
              "      <td>1.0</td>\n",
              "      <td>63.0</td>\n",
              "      <td>1277.0</td>\n",
              "      <td>0.007000</td>\n",
              "      <td>30.0</td>\n",
              "      <td>24.00</td>\n",
              "      <td>NaN</td>\n",
              "      <td>1</td>\n",
              "      <td>136.688525</td>\n",
              "    </tr>\n",
              "  </tbody>\n",
              "</table>\n",
              "</div>"
            ],
            "text/plain": [
              "        id  hour  hour_bef_temperature  ...  count  cue   hour_mean\n",
              "2169  2148     1                  24.6  ...    NaN    1   47.606557\n",
              "2170  2149     1                  18.1  ...    NaN    1   47.606557\n",
              "2171  2165     9                  23.3  ...    NaN    1   93.540984\n",
              "2172  2166    16                  27.0  ...    NaN    1  169.100000\n",
              "2173  2177     8                  22.3  ...    NaN    1  136.688525\n",
              "\n",
              "[5 rows x 13 columns]"
            ]
          },
          "metadata": {},
          "execution_count": 48
        }
      ]
    },
    {
      "cell_type": "markdown",
      "metadata": {
        "id": "r98SwGNHGzM-"
      },
      "source": [
        "#### hour_bef_precipitation에 따른 평균 이용 수"
      ]
    },
    {
      "cell_type": "code",
      "metadata": {
        "id": "7X10X-G6G2UP"
      },
      "source": [
        "df['precipitation_mean'] = 1\n",
        "index0 = df.query('hour_bef_precipitation==\"0.0\"').index\n",
        "index1 = df.query('hour_bef_precipitation==\"1.0\"').index\n",
        "\n",
        "df.iloc[index0,-1] =train_data.query('hour_bef_precipitation==\"0.0\"')['count'].mean()\n",
        "df.iloc[index1,-1] =train_data.query('hour_bef_precipitation==\"1.0\"')['count'].mean()"
      ],
      "execution_count": null,
      "outputs": []
    },
    {
      "cell_type": "code",
      "metadata": {
        "id": "V-sERPsUcPfo",
        "colab": {
          "base_uri": "https://localhost:8080/",
          "height": 224
        },
        "outputId": "dffdb37b-8a2d-44d8-c62f-3e25bb569d6d"
      },
      "source": [
        "df.tail()"
      ],
      "execution_count": null,
      "outputs": [
        {
          "output_type": "execute_result",
          "data": {
            "text/html": [
              "<div>\n",
              "<style scoped>\n",
              "    .dataframe tbody tr th:only-of-type {\n",
              "        vertical-align: middle;\n",
              "    }\n",
              "\n",
              "    .dataframe tbody tr th {\n",
              "        vertical-align: top;\n",
              "    }\n",
              "\n",
              "    .dataframe thead th {\n",
              "        text-align: right;\n",
              "    }\n",
              "</style>\n",
              "<table border=\"1\" class=\"dataframe\">\n",
              "  <thead>\n",
              "    <tr style=\"text-align: right;\">\n",
              "      <th></th>\n",
              "      <th>id</th>\n",
              "      <th>hour</th>\n",
              "      <th>hour_bef_temperature</th>\n",
              "      <th>hour_bef_precipitation</th>\n",
              "      <th>hour_bef_windspeed</th>\n",
              "      <th>hour_bef_humidity</th>\n",
              "      <th>hour_bef_visibility</th>\n",
              "      <th>hour_bef_ozone</th>\n",
              "      <th>hour_bef_pm10</th>\n",
              "      <th>hour_bef_pm2.5</th>\n",
              "      <th>count</th>\n",
              "      <th>cue</th>\n",
              "      <th>hour_mean</th>\n",
              "      <th>precipitation_mean</th>\n",
              "    </tr>\n",
              "  </thead>\n",
              "  <tbody>\n",
              "    <tr>\n",
              "      <th>2169</th>\n",
              "      <td>2148</td>\n",
              "      <td>1</td>\n",
              "      <td>24.6</td>\n",
              "      <td>0.0</td>\n",
              "      <td>2.4</td>\n",
              "      <td>60.0</td>\n",
              "      <td>1745.0</td>\n",
              "      <td>0.023833</td>\n",
              "      <td>46.0</td>\n",
              "      <td>30.25</td>\n",
              "      <td>NaN</td>\n",
              "      <td>1</td>\n",
              "      <td>47.606557</td>\n",
              "      <td>111.001415</td>\n",
              "    </tr>\n",
              "    <tr>\n",
              "      <th>2170</th>\n",
              "      <td>2149</td>\n",
              "      <td>1</td>\n",
              "      <td>18.1</td>\n",
              "      <td>0.0</td>\n",
              "      <td>1.0</td>\n",
              "      <td>55.0</td>\n",
              "      <td>2000.0</td>\n",
              "      <td>0.027000</td>\n",
              "      <td>30.0</td>\n",
              "      <td>20.25</td>\n",
              "      <td>NaN</td>\n",
              "      <td>1</td>\n",
              "      <td>47.606557</td>\n",
              "      <td>111.001415</td>\n",
              "    </tr>\n",
              "    <tr>\n",
              "      <th>2171</th>\n",
              "      <td>2165</td>\n",
              "      <td>9</td>\n",
              "      <td>23.3</td>\n",
              "      <td>0.0</td>\n",
              "      <td>2.3</td>\n",
              "      <td>66.0</td>\n",
              "      <td>1789.0</td>\n",
              "      <td>0.020000</td>\n",
              "      <td>17.0</td>\n",
              "      <td>15.00</td>\n",
              "      <td>NaN</td>\n",
              "      <td>1</td>\n",
              "      <td>93.540984</td>\n",
              "      <td>111.001415</td>\n",
              "    </tr>\n",
              "    <tr>\n",
              "      <th>2172</th>\n",
              "      <td>2166</td>\n",
              "      <td>16</td>\n",
              "      <td>27.0</td>\n",
              "      <td>0.0</td>\n",
              "      <td>1.6</td>\n",
              "      <td>46.0</td>\n",
              "      <td>1956.0</td>\n",
              "      <td>0.032000</td>\n",
              "      <td>40.0</td>\n",
              "      <td>26.00</td>\n",
              "      <td>NaN</td>\n",
              "      <td>1</td>\n",
              "      <td>169.100000</td>\n",
              "      <td>111.001415</td>\n",
              "    </tr>\n",
              "    <tr>\n",
              "      <th>2173</th>\n",
              "      <td>2177</td>\n",
              "      <td>8</td>\n",
              "      <td>22.3</td>\n",
              "      <td>0.0</td>\n",
              "      <td>1.0</td>\n",
              "      <td>63.0</td>\n",
              "      <td>1277.0</td>\n",
              "      <td>0.007000</td>\n",
              "      <td>30.0</td>\n",
              "      <td>24.00</td>\n",
              "      <td>NaN</td>\n",
              "      <td>1</td>\n",
              "      <td>136.688525</td>\n",
              "      <td>111.001415</td>\n",
              "    </tr>\n",
              "  </tbody>\n",
              "</table>\n",
              "</div>"
            ],
            "text/plain": [
              "        id  hour  hour_bef_temperature  ...  cue   hour_mean  precipitation_mean\n",
              "2169  2148     1                  24.6  ...    1   47.606557          111.001415\n",
              "2170  2149     1                  18.1  ...    1   47.606557          111.001415\n",
              "2171  2165     9                  23.3  ...    1   93.540984          111.001415\n",
              "2172  2166    16                  27.0  ...    1  169.100000          111.001415\n",
              "2173  2177     8                  22.3  ...    1  136.688525          111.001415\n",
              "\n",
              "[5 rows x 14 columns]"
            ]
          },
          "metadata": {},
          "execution_count": 51
        }
      ]
    },
    {
      "cell_type": "markdown",
      "metadata": {
        "id": "KI_uAloHjnPm"
      },
      "source": [
        "### X_feature 왜곡 확인"
      ]
    },
    {
      "cell_type": "code",
      "metadata": {
        "colab": {
          "base_uri": "https://localhost:8080/"
        },
        "id": "4jLYGha4jsp8",
        "outputId": "700d9168-ad4e-4ce3-e533-8716df348a1c"
      },
      "source": [
        "# 변수들의 왜곡 확인\n",
        "from scipy.stats import skew\n",
        "feature_df = df.drop(['id'\t,'hour','count','cue','hour_bef_precipitation'], axis=1)\n",
        "feature_index = feature_df.dtypes[feature_df.dtypes != 'object'].index \n",
        "feature_index = feature_df.dtypes[feature_df.dtypes != 'object'].index \n",
        "skew_features = feature_df[feature_index].apply(lambda x: skew(x))\n",
        "\n",
        "#shew(왜곡) 저도가 1 이상인 칼럼만 추출\n",
        "skew_features_top = skew_features[skew_features>1]\n",
        "print(skew_features_top.sort_values(ascending=False))"
      ],
      "execution_count": null,
      "outputs": [
        {
          "output_type": "stream",
          "name": "stdout",
          "text": [
            "hour_bef_pm10     2.645937\n",
            "hour_bef_pm2.5    1.387923\n",
            "dtype: float64\n"
          ]
        }
      ]
    },
    {
      "cell_type": "markdown",
      "metadata": {
        "id": "CCoKjwwgojPv"
      },
      "source": [
        "해당 변수는 사용않을 계획이기 때문에 별도의 log변환을 하지 않는다."
      ]
    },
    {
      "cell_type": "markdown",
      "metadata": {
        "id": "GUej880_o7iD"
      },
      "source": [
        " ### target 이상치\n",
        " - count의 퇴근 시간대 분포를 보면 이상치가 존재한다. 이는 휴일,주말에 측정한 것으로 추측되므로 이를 제거한다\n",
        " - 2017년 5월 휴일은 석가탄신일, 어린이날, 19대 선거 3일이다. 시간별 count 이상치 갯수와 비슷하다\n",
        " - 휴일 변수는 test의 count값이 없기 때문에 만들지 못한다."
      ]
    },
    {
      "cell_type": "code",
      "metadata": {
        "colab": {
          "base_uri": "https://localhost:8080/",
          "height": 606
        },
        "id": "ruCZFchmo-iI",
        "outputId": "d645e714-4c77-4d0d-acbc-dbea0f6857c6"
      },
      "source": [
        "plt.figure(figsize=(15,10))\n",
        "sns.boxplot(x='hour',y='count', data=train)\n",
        "plt.show()"
      ],
      "execution_count": null,
      "outputs": [
        {
          "output_type": "display_data",
          "data": {
            "image/png": "[encoded data removed]",
            "text/plain": [
              "<Figure size 1080x720 with 1 Axes>"
            ]
          },
          "metadata": {
            "needs_background": "light"
          }
        }
      ]
    },
    {
      "cell_type": "code",
      "metadata": {
        "colab": {
          "base_uri": "https://localhost:8080/"
        },
        "id": "cN8az7tVxhIn",
        "outputId": "1218910d-8af6-49ef-d38c-eff3e0dec696"
      },
      "source": [
        "#18시\n",
        "train[train['hour']==18]['count']<100  # 19,1035,1113\n",
        "# #19시\n",
        "train[train['hour']==19]['count']<50  # 110, 306, 713"
      ],
      "execution_count": null,
      "outputs": [
        {
          "output_type": "execute_result",
          "data": {
            "text/plain": [
              "32      False\n",
              "40      False\n",
              "95      False\n",
              "98      False\n",
              "110      True\n",
              "129     False\n",
              "263     False\n",
              "266     False\n",
              "276     False\n",
              "288     False\n",
              "305     False\n",
              "306      True\n",
              "308     False\n",
              "339     False\n",
              "385     False\n",
              "395     False\n",
              "402     False\n",
              "407     False\n",
              "465     False\n",
              "512     False\n",
              "540     False\n",
              "545     False\n",
              "550     False\n",
              "578     False\n",
              "598     False\n",
              "606     False\n",
              "632     False\n",
              "654     False\n",
              "694     False\n",
              "713      True\n",
              "716     False\n",
              "743     False\n",
              "764     False\n",
              "877     False\n",
              "951     False\n",
              "962     False\n",
              "974     False\n",
              "1002    False\n",
              "1004    False\n",
              "1032    False\n",
              "1075    False\n",
              "1082    False\n",
              "1103    False\n",
              "1116    False\n",
              "1119    False\n",
              "1126    False\n",
              "1140    False\n",
              "1153    False\n",
              "1162    False\n",
              "1164    False\n",
              "1166    False\n",
              "1215    False\n",
              "1262    False\n",
              "1293    False\n",
              "1331    False\n",
              "1338    False\n",
              "1362    False\n",
              "1370    False\n",
              "1402    False\n",
              "1426    False\n",
              "1448    False\n",
              "Name: count, dtype: bool"
            ]
          },
          "metadata": {},
          "execution_count": 55
        }
      ]
    },
    {
      "cell_type": "code",
      "metadata": {
        "id": "MQWUsjNRGD4z"
      },
      "source": [
        "del_index = [19,1035,1113,110,306,713]\n",
        "df.drop(del_index, axis=0, inplace =True)"
      ],
      "execution_count": null,
      "outputs": []
    },
    {
      "cell_type": "markdown",
      "metadata": {
        "id": "Oc-nehsVJHa3"
      },
      "source": [
        "### 원핫인코딩 & 데이터 분리"
      ]
    },
    {
      "cell_type": "code",
      "metadata": {
        "id": "WZuaJzhpgXIS"
      },
      "source": [
        "# 데이터 분리\n",
        "x_train = df.query('cue==\"0\"').drop(['cue','count'], axis='columns')\n",
        "test = df.query('cue==\"1\"').drop(['cue','count'],axis='columns')\n",
        "y_train = df.query('cue==\"0\"')['count']\n",
        "\n",
        "# target log\n",
        "y_target_log = np.log1p(y_train)\n",
        "\n",
        "# 원핫 인코딩\n",
        "# x_train = pd.get_dummies(x_train, columns=['hour'])\n",
        "# test = pd.get_dummies(test, columns=['hour'])\n",
        "\n",
        "X_train, X_test, Y_train, Y_test = train_test_split(x_train, y_train, test_size=0.3, random_state=2021)"
      ],
      "execution_count": null,
      "outputs": []
    },
    {
      "cell_type": "markdown",
      "metadata": {
        "id": "Bdjf5ug_XE0G"
      },
      "source": [
        "### feature Scaling\n",
        "- X's 변수의 scaling"
      ]
    },
    {
      "cell_type": "code",
      "metadata": {
        "id": "ggNb_S5aXHSu"
      },
      "source": [
        "def scaling(scaler,X_train,X_test,test):\n",
        "\n",
        "  # train, valid data scaling\n",
        "  scaler = scaler \n",
        "  scaler_fit = scaler.fit(X_train)  \n",
        "  X_train = pd.DataFrame(scaler_fit.transform(X_train), index =X_train.index, columns=X_train.columns)\n",
        "  X_test = pd.DataFrame(scaler_fit.transform(X_test),index =X_test.index, columns=X_test.columns)\n",
        "\n",
        "  # test data scaling\n",
        "  test = pd.DataFrame(scaler_fit.transform(test),index =test.index, columns=test.columns)\n",
        "\n",
        "  return X_train,X_test,test\n",
        "\n",
        "X_train,X_test,test = scaling(StandardScaler(),X_train,X_test,test)"
      ],
      "execution_count": null,
      "outputs": []
    },
    {
      "cell_type": "markdown",
      "metadata": {
        "id": "Qyq90ZzB2lnk"
      },
      "source": [
        "## 4. 모델 구축\n",
        "  "
      ]
    },
    {
      "cell_type": "code",
      "metadata": {
        "id": "8y9xQ0QuKIBo"
      },
      "source": [
        "# 전체 변수\n",
        "# x_columns = X_train.columns\n",
        "\n",
        "# count와 상관관게 있는 변수만\n",
        "# x_columns = [col for col in x_train.columns if col != \"hour_bef_pm10\" and col !=\"hour_bef_pm2.5\" and col !=\"id\"]\n",
        "\n",
        "# xgb 피처 중요도\n",
        "x_columns = ['hour_mean','hour_bef_temperature','hour_bef_precipitation']\n",
        "\n",
        "# x_columns = ['hour','hour_bef_precipitation']\n",
        "# x_columns"
      ],
      "execution_count": null,
      "outputs": []
    },
    {
      "cell_type": "code",
      "metadata": {
        "colab": {
          "base_uri": "https://localhost:8080/"
        },
        "id": "gPtRSN0ql6i6",
        "outputId": "83b819f1-9866-4a95-eac4-7027e7f6e9e0"
      },
      "source": [
        "train.columns"
      ],
      "execution_count": null,
      "outputs": [
        {
          "output_type": "execute_result",
          "data": {
            "text/plain": [
              "Index(['id', 'hour', 'hour_bef_temperature', 'hour_bef_precipitation',\n",
              "       'hour_bef_windspeed', 'hour_bef_humidity', 'hour_bef_visibility',\n",
              "       'hour_bef_ozone', 'hour_bef_pm10', 'hour_bef_pm2.5', 'count'],\n",
              "      dtype='object')"
            ]
          },
          "metadata": {},
          "execution_count": 62
        }
      ]
    },
    {
      "cell_type": "code",
      "metadata": {
        "colab": {
          "base_uri": "https://localhost:8080/"
        },
        "id": "j9sRpcfwCAjK",
        "outputId": "d5a622c9-6526-4b7a-a7b7-b92466cc1f3b"
      },
      "source": [
        "#그리드 서치\n",
        "models = [\n",
        "    ('ridge', lm.Ridge()),\n",
        "    ('lasso', lm.Lasso()),\n",
        "    ('elastic', lm.ElasticNet()),\n",
        "    ('LassoLars', lm.LassoLars()),\n",
        "    ('LogisticRegression', lm.LogisticRegression()),\n",
        "    # ('SGDRegressor', lm.SGDRegressor()),\n",
        "    ('xgboost', XGBRegressor()),\n",
        "    ('lgb', lgb.LGBMRegressor()),\n",
        "    ('knn', KNeighborsRegressor(n_jobs = -1) ),\n",
        "    ('rf', RandomForestRegressor(n_jobs = -1)),\n",
        "    ('dt',  DecisionTreeRegressor()),\n",
        "    # ('ada', AdaBoostRegressor())\n",
        "]\n",
        "\n",
        "params = {\n",
        "    'ridge': {\n",
        "        'alpha': [0.01, 0.1, 1.0, 10, 100],\n",
        "        'fit_intercept': [True, False],\n",
        "        'normalize': [True, False],\n",
        "    },\n",
        "    'lasso': {\n",
        "        'alpha': [0.1, 1.0, 10],\n",
        "        'fit_intercept': [True, False],\n",
        "        'normalize': [True, False],\n",
        "    },\n",
        "    'elastic': {\n",
        "        'alpha': [0.1, 1.0, 10],\n",
        "        'normalize': [True, False],\n",
        "        'fit_intercept': [True, False],\n",
        "    },\n",
        "    'LassoLars': {\n",
        "        'alpha': [0.1, 1.0, 10],\n",
        "        'normalize': [True, False],\n",
        "        'fit_intercept': [True, False],\n",
        "    },\n",
        "    'LogisticRegression': {\n",
        "        'penalty': ['l1', 'l2'],\n",
        "        'C': [0.01,0.1, 1.0, 10,100],\n",
        "        'fit_intercept': [True, False],\n",
        "    },\n",
        "    # 'SGDRegressor': {\n",
        "    #     'penalty': ['l1', 'l2'],\n",
        "    #     'alpha': [0.001, 0.01, 0.1, 1.0, 10, 100],\n",
        "    #     'fit_intercept': [True, False],\n",
        "    # },\n",
        "    'xgboost': {\n",
        "        \"gamma\": np.linspace(0,0.5,50),\n",
        "        \"max_depth\": range(2, 7), \n",
        "        \"n_estimators\": [100,200,300] \n",
        "    },\n",
        "    'lgb': {\n",
        "        \"gamma\": np.linspace(0,0.5,50)+[0.341],\n",
        "        \"max_depth\": range(2, 7), \n",
        "        \"n_estimators\": [100,200,300,400] \n",
        "    },\n",
        "    'knn': {\n",
        "        \"n_neighbors\": range(2,7),\n",
        "        },\n",
        "    'rf': {\n",
        "        \"max_depth\": range(2, 5),\n",
        "        \"min_samples_split\": range(2, 5),\n",
        "        \"min_samples_leaf\": range(2, 5), \n",
        "        \"n_estimators\": [100,200,300],\n",
        "        },\n",
        "    'dt': {\n",
        "        \"max_depth\": range(2, 5),\n",
        "        \"min_samples_split\": range(2, 5),\n",
        "        \"min_samples_leaf\": range(2, 5), \n",
        "        },\n",
        "    # 'ada': {\n",
        "    #     \"n_estimators\": [40,50,60]\n",
        "    # }\n",
        "}\n",
        "\n",
        "best_model, best_score = None, float('inf')\n",
        "kfold = KFold(n_splits=5, shuffle=True, random_state=None)\n",
        "for model_name, model in models:\n",
        "    param_grid = params[model_name]\n",
        "    grid = GridSearchCV(model, cv=kfold, n_jobs=-1, param_grid=param_grid)\n",
        "    grid = grid.fit(X_train[x_columns], Y_train)\n",
        "\n",
        "    model = grid.best_estimator_\n",
        "    predictions = model.predict(X_test[x_columns])\n",
        "\n",
        "    score = evaluate(Y_test, predictions)['mse'][0]\n",
        "    print(model_name, score)\n",
        "\n",
        "    if score < best_score:\n",
        "        best_score=score\n",
        "        best_model = model\n",
        "\n",
        "    # ## expm1로 변환\n",
        "    # y_test_exp = np.expm1(y_test)\n",
        "    # predictions_exp = np.expm1(predictions)\n",
        "    # score_exp = evaluate(y_test_exp, predictions_exp)['mae'][0]\n",
        "    # print(model_name, score_exp)\n",
        "\n",
        "    # if score_exp < best_score:\n",
        "    #   best_score=score_exp\n",
        "    #   best_model = model"
      ],
      "execution_count": null,
      "outputs": [
        {
          "output_type": "stream",
          "name": "stdout",
          "text": [
            "ridge 1792.492041133822\n",
            "lasso 1791.5277415356115\n",
            "elastic 1820.4101812961349\n",
            "LassoLars 1791.5272526133288\n",
            "LogisticRegression 6268.908256880734\n",
            "[11:33:01] WARNING: /workspace/src/objective/regression_obj.cu:152: reg:linear is now deprecated in favor of reg:squarederror.\n",
            "xgboost 1544.2674034695967\n",
            "lgb 1489.6300890980265\n",
            "knn 1733.4388379204893\n",
            "rf 1584.2857701783096\n",
            "dt 1753.763307044564\n",
            "ada 1927.4951397174343\n"
          ]
        }
      ]
    },
    {
      "cell_type": "code",
      "metadata": {
        "colab": {
          "base_uri": "https://localhost:8080/",
          "height": 80
        },
        "id": "UdMQdzzQf7no",
        "outputId": "dca00d87-5172-4d95-e3a9-ef0b91b0b0c0"
      },
      "source": [
        "evaluate(Y_test, predictions)"
      ],
      "execution_count": null,
      "outputs": [
        {
          "output_type": "execute_result",
          "data": {
            "text/html": [
              "<div>\n",
              "<style scoped>\n",
              "    .dataframe tbody tr th:only-of-type {\n",
              "        vertical-align: middle;\n",
              "    }\n",
              "\n",
              "    .dataframe tbody tr th {\n",
              "        vertical-align: top;\n",
              "    }\n",
              "\n",
              "    .dataframe thead th {\n",
              "        text-align: right;\n",
              "    }\n",
              "</style>\n",
              "<table border=\"1\" class=\"dataframe\">\n",
              "  <thead>\n",
              "    <tr style=\"text-align: right;\">\n",
              "      <th></th>\n",
              "      <th>mape</th>\n",
              "      <th>mae</th>\n",
              "      <th>mse</th>\n",
              "    </tr>\n",
              "  </thead>\n",
              "  <tbody>\n",
              "    <tr>\n",
              "      <th>score</th>\n",
              "      <td>113.028375</td>\n",
              "      <td>36.038356</td>\n",
              "      <td>2127.489808</td>\n",
              "    </tr>\n",
              "  </tbody>\n",
              "</table>\n",
              "</div>"
            ],
            "text/plain": [
              "             mape        mae          mse\n",
              "score  113.028375  36.038356  2127.489808"
            ]
          },
          "metadata": {},
          "execution_count": 65
        }
      ]
    },
    {
      "cell_type": "code",
      "metadata": {
        "colab": {
          "base_uri": "https://localhost:8080/"
        },
        "id": "k8IDPyRXdx8Z",
        "outputId": "a1f1107b-4c1e-435b-a6ab-8c3bdb582a95"
      },
      "source": [
        "best_model.get_params"
      ],
      "execution_count": null,
      "outputs": [
        {
          "output_type": "execute_result",
          "data": {
            "text/plain": [
              "<bound method LGBMModel.get_params of LGBMRegressor(boosting_type='gbdt', class_weight=None, colsample_bytree=1.0,\n",
              "              gamma=0.341, importance_type='split', learning_rate=0.1,\n",
              "              max_depth=3, min_child_samples=20, min_child_weight=0.001,\n",
              "              min_split_gain=0.0, n_estimators=100, n_jobs=-1, num_leaves=31,\n",
              "              objective=None, random_state=None, reg_alpha=0.0, reg_lambda=0.0,\n",
              "              silent=True, subsample=1.0, subsample_for_bin=200000,\n",
              "              subsample_freq=0)>"
            ]
          },
          "metadata": {},
          "execution_count": 73
        }
      ]
    },
    {
      "cell_type": "code",
      "metadata": {
        "id": "4BE0UxfadUoU",
        "colab": {
          "base_uri": "https://localhost:8080/",
          "height": 337
        },
        "outputId": "7b2e238d-9e53-4fe1-e491-40c41bd985de"
      },
      "source": [
        "feature_importance = pd.Series(index=x_train[x_columns].columns, data=best_model.feature_importances_).sort_values(ascending=False)\n",
        "feature_importance.plot(kind='bar', figsize=(24, 5), title=\"feature importances_\", rot=0)\n",
        "plt.show()"
      ],
      "execution_count": null,
      "outputs": [
        {
          "output_type": "display_data",
          "data": {
            "image/png": "[encoded data removed]",
            "text/plain": [
              "<Figure size 1728x360 with 1 Axes>"
            ]
          },
          "metadata": {
            "needs_background": "light"
          }
        }
      ]
    },
    {
      "cell_type": "markdown",
      "metadata": {
        "id": "xfqHHOr6ZKM7"
      },
      "source": [
        "### Grid Best model predict"
      ]
    },
    {
      "cell_type": "code",
      "metadata": {
        "id": "W28GkjkPF4XS"
      },
      "source": [
        "best_pred = best_model.predict(test[x_columns])\n",
        "submission.iloc[:,1] = best_pred\n",
        "submission.set_index(\"id\")\n",
        "submission.to_csv('lgb_model_cv5_pred_selected.csv', index=False)"
      ],
      "execution_count": null,
      "outputs": []
    },
    {
      "cell_type": "markdown",
      "metadata": {
        "id": "yoKT1bmjQn_0"
      },
      "source": [
        "### CV 스태킹"
      ]
    },
    {
      "cell_type": "code",
      "metadata": {
        "id": "zJB6XgKn_vAL"
      },
      "source": [
        "#보류 -> 그리드 서치를 통해 결정하기\n",
        "#개별 model 생성\n",
        "knn=KNeighborsRegressor(n_jobs = -1)\n",
        "rf = RandomForestRegressor(n_jobs = -1, random_state=2021)\n",
        "dt = DecisionTreeRegressor(random_state=2021)\n",
        "xgb = XGBRegressor(verbosity = 0, random_state=2021)\n",
        "ada = AdaBoostRegressor(random_state=2021)\n",
        "ridge=lm.Ridge()\n",
        "lasso=lm.Lasso()\n",
        "final = lm.Ridge()\n",
        "lgb_reg=lgb.LGBMRegressor()"
      ],
      "execution_count": null,
      "outputs": []
    },
    {
      "cell_type": "code",
      "metadata": {
        "id": "KA7CvRQdOkVa"
      },
      "source": [
        "def print_best_params(model, params):\n",
        "  best_model, best_score = None, float('inf')\n",
        "  grid_model = GridSearchCV(model,param_grid=params,\n",
        "                            scoring='neg_mean_squared_error',cv=5)\n",
        "  grid_model.fit(X_train,Y_train)\n",
        "  # predictions = grid_model.predict(X_test)\n",
        "  # score = evaluate(Y_test, predictions)['mse'][0]\n",
        "  print(\"model name is {0},Grid best score:{1}, Grid best_params_:{2} \".format(model.__class__.__name__,grid_model.best_score_,grid_model.best_params_))"
      ],
      "execution_count": null,
      "outputs": []
    },
    {
      "cell_type": "code",
      "metadata": {
        "id": "IUQkU0hoQ7gJ"
      },
      "source": [
        "#param 설정\n",
        "knn_params ={\"n_neighbors\": range(2,7)}\n",
        "rf_params={\"max_depth\": range(2, 5),\"min_samples_split\": range(2, 5),\"min_samples_leaf\": range(2, 5), \"n_estimators\": [100,200,300]}\n",
        "dt_params={\"max_depth\": range(2, 5),\"min_samples_split\": range(2, 5),\"min_samples_leaf\": range(2, 5)}\n",
        "xgb_params={\"gamma\": uniform(0, 0.5).rvs(3),\"max_depth\": range(2, 7), \"n_estimators\": [100,200,300]}\n",
        "ada_params={\"n_estimators\": [40,50,60]}\n",
        "lgb_params={\"gamma\": uniform(0, 0.5).rvs(3),\"max_depth\": range(2, 7), \"n_estimators\": [100,200,300,400]}\n",
        "Ridge_params={'alpha': [0.01, 0.1, 1.0, 10, 100],'fit_intercept': [True, False],'normalize': [True, False]}\n",
        "lasso_params={'alpha': [0.1, 1.0, 10],'fit_intercept': [True, False],'normalize': [True, False]}"
      ],
      "execution_count": null,
      "outputs": []
    },
    {
      "cell_type": "code",
      "metadata": {
        "colab": {
          "base_uri": "https://localhost:8080/"
        },
        "id": "SkMJG73CS7vU",
        "outputId": "1a6627c3-fd1e-4cf2-d6a3-dc46d492d9e2"
      },
      "source": [
        "print_best_params(knn,knn_params)\n",
        "print_best_params(rf,rf_params)\n",
        "print_best_params(dt,dt_params)\n",
        "print_best_params(ada,ada_params)\n",
        "print_best_params(xgb,xgb_params)\n",
        "print_best_params(lgb_reg,lgb_params)\n",
        "print_best_params(ridge,Ridge_params)\n",
        "print_best_params(lasso,lasso_params)"
      ],
      "execution_count": null,
      "outputs": [
        {
          "output_type": "stream",
          "name": "stdout",
          "text": [
            "model name is KNeighborsRegressor,Grid best score:-3458.5501989157733, Grid best_params_:{'n_neighbors': 4} \n",
            "model name is RandomForestRegressor,Grid best score:-1715.3496565899343, Grid best_params_:{'max_depth': 4, 'min_samples_leaf': 3, 'min_samples_split': 2, 'n_estimators': 100} \n",
            "model name is DecisionTreeRegressor,Grid best score:-2033.204198431899, Grid best_params_:{'max_depth': 4, 'min_samples_leaf': 3, 'min_samples_split': 2} \n",
            "model name is AdaBoostRegressor,Grid best score:-2149.0152774244843, Grid best_params_:{'n_estimators': 40} \n",
            "model name is XGBRegressor,Grid best score:-1477.5776373356193, Grid best_params_:{'gamma': 0.12889993895241564, 'max_depth': 4, 'n_estimators': 100} \n",
            "model name is LGBMRegressor,Grid best score:-1524.0959447354717, Grid best_params_:{'gamma': 0.273931886786571, 'max_depth': 6, 'n_estimators': 100} \n",
            "model name is Ridge,Grid best score:-1751.7217163613059, Grid best_params_:{'alpha': 0.1, 'fit_intercept': True, 'normalize': False} \n",
            "model name is Lasso,Grid best score:-1754.1340908572297, Grid best_params_:{'alpha': 0.1, 'fit_intercept': True, 'normalize': False} \n"
          ]
        }
      ]
    },
    {
      "cell_type": "code",
      "metadata": {
        "id": "JtuL3RurZkC6"
      },
      "source": [
        "knn=KNeighborsRegressor(n_jobs = -1)\n",
        "rf = RandomForestRegressor(max_depth= 4, min_samples_leaf= 2, min_samples_split= 2,n_jobs = -1, random_state=2021)\n",
        "dt = DecisionTreeRegressor(max_depth= 4, min_samples_leaf= 4, min_samples_split= 2,random_state=2021)\n",
        "xgb = XGBRegressor(gamma= 0.25883224322873616, max_depth= 4, n_estimators= 100, verbosity = 0, random_state=2021)\n",
        "ada = AdaBoostRegressor(n_estimators= 40,random_state=2021)\n",
        "ridge=lm.Ridge(alpha= 0.01, fit_intercept= True, normalize= True)\n",
        "lasso=lm.Lasso(alpha= 1.0, fit_intercept= True, normalize= False)\n",
        "\n",
        "#최종 메타 모델\n",
        "lgb_reg=lgb.LGBMRegressor(gamma= 0.08826298344672961, max_depth= 4)"
      ],
      "execution_count": null,
      "outputs": []
    },
    {
      "cell_type": "code",
      "metadata": {
        "id": "ZRVjTiCP3jdB"
      },
      "source": [
        "def get_stacking_base_datasets(model, x_train, y_train, test, n_folds):\n",
        " \n",
        "  # 지정된 n_folds 값으로 kFold 생성\n",
        "  kf = KFold(n_splits=n_folds, shuffle=False , random_state=2021)\n",
        "  #추후에 메타 모델이 사용할 학습 데잍 반환을 위한 넘파이 배열 초기화\n",
        "  train_fold_pred = np.zeros((x_train.shape[0],1)) #(1459,1)\n",
        "  test_fold_pred = np.zeros((test.shape[0],n_folds)) #(715,5)\n",
        "  print(model.__class__.__name__,\"model 시작\")\n",
        "\n",
        "  for folder_counter,(train_index,valid_index) in enumerate(kf.split(x_train)):\n",
        "    # print('train_index:',train_index,'valid_index:',valid_index)\n",
        "    # print('valid 갯수:',len(valid_index))\n",
        "    # print('\\t 폴드 세트:', folder_counter,\"시작\")\n",
        "\n",
        "    #입력된 학습 데이터에서 기반 모델이 학습/예측할 폴드데이터 세트 추출\n",
        "    x_tr = x_train[train_index]\n",
        "    y_tr = y_train[train_index]\n",
        "    x_te = x_train[valid_index]\n",
        "    \n",
        "    #폴드 세트 내부에서 다시 만들어진 학습데이터로 기반 모델의 학습 수행\n",
        "    model.fit(x_tr,y_tr)\n",
        "    \n",
        "    #폴드 세트 내부에서 다시 만들어진 검증 데이터로 기반 모델 예측 후 데이터 저장\n",
        "    train_fold_pred[valid_index,:]=model.predict(x_te).reshape(-1,1)\n",
        "    \n",
        "    #입력된 원본 테스트 데이터를 폴드 세트내 학습된 기반 모델에서 예측 후 데이터 저장\n",
        "    test_fold_pred[:,folder_counter]=model.predict(test)\n",
        "\n",
        "  #폴드 세트 내에서 원본테스트 데이터르 예측한데이터를 평균하여 테스트 데이터로 생성\n",
        "  test_pred_mean = np.mean(test_fold_pred, axis =1).reshape(-1,1)\n",
        "\n",
        "  #train_fold_pred는 최종 메타 모델이 사용하는 학습 데이터, test_pred_mean은 테스트 데이터\n",
        "  return train_fold_pred, test_pred_mean"
      ],
      "execution_count": null,
      "outputs": []
    },
    {
      "cell_type": "code",
      "metadata": {
        "id": "xMWpOzY33jkT",
        "colab": {
          "base_uri": "https://localhost:8080/"
        },
        "outputId": "c1fcf2fd-fdd4-4c66-ad1b-3b913805a1a5"
      },
      "source": [
        "x_train_n=x_train.values\n",
        "y_train_n=y_train.values\n",
        "test_n=test.values\n",
        "n_fold=5\n",
        "\n",
        "knn_train,knn_test = get_stacking_base_datasets(knn,x_train_n,y_train_n,test_n,n_fold)\n",
        "rf_train,rf_test = get_stacking_base_datasets(rf,x_train_n,y_train_n,test_n,n_fold)\n",
        "xgb_train,xgb_test = get_stacking_base_datasets(xgb,x_train_n,y_train_n,test_n,n_fold)\n",
        "# df_train,df_test = get_stacking_base_datasets(df,x_train_n,y_train_n,test_n,n_fold)\n",
        "ada_train,ada_test = get_stacking_base_datasets(ada,x_train_n,y_train_n,test_n,n_fold)"
      ],
      "execution_count": null,
      "outputs": [
        {
          "output_type": "stream",
          "name": "stdout",
          "text": [
            "KNeighborsRegressor model 시작\n",
            "RandomForestRegressor model 시작\n",
            "XGBRegressor model 시작\n",
            "AdaBoostRegressor model 시작\n"
          ]
        }
      ]
    },
    {
      "cell_type": "code",
      "metadata": {
        "id": "VIBS561YJUR3"
      },
      "source": [
        "stack_final_x_train=np.concatenate((knn_train,rf_train,xgb_train,ada_train),axis=1)\n",
        "stack_final_x_test=np.concatenate((knn_test,rf_test,xgb_test,ada_test), axis=1)\n",
        "\n",
        "# print('원본 학습 피처 데이터 shape:', x_train.shape, '원본 테스트 피처 shape:',x_test.shape)\n",
        "# print('스태킹 학습 피처 데이터 shape:', stack_final_x_train.shape, '스태킹 테스트 피처 데이터 shape:',stack_final_x_test.shape)"
      ],
      "execution_count": null,
      "outputs": []
    },
    {
      "cell_type": "code",
      "metadata": {
        "colab": {
          "base_uri": "https://localhost:8080/"
        },
        "id": "SzPY4hHuItgn",
        "outputId": "0b04d92e-8e57-4f4b-f361-fee174469464"
      },
      "source": [
        "stack_final_x_test.shape"
      ],
      "execution_count": null,
      "outputs": [
        {
          "output_type": "execute_result",
          "data": {
            "text/plain": [
              "(715, 4)"
            ]
          },
          "metadata": {},
          "execution_count": 84
        }
      ]
    },
    {
      "cell_type": "code",
      "metadata": {
        "id": "FhOLmpp8JU-h"
      },
      "source": [
        "lgb_reg.fit(stack_final_x_train,y_train) #원본 학습 label과 fit\n",
        "stack_final=lgb_reg.predict(stack_final_x_test)\n",
        "# evaluate(Y_test, stack_final)"
      ],
      "execution_count": null,
      "outputs": []
    },
    {
      "cell_type": "code",
      "metadata": {
        "id": "SAHptaIfHuA9"
      },
      "source": [
        "submission.iloc[:,1] = stack_final\n",
        "submission.set_index(\"id\")\n",
        "submission.to_csv('lgb_stacking_all_optimize.csv', index=False)"
      ],
      "execution_count": null,
      "outputs": []
    }
  ]
}